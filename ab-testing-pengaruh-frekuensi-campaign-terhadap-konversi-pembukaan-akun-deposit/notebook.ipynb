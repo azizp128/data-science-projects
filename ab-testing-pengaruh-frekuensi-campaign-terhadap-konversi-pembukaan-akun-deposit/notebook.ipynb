{
 "cells": [
  {
   "cell_type": "code",
   "execution_count": 10,
   "id": "f5ccf075-f216-43db-ad64-da0704e6066f",
   "metadata": {},
   "outputs": [],
   "source": [
    "import pandas as pd\n",
    "import matplotlib.pyplot as plt\n",
    "import numpy as np\n",
    "import seaborn as sns\n",
    "from scipy import stats"
   ]
  },
  {
   "cell_type": "markdown",
   "id": "53a97743-6a97-4e89-92ed-4d0e609df54d",
   "metadata": {},
   "source": [
    "# Project Definition"
   ]
  },
  {
   "cell_type": "markdown",
   "id": "8f5ea261-490f-49ad-a1d1-2d2c54e2d4c2",
   "metadata": {},
   "source": [
    "Kasus yang akan digunakan adalah membuka akun deposit untuk nasabah bank. Pada kesempatan kali ini data scientist diminta tolong untuk menganalisa hasil AB-testing suatu perusahaan bank. Apakah jumlah campaign mampu meningkatkan keinginan user untuk membuka akun deposit atau tidak?\n",
    "\n",
    "Data yang digunakan berasal dari folder bank.zip ﬁle yang digunakan adalah **bank-full.csv**\n",
    "1. Untuk variabel jumlah campaign bisa dicek untuk kolom **campaign**\n",
    "2. Untuk variabel apakah akhirnya user membuka akun atau tidak bisa menggunakan **variabel y**"
   ]
  },
  {
   "cell_type": "markdown",
   "id": "22333b79-d96b-4a8d-865e-8d75930ddead",
   "metadata": {},
   "source": [
    "# Pemahaman Konsep A/B Testing"
   ]
  },
  {
   "cell_type": "markdown",
   "id": "e39be6f3-f943-4c71-9e9a-ea1078aee0b3",
   "metadata": {},
   "source": [
    "**Nama eksperimen**\n",
    "\n",
    "Pengaruh Jumlah Campaign terhadap Keputusan Membuka Akun Deposit\n",
    "\n",
    "**Definisi Hipotesis**\n",
    "- Hipotesis Nol (H₀): Mean campaign untuk grup \"yes\" ≠ Mean campaign untuk grup \"no\". (jumlah campaign tidak berpengaruh terhadap kemungkinan user membuka akun deposit)\n",
    "- Hipotesis Alternatif (H₁): Mean campaign untuk grup \"yes\" ≠ Mean campaign untuk grup \"no\". (jumlah campaign berpengaruh terhadap kemungkinan user membuka akun deposit)\n",
    "\n",
    "**Siapa participant-nya?**\n",
    "\n",
    "Semua nasabah (user) yang masuk dalam data bank-full.csv (total 4.521 user).\n",
    "\n",
    "**Variabel yang diuji**\n",
    "- Independen (X): Jumlah campaign (kolom campaign)\n",
    "- Dependen (Y): Keputusan membuka akun (y, bernilai yes atau no)\n",
    "\n",
    "**Metrics yang digunakan**\n",
    "- Conversion Rate (jumlah user yang mengatakan “yes”)\n",
    "- Bisa dibandingkan berdasarkan jumlah campaign menggunakan rata-rata campaign pada dua grup: y = yes vs y = no.\n",
    "\n",
    "**Sample size dan durasi eksperimen**\n",
    "- Sample Size: 4.521 data observasi\n",
    "- Durasi: Tidak disebutkan dalam data, jadi diasumsikan selesai pada saat data dikumpulkan (retrospektif analysis, bukan live A/B Test)"
   ]
  },
  {
   "cell_type": "markdown",
   "id": "5fd9c641-a287-4001-ae89-84a9e2d10980",
   "metadata": {},
   "source": [
    "# Pengujian Hipotesis"
   ]
  },
  {
   "cell_type": "markdown",
   "id": "60a4d8dd-2a97-458d-a1ee-6391b9835242",
   "metadata": {},
   "source": [
    "### A: Penentuan Hipotesis"
   ]
  },
  {
   "cell_type": "markdown",
   "id": "a62f32d4-b66d-4411-8289-346a4bd874d6",
   "metadata": {},
   "source": [
    "- **H₀**: Mean campaign untuk grup \"yes\" = Mean campaign untuk grup \"no\"\n",
    "- **H₁**: Mean campaign untuk grup \"yes\" ≠ Mean campaign untuk grup \"no\""
   ]
  },
  {
   "cell_type": "markdown",
   "id": "525b55d7-ab3a-45aa-8b70-dd1a33590e38",
   "metadata": {},
   "source": [
    "### B: Pengujian yang Digunakan"
   ]
  },
  {
   "cell_type": "markdown",
   "id": "3bdaf12e-b974-4ba8-b849-cb3d20753a87",
   "metadata": {},
   "source": [
    "Uji T dua sampel (Independent T-Test) karena:\n",
    "- Variabel target y terdiri dari dua grup (yes/no)\n",
    "- Ingin membandingkan rata-rata campaign di dua grup tersebut"
   ]
  },
  {
   "cell_type": "markdown",
   "id": "dec97a80-b01b-451b-ae55-49e35a9287b0",
   "metadata": {},
   "source": [
    "### C: Deteksi Asumsi dan Penanganan"
   ]
  },
  {
   "cell_type": "markdown",
   "id": "80f625b2-c3f9-4739-be4a-71b153780279",
   "metadata": {},
   "source": [
    "Sebelum melakukan uji T dua sampel, kita perlu memastikan beberapa asumsi dasar terpenuhi:\n",
    "\n",
    "1. **Independensi Observasi**\n",
    "    - Diasumsikan data diambil secara independen. Karena ini adalah data retrospektif dan observasi individual terhadap nasabah, maka asumsi ini dianggap terpenuhi.\n",
    "2. **Distribusi Normal** dari masing-masing grup (jumlah campaign untuk user \"yes\" dan \"no\")\n",
    "    - Dapat dicek dengan uji normalitas seperti Shapiro-Wilk atau dengan melihat histogram/QQ-plot.\n",
    "    - Namun, karena ukuran sampel cukup besar (>30 untuk masing-masing grup), Central Limit Theorem berlaku, sehingga asumsi normalitas dapat dilonggarkan.\n",
    "3. **Homogenitas varians** (kesamaan varians) antar dua grup\n",
    "    - Bisa diuji dengan Levene’s Test.\n",
    "    - Jika hasil Levene menunjukkan varians tidak sama, maka gunakan Welch’s t-test."
   ]
  },
  {
   "cell_type": "markdown",
   "id": "cbbfe0e2-fb85-4afd-ad63-8ea9359c954e",
   "metadata": {},
   "source": [
    "### D: Hasil Pengujian Hipotesis"
   ]
  },
  {
   "cell_type": "code",
   "execution_count": 11,
   "id": "45e2429b-846c-430a-b7e5-44c2b3447f19",
   "metadata": {},
   "outputs": [
    {
     "data": {
      "text/html": [
       "<div>\n",
       "<style scoped>\n",
       "    .dataframe tbody tr th:only-of-type {\n",
       "        vertical-align: middle;\n",
       "    }\n",
       "\n",
       "    .dataframe tbody tr th {\n",
       "        vertical-align: top;\n",
       "    }\n",
       "\n",
       "    .dataframe thead th {\n",
       "        text-align: right;\n",
       "    }\n",
       "</style>\n",
       "<table border=\"1\" class=\"dataframe\">\n",
       "  <thead>\n",
       "    <tr style=\"text-align: right;\">\n",
       "      <th></th>\n",
       "      <th>age</th>\n",
       "      <th>job</th>\n",
       "      <th>marital</th>\n",
       "      <th>education</th>\n",
       "      <th>default</th>\n",
       "      <th>balance</th>\n",
       "      <th>housing</th>\n",
       "      <th>loan</th>\n",
       "      <th>contact</th>\n",
       "      <th>day</th>\n",
       "      <th>month</th>\n",
       "      <th>duration</th>\n",
       "      <th>campaign</th>\n",
       "      <th>pdays</th>\n",
       "      <th>previous</th>\n",
       "      <th>poutcome</th>\n",
       "      <th>y</th>\n",
       "    </tr>\n",
       "  </thead>\n",
       "  <tbody>\n",
       "    <tr>\n",
       "      <th>0</th>\n",
       "      <td>58</td>\n",
       "      <td>management</td>\n",
       "      <td>married</td>\n",
       "      <td>tertiary</td>\n",
       "      <td>no</td>\n",
       "      <td>2143</td>\n",
       "      <td>yes</td>\n",
       "      <td>no</td>\n",
       "      <td>unknown</td>\n",
       "      <td>5</td>\n",
       "      <td>may</td>\n",
       "      <td>261</td>\n",
       "      <td>1</td>\n",
       "      <td>-1</td>\n",
       "      <td>0</td>\n",
       "      <td>unknown</td>\n",
       "      <td>no</td>\n",
       "    </tr>\n",
       "    <tr>\n",
       "      <th>1</th>\n",
       "      <td>44</td>\n",
       "      <td>technician</td>\n",
       "      <td>single</td>\n",
       "      <td>secondary</td>\n",
       "      <td>no</td>\n",
       "      <td>29</td>\n",
       "      <td>yes</td>\n",
       "      <td>no</td>\n",
       "      <td>unknown</td>\n",
       "      <td>5</td>\n",
       "      <td>may</td>\n",
       "      <td>151</td>\n",
       "      <td>1</td>\n",
       "      <td>-1</td>\n",
       "      <td>0</td>\n",
       "      <td>unknown</td>\n",
       "      <td>no</td>\n",
       "    </tr>\n",
       "    <tr>\n",
       "      <th>2</th>\n",
       "      <td>33</td>\n",
       "      <td>entrepreneur</td>\n",
       "      <td>married</td>\n",
       "      <td>secondary</td>\n",
       "      <td>no</td>\n",
       "      <td>2</td>\n",
       "      <td>yes</td>\n",
       "      <td>yes</td>\n",
       "      <td>unknown</td>\n",
       "      <td>5</td>\n",
       "      <td>may</td>\n",
       "      <td>76</td>\n",
       "      <td>1</td>\n",
       "      <td>-1</td>\n",
       "      <td>0</td>\n",
       "      <td>unknown</td>\n",
       "      <td>no</td>\n",
       "    </tr>\n",
       "    <tr>\n",
       "      <th>3</th>\n",
       "      <td>47</td>\n",
       "      <td>blue-collar</td>\n",
       "      <td>married</td>\n",
       "      <td>unknown</td>\n",
       "      <td>no</td>\n",
       "      <td>1506</td>\n",
       "      <td>yes</td>\n",
       "      <td>no</td>\n",
       "      <td>unknown</td>\n",
       "      <td>5</td>\n",
       "      <td>may</td>\n",
       "      <td>92</td>\n",
       "      <td>1</td>\n",
       "      <td>-1</td>\n",
       "      <td>0</td>\n",
       "      <td>unknown</td>\n",
       "      <td>no</td>\n",
       "    </tr>\n",
       "    <tr>\n",
       "      <th>4</th>\n",
       "      <td>33</td>\n",
       "      <td>unknown</td>\n",
       "      <td>single</td>\n",
       "      <td>unknown</td>\n",
       "      <td>no</td>\n",
       "      <td>1</td>\n",
       "      <td>no</td>\n",
       "      <td>no</td>\n",
       "      <td>unknown</td>\n",
       "      <td>5</td>\n",
       "      <td>may</td>\n",
       "      <td>198</td>\n",
       "      <td>1</td>\n",
       "      <td>-1</td>\n",
       "      <td>0</td>\n",
       "      <td>unknown</td>\n",
       "      <td>no</td>\n",
       "    </tr>\n",
       "  </tbody>\n",
       "</table>\n",
       "</div>"
      ],
      "text/plain": [
       "   age           job  marital  education default  balance housing loan  \\\n",
       "0   58    management  married   tertiary      no     2143     yes   no   \n",
       "1   44    technician   single  secondary      no       29     yes   no   \n",
       "2   33  entrepreneur  married  secondary      no        2     yes  yes   \n",
       "3   47   blue-collar  married    unknown      no     1506     yes   no   \n",
       "4   33       unknown   single    unknown      no        1      no   no   \n",
       "\n",
       "   contact  day month  duration  campaign  pdays  previous poutcome   y  \n",
       "0  unknown    5   may       261         1     -1         0  unknown  no  \n",
       "1  unknown    5   may       151         1     -1         0  unknown  no  \n",
       "2  unknown    5   may        76         1     -1         0  unknown  no  \n",
       "3  unknown    5   may        92         1     -1         0  unknown  no  \n",
       "4  unknown    5   may       198         1     -1         0  unknown  no  "
      ]
     },
     "execution_count": 11,
     "metadata": {},
     "output_type": "execute_result"
    }
   ],
   "source": [
    "bank = pd.read_csv(\"datasets/bank-full.csv\", sep=\";\")\n",
    "bank.head()"
   ]
  },
  {
   "cell_type": "code",
   "execution_count": 12,
   "id": "3df01971-d83e-4bac-ad78-f823860247c2",
   "metadata": {},
   "outputs": [
    {
     "name": "stdout",
     "output_type": "stream",
     "text": [
      "Jumlah Yes: 5289\n",
      "Jumlah No: 39922\n"
     ]
    }
   ],
   "source": [
    "# Pisahkan data berdasarkan keputusan membuka akun\n",
    "campaign_yes = bank[bank['y'] == 'yes']['campaign']\n",
    "campaign_no = bank[bank['y'] == 'no']['campaign']\n",
    "\n",
    "print(f\"Jumlah Yes: {campaign_yes.shape[0]}\")\n",
    "print(f\"Jumlah No: {campaign_no.shape[0]}\")"
   ]
  },
  {
   "cell_type": "code",
   "execution_count": 17,
   "id": "0fcc384c-737c-41b3-9246-acfab231fae5",
   "metadata": {},
   "outputs": [
    {
     "name": "stdout",
     "output_type": "stream",
     "text": [
      "Mean Yes: 2.14\n",
      "Mean No: 2.85\n"
     ]
    }
   ],
   "source": [
    "# Hitung statistik deskriptif\n",
    "mean_yes = campaign_yes.mean()\n",
    "mean_no = campaign_no.mean()\n",
    "std_yes = campaign_yes.std()\n",
    "std_no = campaign_no.std()\n",
    "\n",
    "print(f\"Mean Yes: {mean_yes.round(2)}\")\n",
    "print(f\"Mean No: {mean_no.round(2)}\")"
   ]
  },
  {
   "cell_type": "code",
   "execution_count": 18,
   "id": "6b613515-6e12-4822-869f-3d5f53b43d03",
   "metadata": {},
   "outputs": [
    {
     "name": "stdout",
     "output_type": "stream",
     "text": [
      "Levene's test p-value: 8.220318168029953e-33\n"
     ]
    }
   ],
   "source": [
    "# Uji Levene untuk homogenitas varians\n",
    "levene_test = stats.levene(campaign_yes, campaign_no)\n",
    "\n",
    "print(f\"Levene's test p-value: {levene_test.pvalue}\")"
   ]
  },
  {
   "cell_type": "code",
   "execution_count": 19,
   "id": "fe76e502-b6c1-4e91-87ee-862899dc4d2c",
   "metadata": {},
   "outputs": [
    {
     "name": "stdout",
     "output_type": "stream",
     "text": [
      "\n",
      "Rata-rata campaign (yes): 2.14\n",
      "Rata-rata campaign (no): 2.85\n",
      "Statistik t: -22.8007\n",
      "p-value: 0.000000\n"
     ]
    }
   ],
   "source": [
    "# Uji T Dua Sampel (Welch jika varians tidak sama)\n",
    "t_test = stats.ttest_ind(campaign_yes, campaign_no, equal_var=False)\n",
    "\n",
    "print(f\"\\nRata-rata campaign (yes): {mean_yes:.2f}\")\n",
    "print(f\"Rata-rata campaign (no): {mean_no:.2f}\")\n",
    "print(f\"Statistik t: {t_test.statistic:.4f}\")\n",
    "print(f\"p-value: {t_test.pvalue:.6f}\")"
   ]
  },
  {
   "cell_type": "code",
   "execution_count": 16,
   "id": "dcc6f887-82fc-4c8b-befc-a9de94434121",
   "metadata": {},
   "outputs": [
    {
     "name": "stdout",
     "output_type": "stream",
     "text": [
      "Tolak H₀.\n",
      "Terdapat perbedaan signifikan antara jumlah campaign pada grup 'yes' dan 'no'.\n",
      "Jumlah campaign berpengaruh terhadap kemungkinan user membuka akun deposit.\n"
     ]
    }
   ],
   "source": [
    "# Interpretasi\n",
    "if t_test.pvalue <= 0.05:\n",
    "    print(\"Tolak H₀.\\nTerdapat perbedaan signifikan antara jumlah campaign pada grup 'yes' dan 'no'.\\nJumlah campaign berpengaruh terhadap kemungkinan user membuka akun deposit.\")\n",
    "else:\n",
    "    print(\"Gagal menolak H₀.\\nTidak terdapat perbedaan signifikan antara jumlah campaign pada grup 'yes' dan 'no'.\\nJumlah campaign tidak berpengaruh terhadap kemungkinan user membuka akun deposit.\")"
   ]
  },
  {
   "cell_type": "markdown",
   "id": "e48b9ae8-3964-4318-b9ea-739c4ee3778e",
   "metadata": {},
   "source": [
    "## E: Kesimpulan dan Interpretasi"
   ]
  },
  {
   "cell_type": "markdown",
   "id": "1101d7e3-5228-4869-b7ee-0fabd6310322",
   "metadata": {},
   "source": [
    "**Kesimpulan**:\n",
    "- Karena p-value <= 0.05, kita menolak hipotesis nol (H₀) yang menyatakan tidak ada perbedaan jumlah campaign antara grup 'yes' dan 'no'.\n",
    "- Ini berarti, jumlah campaign berpengaruh secara signifikan terhadap keputusan user membuka akun deposit.\n",
    "- Namun, hasil ini menunjukkan bahwa rata-rata jumlah campaign untuk grup yang membuka akun (2.27) lebih rendah dibandingkan dengan yang tidak membuka akun (2.86).\n",
    "\n",
    "**Interpretasi**:\n",
    "- Meskipun lebih banyak campaign umumnya dianggap dapat meningkatkan konversi, dalam hal ini user yang membuka akun cenderung menerima lebih sedikit campaign.\n",
    "- Kesimpulan ini bisa menunjukkan bahwa campaign yang terlalu banyak atau agresif mungkin malah berdampak negatif, mengurangi minat atau keinginan user untuk membuka akun deposit.\n",
    "- Ini mengindikasikan bahwa campaign yang terlalu sering atau agresif mungkin mengganggu atau menurunkan minat user, sehingga berpotensi kontraproduktif."
   ]
  }
 ],
 "metadata": {
  "kernelspec": {
   "display_name": "General Kernel",
   "language": "python",
   "name": "general"
  },
  "language_info": {
   "codemirror_mode": {
    "name": "ipython",
    "version": 3
   },
   "file_extension": ".py",
   "mimetype": "text/x-python",
   "name": "python",
   "nbconvert_exporter": "python",
   "pygments_lexer": "ipython3",
   "version": "3.13.2"
  }
 },
 "nbformat": 4,
 "nbformat_minor": 5
}
