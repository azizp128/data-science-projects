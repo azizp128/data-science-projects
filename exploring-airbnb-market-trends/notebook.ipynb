{
 "cells": [
  {
   "cell_type": "markdown",
   "id": "6a452c92",
   "metadata": {},
   "source": [
    "# Import Libraries & Datasets"
   ]
  },
  {
   "cell_type": "code",
   "execution_count": 2,
   "id": "1fdc5784-479e-46cb-b05b-68439dcc94a7",
   "metadata": {
    "executionCancelledAt": null,
    "executionTime": 1352,
    "lastExecutedAt": 1735551150026,
    "lastExecutedByKernel": "9a50aa60-7fc7-4bc5-979c-7f5347fcb5d8",
    "lastScheduledRunId": null,
    "lastSuccessfullyExecutedCode": "# Import necessary packages\nimport pandas as pd\nimport numpy as np\n\n# Import datasets\nairbnb_price = pd.read_csv(\"data/airbnb_price.csv\")\nairbnb_room_type = pd.read_excel(\"data/airbnb_room_type.xlsx\")\nairbnb_last_review = pd.read_csv(\"data/airbnb_last_review.tsv\", sep = '\\t')"
   },
   "outputs": [],
   "source": [
    "# Import necessary packages\n",
    "import pandas as pd\n",
    "import numpy as np\n",
    "\n",
    "# Import datasets\n",
    "airbnb_price = pd.read_csv(\"data/airbnb_price.csv\")\n",
    "airbnb_room_type = pd.read_excel(\"data/airbnb_room_type.xlsx\")\n",
    "airbnb_last_review = pd.read_csv(\"data/airbnb_last_review.tsv\", sep = '\\t')"
   ]
  },
  {
   "cell_type": "code",
   "execution_count": 3,
   "id": "90788b4f-5331-4f48-b961-f0ada3d0a9dc",
   "metadata": {
    "executionCancelledAt": null,
    "executionTime": 55,
    "lastExecutedAt": 1735551150082,
    "lastExecutedByKernel": "9a50aa60-7fc7-4bc5-979c-7f5347fcb5d8",
    "lastScheduledRunId": null,
    "lastSuccessfullyExecutedCode": "airbnb_price.head()",
    "outputsMetadata": {
     "0": {
      "height": 500,
      "tableState": {
       "quickFilterText": ""
      },
      "type": "dataFrame"
     }
    }
   },
   "outputs": [
    {
     "data": {
      "text/html": [
       "<div>\n",
       "<style scoped>\n",
       "    .dataframe tbody tr th:only-of-type {\n",
       "        vertical-align: middle;\n",
       "    }\n",
       "\n",
       "    .dataframe tbody tr th {\n",
       "        vertical-align: top;\n",
       "    }\n",
       "\n",
       "    .dataframe thead th {\n",
       "        text-align: right;\n",
       "    }\n",
       "</style>\n",
       "<table border=\"1\" class=\"dataframe\">\n",
       "  <thead>\n",
       "    <tr style=\"text-align: right;\">\n",
       "      <th></th>\n",
       "      <th>listing_id</th>\n",
       "      <th>price</th>\n",
       "      <th>nbhood_full</th>\n",
       "    </tr>\n",
       "  </thead>\n",
       "  <tbody>\n",
       "    <tr>\n",
       "      <th>0</th>\n",
       "      <td>2595</td>\n",
       "      <td>225 dollars</td>\n",
       "      <td>Manhattan, Midtown</td>\n",
       "    </tr>\n",
       "    <tr>\n",
       "      <th>1</th>\n",
       "      <td>3831</td>\n",
       "      <td>89 dollars</td>\n",
       "      <td>Brooklyn, Clinton Hill</td>\n",
       "    </tr>\n",
       "    <tr>\n",
       "      <th>2</th>\n",
       "      <td>5099</td>\n",
       "      <td>200 dollars</td>\n",
       "      <td>Manhattan, Murray Hill</td>\n",
       "    </tr>\n",
       "    <tr>\n",
       "      <th>3</th>\n",
       "      <td>5178</td>\n",
       "      <td>79 dollars</td>\n",
       "      <td>Manhattan, Hell's Kitchen</td>\n",
       "    </tr>\n",
       "    <tr>\n",
       "      <th>4</th>\n",
       "      <td>5238</td>\n",
       "      <td>150 dollars</td>\n",
       "      <td>Manhattan, Chinatown</td>\n",
       "    </tr>\n",
       "  </tbody>\n",
       "</table>\n",
       "</div>"
      ],
      "text/plain": [
       "   listing_id        price                nbhood_full\n",
       "0        2595  225 dollars         Manhattan, Midtown\n",
       "1        3831   89 dollars     Brooklyn, Clinton Hill\n",
       "2        5099  200 dollars     Manhattan, Murray Hill\n",
       "3        5178   79 dollars  Manhattan, Hell's Kitchen\n",
       "4        5238  150 dollars       Manhattan, Chinatown"
      ]
     },
     "execution_count": 3,
     "metadata": {},
     "output_type": "execute_result"
    }
   ],
   "source": [
    "airbnb_price.head()"
   ]
  },
  {
   "cell_type": "code",
   "execution_count": 4,
   "id": "9af6df0a-6c5b-462c-b809-588984223965",
   "metadata": {
    "executionCancelledAt": null,
    "executionTime": 55,
    "lastExecutedAt": 1735551150137,
    "lastExecutedByKernel": "9a50aa60-7fc7-4bc5-979c-7f5347fcb5d8",
    "lastScheduledRunId": null,
    "lastSuccessfullyExecutedCode": "airbnb_price.info()"
   },
   "outputs": [
    {
     "name": "stdout",
     "output_type": "stream",
     "text": [
      "<class 'pandas.core.frame.DataFrame'>\n",
      "RangeIndex: 25209 entries, 0 to 25208\n",
      "Data columns (total 3 columns):\n",
      " #   Column       Non-Null Count  Dtype \n",
      "---  ------       --------------  ----- \n",
      " 0   listing_id   25209 non-null  int64 \n",
      " 1   price        25209 non-null  object\n",
      " 2   nbhood_full  25209 non-null  object\n",
      "dtypes: int64(1), object(2)\n",
      "memory usage: 591.0+ KB\n"
     ]
    }
   ],
   "source": [
    "airbnb_price.info()"
   ]
  },
  {
   "cell_type": "code",
   "execution_count": 5,
   "id": "ea5a70d3-151d-4df0-ae3d-9faa8ffb6534",
   "metadata": {
    "executionCancelledAt": null,
    "executionTime": 52,
    "lastExecutedAt": 1735551150189,
    "lastExecutedByKernel": "9a50aa60-7fc7-4bc5-979c-7f5347fcb5d8",
    "lastScheduledRunId": null,
    "lastSuccessfullyExecutedCode": "airbnb_room_type.head()"
   },
   "outputs": [
    {
     "data": {
      "text/html": [
       "<div>\n",
       "<style scoped>\n",
       "    .dataframe tbody tr th:only-of-type {\n",
       "        vertical-align: middle;\n",
       "    }\n",
       "\n",
       "    .dataframe tbody tr th {\n",
       "        vertical-align: top;\n",
       "    }\n",
       "\n",
       "    .dataframe thead th {\n",
       "        text-align: right;\n",
       "    }\n",
       "</style>\n",
       "<table border=\"1\" class=\"dataframe\">\n",
       "  <thead>\n",
       "    <tr style=\"text-align: right;\">\n",
       "      <th></th>\n",
       "      <th>listing_id</th>\n",
       "      <th>description</th>\n",
       "      <th>room_type</th>\n",
       "    </tr>\n",
       "  </thead>\n",
       "  <tbody>\n",
       "    <tr>\n",
       "      <th>0</th>\n",
       "      <td>2595</td>\n",
       "      <td>Skylit Midtown Castle</td>\n",
       "      <td>Entire home/apt</td>\n",
       "    </tr>\n",
       "    <tr>\n",
       "      <th>1</th>\n",
       "      <td>3831</td>\n",
       "      <td>Cozy Entire Floor of Brownstone</td>\n",
       "      <td>Entire home/apt</td>\n",
       "    </tr>\n",
       "    <tr>\n",
       "      <th>2</th>\n",
       "      <td>5099</td>\n",
       "      <td>Large Cozy 1 BR Apartment In Midtown East</td>\n",
       "      <td>Entire home/apt</td>\n",
       "    </tr>\n",
       "    <tr>\n",
       "      <th>3</th>\n",
       "      <td>5178</td>\n",
       "      <td>Large Furnished Room Near B'way</td>\n",
       "      <td>private room</td>\n",
       "    </tr>\n",
       "    <tr>\n",
       "      <th>4</th>\n",
       "      <td>5238</td>\n",
       "      <td>Cute &amp; Cozy Lower East Side 1 bdrm</td>\n",
       "      <td>Entire home/apt</td>\n",
       "    </tr>\n",
       "  </tbody>\n",
       "</table>\n",
       "</div>"
      ],
      "text/plain": [
       "   listing_id                                description        room_type\n",
       "0        2595                      Skylit Midtown Castle  Entire home/apt\n",
       "1        3831            Cozy Entire Floor of Brownstone  Entire home/apt\n",
       "2        5099  Large Cozy 1 BR Apartment In Midtown East  Entire home/apt\n",
       "3        5178            Large Furnished Room Near B'way     private room\n",
       "4        5238         Cute & Cozy Lower East Side 1 bdrm  Entire home/apt"
      ]
     },
     "execution_count": 5,
     "metadata": {},
     "output_type": "execute_result"
    }
   ],
   "source": [
    "airbnb_room_type.head()"
   ]
  },
  {
   "cell_type": "code",
   "execution_count": 6,
   "id": "9830a2f6-f16d-4f76-a22c-bbf08c524671",
   "metadata": {
    "executionCancelledAt": null,
    "executionTime": 52,
    "lastExecutedAt": 1735551150241,
    "lastExecutedByKernel": "9a50aa60-7fc7-4bc5-979c-7f5347fcb5d8",
    "lastScheduledRunId": null,
    "lastSuccessfullyExecutedCode": "airbnb_room_type.info()"
   },
   "outputs": [
    {
     "name": "stdout",
     "output_type": "stream",
     "text": [
      "<class 'pandas.core.frame.DataFrame'>\n",
      "RangeIndex: 25209 entries, 0 to 25208\n",
      "Data columns (total 3 columns):\n",
      " #   Column       Non-Null Count  Dtype \n",
      "---  ------       --------------  ----- \n",
      " 0   listing_id   25209 non-null  int64 \n",
      " 1   description  25199 non-null  object\n",
      " 2   room_type    25209 non-null  object\n",
      "dtypes: int64(1), object(2)\n",
      "memory usage: 591.0+ KB\n"
     ]
    }
   ],
   "source": [
    "airbnb_room_type.info()"
   ]
  },
  {
   "cell_type": "code",
   "execution_count": 7,
   "id": "adb9adf1-ca74-4493-b684-78d9cf5d0034",
   "metadata": {
    "executionCancelledAt": null,
    "executionTime": 48,
    "lastExecutedAt": 1735551150289,
    "lastExecutedByKernel": "9a50aa60-7fc7-4bc5-979c-7f5347fcb5d8",
    "lastScheduledRunId": null,
    "lastSuccessfullyExecutedCode": "airbnb_last_review.head()",
    "outputsMetadata": {
     "0": {
      "height": 221,
      "tableState": {
       "quickFilterText": ""
      },
      "type": "dataFrame"
     }
    }
   },
   "outputs": [
    {
     "data": {
      "text/html": [
       "<div>\n",
       "<style scoped>\n",
       "    .dataframe tbody tr th:only-of-type {\n",
       "        vertical-align: middle;\n",
       "    }\n",
       "\n",
       "    .dataframe tbody tr th {\n",
       "        vertical-align: top;\n",
       "    }\n",
       "\n",
       "    .dataframe thead th {\n",
       "        text-align: right;\n",
       "    }\n",
       "</style>\n",
       "<table border=\"1\" class=\"dataframe\">\n",
       "  <thead>\n",
       "    <tr style=\"text-align: right;\">\n",
       "      <th></th>\n",
       "      <th>listing_id</th>\n",
       "      <th>host_name</th>\n",
       "      <th>last_review</th>\n",
       "    </tr>\n",
       "  </thead>\n",
       "  <tbody>\n",
       "    <tr>\n",
       "      <th>0</th>\n",
       "      <td>2595</td>\n",
       "      <td>Jennifer</td>\n",
       "      <td>May 21 2019</td>\n",
       "    </tr>\n",
       "    <tr>\n",
       "      <th>1</th>\n",
       "      <td>3831</td>\n",
       "      <td>LisaRoxanne</td>\n",
       "      <td>July 05 2019</td>\n",
       "    </tr>\n",
       "    <tr>\n",
       "      <th>2</th>\n",
       "      <td>5099</td>\n",
       "      <td>Chris</td>\n",
       "      <td>June 22 2019</td>\n",
       "    </tr>\n",
       "    <tr>\n",
       "      <th>3</th>\n",
       "      <td>5178</td>\n",
       "      <td>Shunichi</td>\n",
       "      <td>June 24 2019</td>\n",
       "    </tr>\n",
       "    <tr>\n",
       "      <th>4</th>\n",
       "      <td>5238</td>\n",
       "      <td>Ben</td>\n",
       "      <td>June 09 2019</td>\n",
       "    </tr>\n",
       "  </tbody>\n",
       "</table>\n",
       "</div>"
      ],
      "text/plain": [
       "   listing_id    host_name   last_review\n",
       "0        2595     Jennifer   May 21 2019\n",
       "1        3831  LisaRoxanne  July 05 2019\n",
       "2        5099        Chris  June 22 2019\n",
       "3        5178     Shunichi  June 24 2019\n",
       "4        5238          Ben  June 09 2019"
      ]
     },
     "execution_count": 7,
     "metadata": {},
     "output_type": "execute_result"
    }
   ],
   "source": [
    "airbnb_last_review.head()"
   ]
  },
  {
   "cell_type": "code",
   "execution_count": 8,
   "id": "5e040861-1b3a-4cb8-9aab-31753006d02b",
   "metadata": {
    "executionCancelledAt": null,
    "executionTime": 52,
    "lastExecutedAt": 1735551150341,
    "lastExecutedByKernel": "9a50aa60-7fc7-4bc5-979c-7f5347fcb5d8",
    "lastScheduledRunId": null,
    "lastSuccessfullyExecutedCode": "airbnb_last_review.info()",
    "outputsMetadata": {
     "0": {
      "height": 227,
      "type": "stream"
     }
    }
   },
   "outputs": [
    {
     "name": "stdout",
     "output_type": "stream",
     "text": [
      "<class 'pandas.core.frame.DataFrame'>\n",
      "RangeIndex: 25209 entries, 0 to 25208\n",
      "Data columns (total 3 columns):\n",
      " #   Column       Non-Null Count  Dtype \n",
      "---  ------       --------------  ----- \n",
      " 0   listing_id   25209 non-null  int64 \n",
      " 1   host_name    25201 non-null  object\n",
      " 2   last_review  25209 non-null  object\n",
      "dtypes: int64(1), object(2)\n",
      "memory usage: 591.0+ KB\n"
     ]
    }
   ],
   "source": [
    "airbnb_last_review.info()"
   ]
  },
  {
   "cell_type": "markdown",
   "id": "9f1552ad-20bf-44b4-9ed5-2f65f94b5fb4",
   "metadata": {},
   "source": [
    "# What are the dates of the earliest and most recent reviews?"
   ]
  },
  {
   "cell_type": "code",
   "execution_count": 9,
   "id": "f1eeb513-eaf7-435f-9366-b3c93ac7f800",
   "metadata": {
    "executionCancelledAt": null,
    "executionTime": 48,
    "lastExecutedAt": 1735551150389,
    "lastExecutedByKernel": "9a50aa60-7fc7-4bc5-979c-7f5347fcb5d8",
    "lastScheduledRunId": null,
    "lastSuccessfullyExecutedCode": "# Earliest and most recent review dates\nairbnb_last_review['last_review'] = pd.to_datetime(airbnb_last_review['last_review'])\nearliest_review = airbnb_last_review['last_review'].min()\nmost_recent_review = airbnb_last_review['last_review'].max()\n\nprint(earliest_review)\nprint(most_recent_review)",
    "outputsMetadata": {
     "0": {
      "height": 59,
      "type": "stream"
     }
    }
   },
   "outputs": [
    {
     "name": "stdout",
     "output_type": "stream",
     "text": [
      "2019-01-01 00:00:00\n",
      "2019-07-09 00:00:00\n"
     ]
    }
   ],
   "source": [
    "# Earliest and most recent review dates\n",
    "airbnb_last_review['last_review'] = pd.to_datetime(airbnb_last_review['last_review'])\n",
    "earliest_review = airbnb_last_review['last_review'].min()\n",
    "most_recent_review = airbnb_last_review['last_review'].max()\n",
    "\n",
    "print(earliest_review)\n",
    "print(most_recent_review)"
   ]
  },
  {
   "cell_type": "markdown",
   "id": "5c06513f-0c3e-4516-9d76-5df7776dbfd6",
   "metadata": {},
   "source": [
    "# How many of the listings are private rooms?"
   ]
  },
  {
   "cell_type": "code",
   "execution_count": 10,
   "id": "20efc538-b6f5-4e42-a689-93c59d6189cd",
   "metadata": {
    "executionCancelledAt": null,
    "executionTime": 53,
    "lastExecutedAt": 1735551150442,
    "lastExecutedByKernel": "9a50aa60-7fc7-4bc5-979c-7f5347fcb5d8",
    "lastScheduledRunId": null,
    "lastSuccessfullyExecutedCode": "# Normalize all values in the 'root_type' column\nairbnb_room_type['room_type'] = airbnb_room_type['room_type'].str.lower()\nairbnb_room_type['room_type'].value_counts()",
    "outputsMetadata": {
     "0": {
      "height": 500,
      "tableState": {
       "quickFilterText": ""
      },
      "type": "dataFrame"
     }
    }
   },
   "outputs": [
    {
     "data": {
      "text/plain": [
       "room_type\n",
       "entire home/apt    13266\n",
       "private room       11356\n",
       "shared room          587\n",
       "Name: count, dtype: int64"
      ]
     },
     "execution_count": 10,
     "metadata": {},
     "output_type": "execute_result"
    }
   ],
   "source": [
    "# Normalize all values in the 'root_type' column\n",
    "airbnb_room_type['room_type'] = airbnb_room_type['room_type'].str.lower()\n",
    "airbnb_room_type['room_type'].value_counts()"
   ]
  },
  {
   "cell_type": "code",
   "execution_count": 11,
   "id": "10d863bc-b793-4853-a0f5-cd9d71b4d56b",
   "metadata": {
    "executionCancelledAt": null,
    "executionTime": 51,
    "lastExecutedAt": 1735551150493,
    "lastExecutedByKernel": "9a50aa60-7fc7-4bc5-979c-7f5347fcb5d8",
    "lastScheduledRunId": null,
    "lastSuccessfullyExecutedCode": "# Count of private rooms\nprivate_rooms = airbnb_room_type[airbnb_room_type['room_type'] == 'private room'].shape[0]\n\nprint(private_rooms)"
   },
   "outputs": [
    {
     "name": "stdout",
     "output_type": "stream",
     "text": [
      "11356\n"
     ]
    }
   ],
   "source": [
    "# Count of private rooms\n",
    "private_rooms = airbnb_room_type[airbnb_room_type['room_type'] == 'private room'].shape[0]\n",
    "\n",
    "print(private_rooms)"
   ]
  },
  {
   "cell_type": "markdown",
   "id": "484b37af-ad63-42aa-a5a5-fe508a2c8053",
   "metadata": {},
   "source": [
    "# What is the average listing price?"
   ]
  },
  {
   "cell_type": "code",
   "execution_count": 12,
   "id": "eec11631-8518-49be-8b27-a3fcbbcc4442",
   "metadata": {
    "executionCancelledAt": null,
    "executionTime": 60,
    "lastExecutedAt": 1735551150553,
    "lastExecutedByKernel": "9a50aa60-7fc7-4bc5-979c-7f5347fcb5d8",
    "lastScheduledRunId": null,
    "lastSuccessfullyExecutedCode": "# Remove non-numeric characters and convert to float\nairbnb_price['price'] = airbnb_price['price'].str.replace(' dollars', '', regex=False).astype(float)\n\n# Average listing price\naverage_price = airbnb_price['price'].mean().round(2)\n\nprint(average_price)",
    "outputsMetadata": {
     "0": {
      "height": 38,
      "type": "stream"
     }
    }
   },
   "outputs": [
    {
     "name": "stdout",
     "output_type": "stream",
     "text": [
      "141.78\n"
     ]
    }
   ],
   "source": [
    "# Remove non-numeric characters and convert to float\n",
    "airbnb_price['price'] = airbnb_price['price'].str.replace(' dollars', '', regex=False).astype(float)\n",
    "\n",
    "# Average listing price\n",
    "average_price = airbnb_price['price'].mean().round(2)\n",
    "\n",
    "print(average_price)"
   ]
  },
  {
   "cell_type": "markdown",
   "id": "7605681d-9273-4c8c-bf1d-f0d47acadac1",
   "metadata": {},
   "source": [
    "# Combine the new variables into one DataFrame."
   ]
  },
  {
   "cell_type": "code",
   "execution_count": 13,
   "id": "43694483-48bf-47a4-9654-b88f02df4d39",
   "metadata": {
    "executionCancelledAt": null,
    "executionTime": 56,
    "lastExecutedAt": 1735551150609,
    "lastExecutedByKernel": "9a50aa60-7fc7-4bc5-979c-7f5347fcb5d8",
    "lastScheduledRunId": null,
    "lastSuccessfullyExecutedCode": "# Combine into a DataFrame\nreview_dates = pd.DataFrame({\n    'first_reviewed': [earliest_review],\n    'last_reviewed': [most_recent_review],\n    'nb_private_rooms': [private_rooms],\n    'avg_price': [average_price]\n})\n\nreview_dates",
    "outputsMetadata": {
     "0": {
      "height": 154,
      "tableState": {
       "quickFilterText": ""
      },
      "type": "dataFrame"
     }
    }
   },
   "outputs": [
    {
     "data": {
      "text/html": [
       "<div>\n",
       "<style scoped>\n",
       "    .dataframe tbody tr th:only-of-type {\n",
       "        vertical-align: middle;\n",
       "    }\n",
       "\n",
       "    .dataframe tbody tr th {\n",
       "        vertical-align: top;\n",
       "    }\n",
       "\n",
       "    .dataframe thead th {\n",
       "        text-align: right;\n",
       "    }\n",
       "</style>\n",
       "<table border=\"1\" class=\"dataframe\">\n",
       "  <thead>\n",
       "    <tr style=\"text-align: right;\">\n",
       "      <th></th>\n",
       "      <th>first_reviewed</th>\n",
       "      <th>last_reviewed</th>\n",
       "      <th>nb_private_rooms</th>\n",
       "      <th>avg_price</th>\n",
       "    </tr>\n",
       "  </thead>\n",
       "  <tbody>\n",
       "    <tr>\n",
       "      <th>0</th>\n",
       "      <td>2019-01-01</td>\n",
       "      <td>2019-07-09</td>\n",
       "      <td>11356</td>\n",
       "      <td>141.78</td>\n",
       "    </tr>\n",
       "  </tbody>\n",
       "</table>\n",
       "</div>"
      ],
      "text/plain": [
       "  first_reviewed last_reviewed  nb_private_rooms  avg_price\n",
       "0     2019-01-01    2019-07-09             11356     141.78"
      ]
     },
     "execution_count": 13,
     "metadata": {},
     "output_type": "execute_result"
    }
   ],
   "source": [
    "# Combine into a DataFrame\n",
    "review_dates = pd.DataFrame({\n",
    "    'first_reviewed': [earliest_review],\n",
    "    'last_reviewed': [most_recent_review],\n",
    "    'nb_private_rooms': [private_rooms],\n",
    "    'avg_price': [average_price]\n",
    "})\n",
    "\n",
    "review_dates"
   ]
  }
 ],
 "metadata": {
  "colab": {
   "name": "Welcome to DataCamp Workspaces.ipynb",
   "provenance": []
  },
  "editor": "DataLab",
  "kernelspec": {
   "display_name": "experimentation",
   "language": "python",
   "name": "python3"
  },
  "language_info": {
   "codemirror_mode": {
    "name": "ipython",
    "version": 3
   },
   "file_extension": ".py",
   "mimetype": "text/x-python",
   "name": "python",
   "nbconvert_exporter": "python",
   "pygments_lexer": "ipython3",
   "version": "3.12.3"
  }
 },
 "nbformat": 4,
 "nbformat_minor": 5
}
