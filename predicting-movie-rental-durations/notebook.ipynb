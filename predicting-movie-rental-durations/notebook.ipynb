{
 "cells": [
  {
   "cell_type": "markdown",
   "id": "d316352e",
   "metadata": {},
   "source": [
    "# Import Libraries & Dataset"
   ]
  },
  {
   "cell_type": "code",
   "execution_count": 129,
   "id": "c815f556",
   "metadata": {},
   "outputs": [],
   "source": [
    "import pandas as pd\n",
    "import matplotlib.pyplot as plt\n",
    "import seaborn as sns\n",
    "\n",
    "from lazypredict.Supervised import LazyRegressor\n",
    "from sklearn.model_selection import train_test_split\n",
    "from sklearn.metrics import mean_squared_error\n",
    "from sklearn.metrics import r2_score"
   ]
  },
  {
   "cell_type": "code",
   "execution_count": 130,
   "id": "a7ede566-910a-445c-b11a-68d192ac8506",
   "metadata": {
    "executionCancelledAt": null,
    "executionTime": 83,
    "lastExecutedAt": 1738131691769,
    "lastExecutedByKernel": "0453d13a-a0c6-4337-80c5-65c6e857c9db",
    "lastScheduledRunId": null,
    "lastSuccessfullyExecutedCode": "import pandas as pd\nimport numpy as np\n\nfrom sklearn.model_selection import train_test_split\nfrom sklearn.metrics import mean_squared_error\n\ndf = pd.read_csv(\"rental_info.csv\")\ndisplay(df.head())\ndf.info()",
    "outputsMetadata": {
     "0": {
      "height": 262,
      "tableState": {
       "customFilter": {
        "const": {
         "type": "boolean",
         "valid": true,
         "value": true
        },
        "id": "a69f70ee-4bfe-4bf7-8a59-2141bf6083a7",
        "nodeType": "const"
       },
       "quickFilterText": ""
      },
      "type": "dataFrame"
     },
     "1": {
      "height": 479,
      "type": "stream"
     }
    }
   },
   "outputs": [
    {
     "data": {
      "text/html": [
       "<div>\n",
       "<style scoped>\n",
       "    .dataframe tbody tr th:only-of-type {\n",
       "        vertical-align: middle;\n",
       "    }\n",
       "\n",
       "    .dataframe tbody tr th {\n",
       "        vertical-align: top;\n",
       "    }\n",
       "\n",
       "    .dataframe thead th {\n",
       "        text-align: right;\n",
       "    }\n",
       "</style>\n",
       "<table border=\"1\" class=\"dataframe\">\n",
       "  <thead>\n",
       "    <tr style=\"text-align: right;\">\n",
       "      <th></th>\n",
       "      <th>rental_date</th>\n",
       "      <th>return_date</th>\n",
       "      <th>amount</th>\n",
       "      <th>release_year</th>\n",
       "      <th>rental_rate</th>\n",
       "      <th>length</th>\n",
       "      <th>replacement_cost</th>\n",
       "      <th>special_features</th>\n",
       "      <th>NC-17</th>\n",
       "      <th>PG</th>\n",
       "      <th>PG-13</th>\n",
       "      <th>R</th>\n",
       "      <th>amount_2</th>\n",
       "      <th>length_2</th>\n",
       "      <th>rental_rate_2</th>\n",
       "    </tr>\n",
       "  </thead>\n",
       "  <tbody>\n",
       "    <tr>\n",
       "      <th>0</th>\n",
       "      <td>2005-05-25 02:54:33+00:00</td>\n",
       "      <td>2005-05-28 23:40:33+00:00</td>\n",
       "      <td>2.99</td>\n",
       "      <td>2005.00</td>\n",
       "      <td>2.99</td>\n",
       "      <td>126.00</td>\n",
       "      <td>16.99</td>\n",
       "      <td>{Trailers,\"Behind the Scenes\"}</td>\n",
       "      <td>0</td>\n",
       "      <td>0</td>\n",
       "      <td>0</td>\n",
       "      <td>1</td>\n",
       "      <td>8.94</td>\n",
       "      <td>15876.00</td>\n",
       "      <td>8.94</td>\n",
       "    </tr>\n",
       "    <tr>\n",
       "      <th>1</th>\n",
       "      <td>2005-06-15 23:19:16+00:00</td>\n",
       "      <td>2005-06-18 19:24:16+00:00</td>\n",
       "      <td>2.99</td>\n",
       "      <td>2005.00</td>\n",
       "      <td>2.99</td>\n",
       "      <td>126.00</td>\n",
       "      <td>16.99</td>\n",
       "      <td>{Trailers,\"Behind the Scenes\"}</td>\n",
       "      <td>0</td>\n",
       "      <td>0</td>\n",
       "      <td>0</td>\n",
       "      <td>1</td>\n",
       "      <td>8.94</td>\n",
       "      <td>15876.00</td>\n",
       "      <td>8.94</td>\n",
       "    </tr>\n",
       "    <tr>\n",
       "      <th>2</th>\n",
       "      <td>2005-07-10 04:27:45+00:00</td>\n",
       "      <td>2005-07-17 10:11:45+00:00</td>\n",
       "      <td>2.99</td>\n",
       "      <td>2005.00</td>\n",
       "      <td>2.99</td>\n",
       "      <td>126.00</td>\n",
       "      <td>16.99</td>\n",
       "      <td>{Trailers,\"Behind the Scenes\"}</td>\n",
       "      <td>0</td>\n",
       "      <td>0</td>\n",
       "      <td>0</td>\n",
       "      <td>1</td>\n",
       "      <td>8.94</td>\n",
       "      <td>15876.00</td>\n",
       "      <td>8.94</td>\n",
       "    </tr>\n",
       "    <tr>\n",
       "      <th>3</th>\n",
       "      <td>2005-07-31 12:06:41+00:00</td>\n",
       "      <td>2005-08-02 14:30:41+00:00</td>\n",
       "      <td>2.99</td>\n",
       "      <td>2005.00</td>\n",
       "      <td>2.99</td>\n",
       "      <td>126.00</td>\n",
       "      <td>16.99</td>\n",
       "      <td>{Trailers,\"Behind the Scenes\"}</td>\n",
       "      <td>0</td>\n",
       "      <td>0</td>\n",
       "      <td>0</td>\n",
       "      <td>1</td>\n",
       "      <td>8.94</td>\n",
       "      <td>15876.00</td>\n",
       "      <td>8.94</td>\n",
       "    </tr>\n",
       "    <tr>\n",
       "      <th>4</th>\n",
       "      <td>2005-08-19 12:30:04+00:00</td>\n",
       "      <td>2005-08-23 13:35:04+00:00</td>\n",
       "      <td>2.99</td>\n",
       "      <td>2005.00</td>\n",
       "      <td>2.99</td>\n",
       "      <td>126.00</td>\n",
       "      <td>16.99</td>\n",
       "      <td>{Trailers,\"Behind the Scenes\"}</td>\n",
       "      <td>0</td>\n",
       "      <td>0</td>\n",
       "      <td>0</td>\n",
       "      <td>1</td>\n",
       "      <td>8.94</td>\n",
       "      <td>15876.00</td>\n",
       "      <td>8.94</td>\n",
       "    </tr>\n",
       "  </tbody>\n",
       "</table>\n",
       "</div>"
      ],
      "text/plain": [
       "                 rental_date                return_date  amount  release_year  \\\n",
       "0  2005-05-25 02:54:33+00:00  2005-05-28 23:40:33+00:00    2.99       2005.00   \n",
       "1  2005-06-15 23:19:16+00:00  2005-06-18 19:24:16+00:00    2.99       2005.00   \n",
       "2  2005-07-10 04:27:45+00:00  2005-07-17 10:11:45+00:00    2.99       2005.00   \n",
       "3  2005-07-31 12:06:41+00:00  2005-08-02 14:30:41+00:00    2.99       2005.00   \n",
       "4  2005-08-19 12:30:04+00:00  2005-08-23 13:35:04+00:00    2.99       2005.00   \n",
       "\n",
       "   rental_rate  length  replacement_cost                special_features  \\\n",
       "0         2.99  126.00             16.99  {Trailers,\"Behind the Scenes\"}   \n",
       "1         2.99  126.00             16.99  {Trailers,\"Behind the Scenes\"}   \n",
       "2         2.99  126.00             16.99  {Trailers,\"Behind the Scenes\"}   \n",
       "3         2.99  126.00             16.99  {Trailers,\"Behind the Scenes\"}   \n",
       "4         2.99  126.00             16.99  {Trailers,\"Behind the Scenes\"}   \n",
       "\n",
       "   NC-17  PG  PG-13  R  amount_2  length_2  rental_rate_2  \n",
       "0      0   0      0  1      8.94  15876.00           8.94  \n",
       "1      0   0      0  1      8.94  15876.00           8.94  \n",
       "2      0   0      0  1      8.94  15876.00           8.94  \n",
       "3      0   0      0  1      8.94  15876.00           8.94  \n",
       "4      0   0      0  1      8.94  15876.00           8.94  "
      ]
     },
     "metadata": {},
     "output_type": "display_data"
    },
    {
     "name": "stdout",
     "output_type": "stream",
     "text": [
      "<class 'pandas.core.frame.DataFrame'>\n",
      "RangeIndex: 15861 entries, 0 to 15860\n",
      "Data columns (total 15 columns):\n",
      " #   Column            Non-Null Count  Dtype  \n",
      "---  ------            --------------  -----  \n",
      " 0   rental_date       15861 non-null  object \n",
      " 1   return_date       15861 non-null  object \n",
      " 2   amount            15861 non-null  float64\n",
      " 3   release_year      15861 non-null  float64\n",
      " 4   rental_rate       15861 non-null  float64\n",
      " 5   length            15861 non-null  float64\n",
      " 6   replacement_cost  15861 non-null  float64\n",
      " 7   special_features  15861 non-null  object \n",
      " 8   NC-17             15861 non-null  int64  \n",
      " 9   PG                15861 non-null  int64  \n",
      " 10  PG-13             15861 non-null  int64  \n",
      " 11  R                 15861 non-null  int64  \n",
      " 12  amount_2          15861 non-null  float64\n",
      " 13  length_2          15861 non-null  float64\n",
      " 14  rental_rate_2     15861 non-null  float64\n",
      "dtypes: float64(8), int64(4), object(3)\n",
      "memory usage: 1.8+ MB\n"
     ]
    }
   ],
   "source": [
    "df = pd.read_csv(\"rental_info.csv\")\n",
    "display(df.head())\n",
    "df.info()"
   ]
  },
  {
   "cell_type": "markdown",
   "id": "c6032d41-a3c1-400c-aade-4ba590afa07e",
   "metadata": {},
   "source": [
    "# Preprocessing"
   ]
  },
  {
   "cell_type": "code",
   "execution_count": 131,
   "id": "56038d63-0f55-4468-b251-de858bb5123b",
   "metadata": {
    "executionCancelledAt": null,
    "executionTime": 49,
    "lastExecutedAt": 1738131691818,
    "lastExecutedByKernel": "0453d13a-a0c6-4337-80c5-65c6e857c9db",
    "lastScheduledRunId": null,
    "lastSuccessfullyExecutedCode": "# Convert dates to datetime format\ndf[\"rental_date\"] = pd.to_datetime(df[\"rental_date\"])\ndf[\"return_date\"] = pd.to_datetime(df[\"return_date\"])\n\ndf.info()",
    "outputsMetadata": {
     "0": {
      "height": 479,
      "type": "stream"
     }
    }
   },
   "outputs": [
    {
     "name": "stdout",
     "output_type": "stream",
     "text": [
      "<class 'pandas.core.frame.DataFrame'>\n",
      "RangeIndex: 15861 entries, 0 to 15860\n",
      "Data columns (total 15 columns):\n",
      " #   Column            Non-Null Count  Dtype              \n",
      "---  ------            --------------  -----              \n",
      " 0   rental_date       15861 non-null  datetime64[ns, UTC]\n",
      " 1   return_date       15861 non-null  datetime64[ns, UTC]\n",
      " 2   amount            15861 non-null  float64            \n",
      " 3   release_year      15861 non-null  float64            \n",
      " 4   rental_rate       15861 non-null  float64            \n",
      " 5   length            15861 non-null  float64            \n",
      " 6   replacement_cost  15861 non-null  float64            \n",
      " 7   special_features  15861 non-null  object             \n",
      " 8   NC-17             15861 non-null  int64              \n",
      " 9   PG                15861 non-null  int64              \n",
      " 10  PG-13             15861 non-null  int64              \n",
      " 11  R                 15861 non-null  int64              \n",
      " 12  amount_2          15861 non-null  float64            \n",
      " 13  length_2          15861 non-null  float64            \n",
      " 14  rental_rate_2     15861 non-null  float64            \n",
      "dtypes: datetime64[ns, UTC](2), float64(8), int64(4), object(1)\n",
      "memory usage: 1.8+ MB\n"
     ]
    }
   ],
   "source": [
    "# Convert dates to datetime format\n",
    "df[\"rental_date\"] = pd.to_datetime(df[\"rental_date\"])\n",
    "df[\"return_date\"] = pd.to_datetime(df[\"return_date\"])\n",
    "\n",
    "df.info()"
   ]
  },
  {
   "cell_type": "markdown",
   "id": "5d23e515",
   "metadata": {},
   "source": [
    "Create a column that contains information on how many days a DVD has been rented by a customer."
   ]
  },
  {
   "cell_type": "code",
   "execution_count": 132,
   "id": "a3a6aeaa-723a-49c4-934e-7816ff7bdd53",
   "metadata": {
    "executionCancelledAt": null,
    "executionTime": null,
    "lastExecutedAt": null,
    "lastExecutedByKernel": null,
    "lastScheduledRunId": null,
    "lastSuccessfullyExecutedCode": null,
    "outputsMetadata": {
     "0": {
      "height": 50,
      "tableState": {
       "customFilter": {
        "const": {
         "type": "boolean",
         "valid": true,
         "value": true
        },
        "id": "a69f70ee-4bfe-4bf7-8a59-2141bf6083a7",
        "nodeType": "const"
       },
       "quickFilterText": ""
      },
      "type": "dataFrame"
     }
    }
   },
   "outputs": [
    {
     "data": {
      "text/html": [
       "<div>\n",
       "<style scoped>\n",
       "    .dataframe tbody tr th:only-of-type {\n",
       "        vertical-align: middle;\n",
       "    }\n",
       "\n",
       "    .dataframe tbody tr th {\n",
       "        vertical-align: top;\n",
       "    }\n",
       "\n",
       "    .dataframe thead th {\n",
       "        text-align: right;\n",
       "    }\n",
       "</style>\n",
       "<table border=\"1\" class=\"dataframe\">\n",
       "  <thead>\n",
       "    <tr style=\"text-align: right;\">\n",
       "      <th></th>\n",
       "      <th>return_date</th>\n",
       "      <th>rental_date</th>\n",
       "      <th>rental_length_days</th>\n",
       "    </tr>\n",
       "  </thead>\n",
       "  <tbody>\n",
       "    <tr>\n",
       "      <th>0</th>\n",
       "      <td>2005-05-28 23:40:33+00:00</td>\n",
       "      <td>2005-05-25 02:54:33+00:00</td>\n",
       "      <td>3</td>\n",
       "    </tr>\n",
       "    <tr>\n",
       "      <th>1</th>\n",
       "      <td>2005-06-18 19:24:16+00:00</td>\n",
       "      <td>2005-06-15 23:19:16+00:00</td>\n",
       "      <td>2</td>\n",
       "    </tr>\n",
       "    <tr>\n",
       "      <th>2</th>\n",
       "      <td>2005-07-17 10:11:45+00:00</td>\n",
       "      <td>2005-07-10 04:27:45+00:00</td>\n",
       "      <td>7</td>\n",
       "    </tr>\n",
       "    <tr>\n",
       "      <th>3</th>\n",
       "      <td>2005-08-02 14:30:41+00:00</td>\n",
       "      <td>2005-07-31 12:06:41+00:00</td>\n",
       "      <td>2</td>\n",
       "    </tr>\n",
       "    <tr>\n",
       "      <th>4</th>\n",
       "      <td>2005-08-23 13:35:04+00:00</td>\n",
       "      <td>2005-08-19 12:30:04+00:00</td>\n",
       "      <td>4</td>\n",
       "    </tr>\n",
       "  </tbody>\n",
       "</table>\n",
       "</div>"
      ],
      "text/plain": [
       "                return_date               rental_date  rental_length_days\n",
       "0 2005-05-28 23:40:33+00:00 2005-05-25 02:54:33+00:00                   3\n",
       "1 2005-06-18 19:24:16+00:00 2005-06-15 23:19:16+00:00                   2\n",
       "2 2005-07-17 10:11:45+00:00 2005-07-10 04:27:45+00:00                   7\n",
       "3 2005-08-02 14:30:41+00:00 2005-07-31 12:06:41+00:00                   2\n",
       "4 2005-08-23 13:35:04+00:00 2005-08-19 12:30:04+00:00                   4"
      ]
     },
     "execution_count": 132,
     "metadata": {},
     "output_type": "execute_result"
    }
   ],
   "source": [
    "# Create rental_lenth_days\n",
    "df[\"rental_length_days\"] = (df[\"return_date\"] - df[\"rental_date\"]).dt.days\n",
    "\n",
    "df[[\"return_date\", \"rental_date\", \"rental_length_days\"]].head()"
   ]
  },
  {
   "cell_type": "markdown",
   "id": "a5184ed5",
   "metadata": {},
   "source": [
    "Create two columns of dummy variables from `\"special_features\"`, which takes the value of `1` when:\n",
    "- The value is `\"Deleted Scenes\"`, storing as a column called `\"deleted_scenes\"`.\n",
    "- The value is `\"Behind the Scenes\"`, storing as a column called `\"behind_the_scenes\"`."
   ]
  },
  {
   "cell_type": "code",
   "execution_count": 133,
   "id": "899bcd5d-b722-468b-81d8-458f613d90de",
   "metadata": {
    "executionCancelledAt": null,
    "executionTime": 47,
    "lastExecutedAt": 1738131691918,
    "lastExecutedByKernel": "0453d13a-a0c6-4337-80c5-65c6e857c9db",
    "lastScheduledRunId": null,
    "lastSuccessfullyExecutedCode": "# Create Dummy Variables for special_features\ndf[\"deleted_scenes\"] = df[\"special_features\"].apply(lambda x: 1 if \"Deleted Scenes\" in x else 0)\ndf[\"behind_the_scenes\"] = df[\"special_features\"].apply(lambda x: 1 if \"Behind the Scenes\" in x else 0)\n\n\ndf[[\"deleted_scenes\", \"behind_the_scenes\"]].head()",
    "outputsMetadata": {
     "0": {
      "height": 245,
      "tableState": {
       "customFilter": {
        "const": {
         "type": "boolean",
         "valid": true,
         "value": true
        },
        "id": "a69f70ee-4bfe-4bf7-8a59-2141bf6083a7",
        "nodeType": "const"
       },
       "quickFilterText": ""
      },
      "type": "dataFrame"
     }
    }
   },
   "outputs": [
    {
     "data": {
      "text/html": [
       "<div>\n",
       "<style scoped>\n",
       "    .dataframe tbody tr th:only-of-type {\n",
       "        vertical-align: middle;\n",
       "    }\n",
       "\n",
       "    .dataframe tbody tr th {\n",
       "        vertical-align: top;\n",
       "    }\n",
       "\n",
       "    .dataframe thead th {\n",
       "        text-align: right;\n",
       "    }\n",
       "</style>\n",
       "<table border=\"1\" class=\"dataframe\">\n",
       "  <thead>\n",
       "    <tr style=\"text-align: right;\">\n",
       "      <th></th>\n",
       "      <th>special_features</th>\n",
       "      <th>deleted_scenes</th>\n",
       "      <th>behind_the_scenes</th>\n",
       "    </tr>\n",
       "  </thead>\n",
       "  <tbody>\n",
       "    <tr>\n",
       "      <th>0</th>\n",
       "      <td>{Trailers,\"Behind the Scenes\"}</td>\n",
       "      <td>0</td>\n",
       "      <td>1</td>\n",
       "    </tr>\n",
       "    <tr>\n",
       "      <th>1</th>\n",
       "      <td>{Trailers,\"Behind the Scenes\"}</td>\n",
       "      <td>0</td>\n",
       "      <td>1</td>\n",
       "    </tr>\n",
       "    <tr>\n",
       "      <th>2</th>\n",
       "      <td>{Trailers,\"Behind the Scenes\"}</td>\n",
       "      <td>0</td>\n",
       "      <td>1</td>\n",
       "    </tr>\n",
       "    <tr>\n",
       "      <th>3</th>\n",
       "      <td>{Trailers,\"Behind the Scenes\"}</td>\n",
       "      <td>0</td>\n",
       "      <td>1</td>\n",
       "    </tr>\n",
       "    <tr>\n",
       "      <th>4</th>\n",
       "      <td>{Trailers,\"Behind the Scenes\"}</td>\n",
       "      <td>0</td>\n",
       "      <td>1</td>\n",
       "    </tr>\n",
       "  </tbody>\n",
       "</table>\n",
       "</div>"
      ],
      "text/plain": [
       "                 special_features  deleted_scenes  behind_the_scenes\n",
       "0  {Trailers,\"Behind the Scenes\"}               0                  1\n",
       "1  {Trailers,\"Behind the Scenes\"}               0                  1\n",
       "2  {Trailers,\"Behind the Scenes\"}               0                  1\n",
       "3  {Trailers,\"Behind the Scenes\"}               0                  1\n",
       "4  {Trailers,\"Behind the Scenes\"}               0                  1"
      ]
     },
     "execution_count": 133,
     "metadata": {},
     "output_type": "execute_result"
    }
   ],
   "source": [
    "# Create Dummy Variables for special_features\n",
    "df[\"deleted_scenes\"] = df[\"special_features\"].apply(lambda x: 1 if \"Deleted Scenes\" in x else 0)\n",
    "df[\"behind_the_scenes\"] = df[\"special_features\"].apply(lambda x: 1 if \"Behind the Scenes\" in x else 0)\n",
    "\n",
    "df[[\"special_features\", \"deleted_scenes\", \"behind_the_scenes\"]].head()"
   ]
  },
  {
   "cell_type": "markdown",
   "id": "2f177d28",
   "metadata": {},
   "source": [
    "# Modeling"
   ]
  },
  {
   "cell_type": "markdown",
   "id": "a9033402",
   "metadata": {},
   "source": [
    "## Split Train & Test"
   ]
  },
  {
   "cell_type": "markdown",
   "id": "7f11e289",
   "metadata": {},
   "source": [
    "Split the data into `X_train`, `y_train`, `X_test`, and `y_test` train and test sets, avoiding any features that leak data about the target variable, and include 20% of the total data in the test set."
   ]
  },
  {
   "cell_type": "code",
   "execution_count": 134,
   "id": "5c6e6855-2802-40f7-bb42-4c5d09ccb6b1",
   "metadata": {
    "executionCancelledAt": null,
    "executionTime": 48,
    "lastExecutedAt": 1738131691966,
    "lastExecutedByKernel": "0453d13a-a0c6-4337-80c5-65c6e857c9db",
    "lastScheduledRunId": null,
    "lastSuccessfullyExecutedCode": "# Prepare Feature Matrix X and Target y\n# Select features excluding columns that leak target info\nX = df.drop(columns=[\"rental_date\", \"return_date\", \"special_features\", \"rental_length_days\"])\ny = df[\"rental_length_days\"]"
   },
   "outputs": [
    {
     "data": {
      "text/html": [
       "<div>\n",
       "<style scoped>\n",
       "    .dataframe tbody tr th:only-of-type {\n",
       "        vertical-align: middle;\n",
       "    }\n",
       "\n",
       "    .dataframe tbody tr th {\n",
       "        vertical-align: top;\n",
       "    }\n",
       "\n",
       "    .dataframe thead th {\n",
       "        text-align: right;\n",
       "    }\n",
       "</style>\n",
       "<table border=\"1\" class=\"dataframe\">\n",
       "  <thead>\n",
       "    <tr style=\"text-align: right;\">\n",
       "      <th></th>\n",
       "      <th>amount</th>\n",
       "      <th>release_year</th>\n",
       "      <th>rental_rate</th>\n",
       "      <th>length</th>\n",
       "      <th>replacement_cost</th>\n",
       "      <th>NC-17</th>\n",
       "      <th>PG</th>\n",
       "      <th>PG-13</th>\n",
       "      <th>R</th>\n",
       "      <th>amount_2</th>\n",
       "      <th>length_2</th>\n",
       "      <th>rental_rate_2</th>\n",
       "      <th>deleted_scenes</th>\n",
       "      <th>behind_the_scenes</th>\n",
       "    </tr>\n",
       "  </thead>\n",
       "  <tbody>\n",
       "    <tr>\n",
       "      <th>0</th>\n",
       "      <td>2.99</td>\n",
       "      <td>2005.00</td>\n",
       "      <td>2.99</td>\n",
       "      <td>126.00</td>\n",
       "      <td>16.99</td>\n",
       "      <td>0</td>\n",
       "      <td>0</td>\n",
       "      <td>0</td>\n",
       "      <td>1</td>\n",
       "      <td>8.94</td>\n",
       "      <td>15876.00</td>\n",
       "      <td>8.94</td>\n",
       "      <td>0</td>\n",
       "      <td>1</td>\n",
       "    </tr>\n",
       "    <tr>\n",
       "      <th>1</th>\n",
       "      <td>2.99</td>\n",
       "      <td>2005.00</td>\n",
       "      <td>2.99</td>\n",
       "      <td>126.00</td>\n",
       "      <td>16.99</td>\n",
       "      <td>0</td>\n",
       "      <td>0</td>\n",
       "      <td>0</td>\n",
       "      <td>1</td>\n",
       "      <td>8.94</td>\n",
       "      <td>15876.00</td>\n",
       "      <td>8.94</td>\n",
       "      <td>0</td>\n",
       "      <td>1</td>\n",
       "    </tr>\n",
       "    <tr>\n",
       "      <th>2</th>\n",
       "      <td>2.99</td>\n",
       "      <td>2005.00</td>\n",
       "      <td>2.99</td>\n",
       "      <td>126.00</td>\n",
       "      <td>16.99</td>\n",
       "      <td>0</td>\n",
       "      <td>0</td>\n",
       "      <td>0</td>\n",
       "      <td>1</td>\n",
       "      <td>8.94</td>\n",
       "      <td>15876.00</td>\n",
       "      <td>8.94</td>\n",
       "      <td>0</td>\n",
       "      <td>1</td>\n",
       "    </tr>\n",
       "    <tr>\n",
       "      <th>3</th>\n",
       "      <td>2.99</td>\n",
       "      <td>2005.00</td>\n",
       "      <td>2.99</td>\n",
       "      <td>126.00</td>\n",
       "      <td>16.99</td>\n",
       "      <td>0</td>\n",
       "      <td>0</td>\n",
       "      <td>0</td>\n",
       "      <td>1</td>\n",
       "      <td>8.94</td>\n",
       "      <td>15876.00</td>\n",
       "      <td>8.94</td>\n",
       "      <td>0</td>\n",
       "      <td>1</td>\n",
       "    </tr>\n",
       "    <tr>\n",
       "      <th>4</th>\n",
       "      <td>2.99</td>\n",
       "      <td>2005.00</td>\n",
       "      <td>2.99</td>\n",
       "      <td>126.00</td>\n",
       "      <td>16.99</td>\n",
       "      <td>0</td>\n",
       "      <td>0</td>\n",
       "      <td>0</td>\n",
       "      <td>1</td>\n",
       "      <td>8.94</td>\n",
       "      <td>15876.00</td>\n",
       "      <td>8.94</td>\n",
       "      <td>0</td>\n",
       "      <td>1</td>\n",
       "    </tr>\n",
       "    <tr>\n",
       "      <th>...</th>\n",
       "      <td>...</td>\n",
       "      <td>...</td>\n",
       "      <td>...</td>\n",
       "      <td>...</td>\n",
       "      <td>...</td>\n",
       "      <td>...</td>\n",
       "      <td>...</td>\n",
       "      <td>...</td>\n",
       "      <td>...</td>\n",
       "      <td>...</td>\n",
       "      <td>...</td>\n",
       "      <td>...</td>\n",
       "      <td>...</td>\n",
       "      <td>...</td>\n",
       "    </tr>\n",
       "    <tr>\n",
       "      <th>15856</th>\n",
       "      <td>6.99</td>\n",
       "      <td>2009.00</td>\n",
       "      <td>4.99</td>\n",
       "      <td>88.00</td>\n",
       "      <td>11.99</td>\n",
       "      <td>0</td>\n",
       "      <td>0</td>\n",
       "      <td>0</td>\n",
       "      <td>1</td>\n",
       "      <td>48.86</td>\n",
       "      <td>7744.00</td>\n",
       "      <td>24.90</td>\n",
       "      <td>1</td>\n",
       "      <td>1</td>\n",
       "    </tr>\n",
       "    <tr>\n",
       "      <th>15857</th>\n",
       "      <td>4.99</td>\n",
       "      <td>2009.00</td>\n",
       "      <td>4.99</td>\n",
       "      <td>88.00</td>\n",
       "      <td>11.99</td>\n",
       "      <td>0</td>\n",
       "      <td>0</td>\n",
       "      <td>0</td>\n",
       "      <td>1</td>\n",
       "      <td>24.90</td>\n",
       "      <td>7744.00</td>\n",
       "      <td>24.90</td>\n",
       "      <td>1</td>\n",
       "      <td>1</td>\n",
       "    </tr>\n",
       "    <tr>\n",
       "      <th>15858</th>\n",
       "      <td>8.99</td>\n",
       "      <td>2009.00</td>\n",
       "      <td>4.99</td>\n",
       "      <td>88.00</td>\n",
       "      <td>11.99</td>\n",
       "      <td>0</td>\n",
       "      <td>0</td>\n",
       "      <td>0</td>\n",
       "      <td>1</td>\n",
       "      <td>80.82</td>\n",
       "      <td>7744.00</td>\n",
       "      <td>24.90</td>\n",
       "      <td>1</td>\n",
       "      <td>1</td>\n",
       "    </tr>\n",
       "    <tr>\n",
       "      <th>15859</th>\n",
       "      <td>7.99</td>\n",
       "      <td>2009.00</td>\n",
       "      <td>4.99</td>\n",
       "      <td>88.00</td>\n",
       "      <td>11.99</td>\n",
       "      <td>0</td>\n",
       "      <td>0</td>\n",
       "      <td>0</td>\n",
       "      <td>1</td>\n",
       "      <td>63.84</td>\n",
       "      <td>7744.00</td>\n",
       "      <td>24.90</td>\n",
       "      <td>1</td>\n",
       "      <td>1</td>\n",
       "    </tr>\n",
       "    <tr>\n",
       "      <th>15860</th>\n",
       "      <td>5.99</td>\n",
       "      <td>2009.00</td>\n",
       "      <td>4.99</td>\n",
       "      <td>88.00</td>\n",
       "      <td>11.99</td>\n",
       "      <td>0</td>\n",
       "      <td>0</td>\n",
       "      <td>0</td>\n",
       "      <td>1</td>\n",
       "      <td>35.88</td>\n",
       "      <td>7744.00</td>\n",
       "      <td>24.90</td>\n",
       "      <td>1</td>\n",
       "      <td>1</td>\n",
       "    </tr>\n",
       "  </tbody>\n",
       "</table>\n",
       "<p>15861 rows × 14 columns</p>\n",
       "</div>"
      ],
      "text/plain": [
       "       amount  release_year  rental_rate  length  replacement_cost  NC-17  PG  \\\n",
       "0        2.99       2005.00         2.99  126.00             16.99      0   0   \n",
       "1        2.99       2005.00         2.99  126.00             16.99      0   0   \n",
       "2        2.99       2005.00         2.99  126.00             16.99      0   0   \n",
       "3        2.99       2005.00         2.99  126.00             16.99      0   0   \n",
       "4        2.99       2005.00         2.99  126.00             16.99      0   0   \n",
       "...       ...           ...          ...     ...               ...    ...  ..   \n",
       "15856    6.99       2009.00         4.99   88.00             11.99      0   0   \n",
       "15857    4.99       2009.00         4.99   88.00             11.99      0   0   \n",
       "15858    8.99       2009.00         4.99   88.00             11.99      0   0   \n",
       "15859    7.99       2009.00         4.99   88.00             11.99      0   0   \n",
       "15860    5.99       2009.00         4.99   88.00             11.99      0   0   \n",
       "\n",
       "       PG-13  R  amount_2  length_2  rental_rate_2  deleted_scenes  \\\n",
       "0          0  1      8.94  15876.00           8.94               0   \n",
       "1          0  1      8.94  15876.00           8.94               0   \n",
       "2          0  1      8.94  15876.00           8.94               0   \n",
       "3          0  1      8.94  15876.00           8.94               0   \n",
       "4          0  1      8.94  15876.00           8.94               0   \n",
       "...      ... ..       ...       ...            ...             ...   \n",
       "15856      0  1     48.86   7744.00          24.90               1   \n",
       "15857      0  1     24.90   7744.00          24.90               1   \n",
       "15858      0  1     80.82   7744.00          24.90               1   \n",
       "15859      0  1     63.84   7744.00          24.90               1   \n",
       "15860      0  1     35.88   7744.00          24.90               1   \n",
       "\n",
       "       behind_the_scenes  \n",
       "0                      1  \n",
       "1                      1  \n",
       "2                      1  \n",
       "3                      1  \n",
       "4                      1  \n",
       "...                  ...  \n",
       "15856                  1  \n",
       "15857                  1  \n",
       "15858                  1  \n",
       "15859                  1  \n",
       "15860                  1  \n",
       "\n",
       "[15861 rows x 14 columns]"
      ]
     },
     "metadata": {},
     "output_type": "display_data"
    },
    {
     "data": {
      "text/plain": [
       "0        3\n",
       "1        2\n",
       "2        7\n",
       "3        2\n",
       "4        4\n",
       "        ..\n",
       "15856    6\n",
       "15857    4\n",
       "15858    9\n",
       "15859    8\n",
       "15860    6\n",
       "Name: rental_length_days, Length: 15861, dtype: int64"
      ]
     },
     "metadata": {},
     "output_type": "display_data"
    }
   ],
   "source": [
    "# Prepare Feature Matrix X and Target y\n",
    "# Select features excluding columns that leak target info\n",
    "X = df.drop(columns=[\"rental_date\", \"return_date\", \"special_features\", \"rental_length_days\"])\n",
    "y = df[\"rental_length_days\"]\n",
    "\n",
    "display(X)\n",
    "display(y)"
   ]
  },
  {
   "cell_type": "code",
   "execution_count": 135,
   "id": "fac7b7cf-9080-4f82-87a7-d4001c3daaf8",
   "metadata": {
    "executionCancelledAt": null,
    "executionTime": 48,
    "lastExecutedAt": 1738131692014,
    "lastExecutedByKernel": "0453d13a-a0c6-4337-80c5-65c6e857c9db",
    "lastScheduledRunId": null,
    "lastSuccessfullyExecutedCode": "# Split Data into Train and Test Sets\nX_train, X_test, y_train, y_test = train_test_split(\n    X, y, test_size=0.2, random_state=9\n)"
   },
   "outputs": [],
   "source": [
    "# Split Data into Train and Test Sets\n",
    "X_train, X_test, y_train, y_test = train_test_split(\n",
    "    X, y, test_size=0.2, random_state=9\n",
    ")"
   ]
  },
  {
   "cell_type": "markdown",
   "id": "2c9941d6",
   "metadata": {},
   "source": [
    "## Model with LazyRegressor"
   ]
  },
  {
   "cell_type": "code",
   "execution_count": 136,
   "id": "3b5796c7",
   "metadata": {},
   "outputs": [
    {
     "name": "stderr",
     "output_type": "stream",
     "text": [
      " 21%|██▏       | 9/42 [00:02<00:09,  3.30it/s]"
     ]
    },
    {
     "name": "stdout",
     "output_type": "stream",
     "text": [
      "GammaRegressor model failed to execute\n",
      "Some value(s) of y are out of the valid range of the loss 'HalfGammaLoss'.\n"
     ]
    },
    {
     "name": "stderr",
     "output_type": "stream",
     "text": [
      "100%|██████████| 42/42 [00:51<00:00,  1.23s/it]"
     ]
    },
    {
     "name": "stdout",
     "output_type": "stream",
     "text": [
      "[LightGBM] [Info] Auto-choosing row-wise multi-threading, the overhead of testing was 0.000433 seconds.\n",
      "You can set `force_row_wise=true` to remove the overhead.\n",
      "And if memory is not enough, you can set `force_col_wise=true`.\n",
      "[LightGBM] [Info] Total Bins 364\n",
      "[LightGBM] [Info] Number of data points in the train set: 12688, number of used features: 14\n",
      "[LightGBM] [Info] Start training from score 4.529950\n"
     ]
    },
    {
     "name": "stderr",
     "output_type": "stream",
     "text": [
      "\n"
     ]
    }
   ],
   "source": [
    "reg = LazyRegressor(verbose=0, ignore_warnings=False, custom_metric=mean_squared_error)\n",
    "models, predictions = reg.fit(X_train, X_test, y_train, y_test)"
   ]
  },
  {
   "cell_type": "code",
   "execution_count": 137,
   "id": "98664323",
   "metadata": {},
   "outputs": [
    {
     "data": {
      "text/html": [
       "<div>\n",
       "<style scoped>\n",
       "    .dataframe tbody tr th:only-of-type {\n",
       "        vertical-align: middle;\n",
       "    }\n",
       "\n",
       "    .dataframe tbody tr th {\n",
       "        vertical-align: top;\n",
       "    }\n",
       "\n",
       "    .dataframe thead th {\n",
       "        text-align: right;\n",
       "    }\n",
       "</style>\n",
       "<table border=\"1\" class=\"dataframe\">\n",
       "  <thead>\n",
       "    <tr style=\"text-align: right;\">\n",
       "      <th></th>\n",
       "      <th>Adjusted R-Squared</th>\n",
       "      <th>R-Squared</th>\n",
       "      <th>RMSE</th>\n",
       "      <th>Time Taken</th>\n",
       "      <th>mean_squared_error</th>\n",
       "    </tr>\n",
       "    <tr>\n",
       "      <th>Model</th>\n",
       "      <th></th>\n",
       "      <th></th>\n",
       "      <th></th>\n",
       "      <th></th>\n",
       "      <th></th>\n",
       "    </tr>\n",
       "  </thead>\n",
       "  <tbody>\n",
       "    <tr>\n",
       "      <th>XGBRegressor</th>\n",
       "      <td>0.73</td>\n",
       "      <td>0.73</td>\n",
       "      <td>1.38</td>\n",
       "      <td>0.10</td>\n",
       "      <td>1.91</td>\n",
       "    </tr>\n",
       "    <tr>\n",
       "      <th>RandomForestRegressor</th>\n",
       "      <td>0.71</td>\n",
       "      <td>0.71</td>\n",
       "      <td>1.43</td>\n",
       "      <td>2.26</td>\n",
       "      <td>2.03</td>\n",
       "    </tr>\n",
       "    <tr>\n",
       "      <th>ExtraTreesRegressor</th>\n",
       "      <td>0.71</td>\n",
       "      <td>0.71</td>\n",
       "      <td>1.43</td>\n",
       "      <td>1.53</td>\n",
       "      <td>2.04</td>\n",
       "    </tr>\n",
       "    <tr>\n",
       "      <th>LGBMRegressor</th>\n",
       "      <td>0.71</td>\n",
       "      <td>0.71</td>\n",
       "      <td>1.43</td>\n",
       "      <td>0.10</td>\n",
       "      <td>2.05</td>\n",
       "    </tr>\n",
       "    <tr>\n",
       "      <th>HistGradientBoostingRegressor</th>\n",
       "      <td>0.71</td>\n",
       "      <td>0.71</td>\n",
       "      <td>1.44</td>\n",
       "      <td>0.22</td>\n",
       "      <td>2.06</td>\n",
       "    </tr>\n",
       "    <tr>\n",
       "      <th>BaggingRegressor</th>\n",
       "      <td>0.71</td>\n",
       "      <td>0.71</td>\n",
       "      <td>1.44</td>\n",
       "      <td>0.24</td>\n",
       "      <td>2.08</td>\n",
       "    </tr>\n",
       "    <tr>\n",
       "      <th>GaussianProcessRegressor</th>\n",
       "      <td>0.69</td>\n",
       "      <td>0.70</td>\n",
       "      <td>1.47</td>\n",
       "      <td>16.80</td>\n",
       "      <td>2.16</td>\n",
       "    </tr>\n",
       "    <tr>\n",
       "      <th>ExtraTreeRegressor</th>\n",
       "      <td>0.69</td>\n",
       "      <td>0.69</td>\n",
       "      <td>1.47</td>\n",
       "      <td>0.03</td>\n",
       "      <td>2.17</td>\n",
       "    </tr>\n",
       "    <tr>\n",
       "      <th>DecisionTreeRegressor</th>\n",
       "      <td>0.69</td>\n",
       "      <td>0.69</td>\n",
       "      <td>1.48</td>\n",
       "      <td>0.04</td>\n",
       "      <td>2.18</td>\n",
       "    </tr>\n",
       "    <tr>\n",
       "      <th>MLPRegressor</th>\n",
       "      <td>0.69</td>\n",
       "      <td>0.69</td>\n",
       "      <td>1.48</td>\n",
       "      <td>5.20</td>\n",
       "      <td>2.18</td>\n",
       "    </tr>\n",
       "    <tr>\n",
       "      <th>GradientBoostingRegressor</th>\n",
       "      <td>0.66</td>\n",
       "      <td>0.66</td>\n",
       "      <td>1.56</td>\n",
       "      <td>0.79</td>\n",
       "      <td>2.43</td>\n",
       "    </tr>\n",
       "    <tr>\n",
       "      <th>NuSVR</th>\n",
       "      <td>0.65</td>\n",
       "      <td>0.65</td>\n",
       "      <td>1.57</td>\n",
       "      <td>5.80</td>\n",
       "      <td>2.48</td>\n",
       "    </tr>\n",
       "    <tr>\n",
       "      <th>SVR</th>\n",
       "      <td>0.65</td>\n",
       "      <td>0.65</td>\n",
       "      <td>1.58</td>\n",
       "      <td>7.50</td>\n",
       "      <td>2.50</td>\n",
       "    </tr>\n",
       "    <tr>\n",
       "      <th>KNeighborsRegressor</th>\n",
       "      <td>0.60</td>\n",
       "      <td>0.60</td>\n",
       "      <td>1.68</td>\n",
       "      <td>0.11</td>\n",
       "      <td>2.82</td>\n",
       "    </tr>\n",
       "    <tr>\n",
       "      <th>OrthogonalMatchingPursuitCV</th>\n",
       "      <td>0.58</td>\n",
       "      <td>0.59</td>\n",
       "      <td>1.71</td>\n",
       "      <td>0.03</td>\n",
       "      <td>2.94</td>\n",
       "    </tr>\n",
       "    <tr>\n",
       "      <th>TransformedTargetRegressor</th>\n",
       "      <td>0.58</td>\n",
       "      <td>0.59</td>\n",
       "      <td>1.72</td>\n",
       "      <td>0.02</td>\n",
       "      <td>2.94</td>\n",
       "    </tr>\n",
       "    <tr>\n",
       "      <th>LinearRegression</th>\n",
       "      <td>0.58</td>\n",
       "      <td>0.59</td>\n",
       "      <td>1.72</td>\n",
       "      <td>0.01</td>\n",
       "      <td>2.94</td>\n",
       "    </tr>\n",
       "    <tr>\n",
       "      <th>LassoLarsIC</th>\n",
       "      <td>0.58</td>\n",
       "      <td>0.59</td>\n",
       "      <td>1.72</td>\n",
       "      <td>0.02</td>\n",
       "      <td>2.94</td>\n",
       "    </tr>\n",
       "    <tr>\n",
       "      <th>LassoCV</th>\n",
       "      <td>0.58</td>\n",
       "      <td>0.59</td>\n",
       "      <td>1.72</td>\n",
       "      <td>0.14</td>\n",
       "      <td>2.94</td>\n",
       "    </tr>\n",
       "    <tr>\n",
       "      <th>RidgeCV</th>\n",
       "      <td>0.58</td>\n",
       "      <td>0.59</td>\n",
       "      <td>1.72</td>\n",
       "      <td>0.02</td>\n",
       "      <td>2.94</td>\n",
       "    </tr>\n",
       "    <tr>\n",
       "      <th>Ridge</th>\n",
       "      <td>0.58</td>\n",
       "      <td>0.59</td>\n",
       "      <td>1.72</td>\n",
       "      <td>0.02</td>\n",
       "      <td>2.94</td>\n",
       "    </tr>\n",
       "    <tr>\n",
       "      <th>LassoLarsCV</th>\n",
       "      <td>0.58</td>\n",
       "      <td>0.59</td>\n",
       "      <td>1.72</td>\n",
       "      <td>0.05</td>\n",
       "      <td>2.94</td>\n",
       "    </tr>\n",
       "    <tr>\n",
       "      <th>BayesianRidge</th>\n",
       "      <td>0.58</td>\n",
       "      <td>0.59</td>\n",
       "      <td>1.72</td>\n",
       "      <td>0.02</td>\n",
       "      <td>2.94</td>\n",
       "    </tr>\n",
       "    <tr>\n",
       "      <th>HuberRegressor</th>\n",
       "      <td>0.58</td>\n",
       "      <td>0.59</td>\n",
       "      <td>1.72</td>\n",
       "      <td>0.06</td>\n",
       "      <td>2.94</td>\n",
       "    </tr>\n",
       "    <tr>\n",
       "      <th>ElasticNetCV</th>\n",
       "      <td>0.58</td>\n",
       "      <td>0.59</td>\n",
       "      <td>1.72</td>\n",
       "      <td>0.14</td>\n",
       "      <td>2.95</td>\n",
       "    </tr>\n",
       "    <tr>\n",
       "      <th>SGDRegressor</th>\n",
       "      <td>0.58</td>\n",
       "      <td>0.58</td>\n",
       "      <td>1.72</td>\n",
       "      <td>0.03</td>\n",
       "      <td>2.95</td>\n",
       "    </tr>\n",
       "    <tr>\n",
       "      <th>LinearSVR</th>\n",
       "      <td>0.58</td>\n",
       "      <td>0.58</td>\n",
       "      <td>1.72</td>\n",
       "      <td>0.08</td>\n",
       "      <td>2.95</td>\n",
       "    </tr>\n",
       "    <tr>\n",
       "      <th>AdaBoostRegressor</th>\n",
       "      <td>0.55</td>\n",
       "      <td>0.55</td>\n",
       "      <td>1.79</td>\n",
       "      <td>0.21</td>\n",
       "      <td>3.20</td>\n",
       "    </tr>\n",
       "    <tr>\n",
       "      <th>LarsCV</th>\n",
       "      <td>0.51</td>\n",
       "      <td>0.51</td>\n",
       "      <td>1.87</td>\n",
       "      <td>0.05</td>\n",
       "      <td>3.49</td>\n",
       "    </tr>\n",
       "    <tr>\n",
       "      <th>PoissonRegressor</th>\n",
       "      <td>0.47</td>\n",
       "      <td>0.47</td>\n",
       "      <td>1.94</td>\n",
       "      <td>0.01</td>\n",
       "      <td>3.78</td>\n",
       "    </tr>\n",
       "    <tr>\n",
       "      <th>Lars</th>\n",
       "      <td>0.44</td>\n",
       "      <td>0.44</td>\n",
       "      <td>1.99</td>\n",
       "      <td>0.02</td>\n",
       "      <td>3.96</td>\n",
       "    </tr>\n",
       "    <tr>\n",
       "      <th>TweedieRegressor</th>\n",
       "      <td>0.37</td>\n",
       "      <td>0.38</td>\n",
       "      <td>2.10</td>\n",
       "      <td>0.02</td>\n",
       "      <td>4.43</td>\n",
       "    </tr>\n",
       "    <tr>\n",
       "      <th>PassiveAggressiveRegressor</th>\n",
       "      <td>0.37</td>\n",
       "      <td>0.37</td>\n",
       "      <td>2.12</td>\n",
       "      <td>0.02</td>\n",
       "      <td>4.47</td>\n",
       "    </tr>\n",
       "    <tr>\n",
       "      <th>OrthogonalMatchingPursuit</th>\n",
       "      <td>0.31</td>\n",
       "      <td>0.32</td>\n",
       "      <td>2.20</td>\n",
       "      <td>0.01</td>\n",
       "      <td>4.85</td>\n",
       "    </tr>\n",
       "    <tr>\n",
       "      <th>RANSACRegressor</th>\n",
       "      <td>0.26</td>\n",
       "      <td>0.27</td>\n",
       "      <td>2.28</td>\n",
       "      <td>0.09</td>\n",
       "      <td>5.21</td>\n",
       "    </tr>\n",
       "    <tr>\n",
       "      <th>ElasticNet</th>\n",
       "      <td>0.24</td>\n",
       "      <td>0.24</td>\n",
       "      <td>2.32</td>\n",
       "      <td>0.02</td>\n",
       "      <td>5.38</td>\n",
       "    </tr>\n",
       "    <tr>\n",
       "      <th>Lasso</th>\n",
       "      <td>0.16</td>\n",
       "      <td>0.16</td>\n",
       "      <td>2.44</td>\n",
       "      <td>0.02</td>\n",
       "      <td>5.95</td>\n",
       "    </tr>\n",
       "    <tr>\n",
       "      <th>LassoLars</th>\n",
       "      <td>0.16</td>\n",
       "      <td>0.16</td>\n",
       "      <td>2.44</td>\n",
       "      <td>0.01</td>\n",
       "      <td>5.95</td>\n",
       "    </tr>\n",
       "    <tr>\n",
       "      <th>DummyRegressor</th>\n",
       "      <td>-0.00</td>\n",
       "      <td>-0.00</td>\n",
       "      <td>2.66</td>\n",
       "      <td>0.02</td>\n",
       "      <td>7.10</td>\n",
       "    </tr>\n",
       "    <tr>\n",
       "      <th>QuantileRegressor</th>\n",
       "      <td>-0.04</td>\n",
       "      <td>-0.03</td>\n",
       "      <td>2.71</td>\n",
       "      <td>3.69</td>\n",
       "      <td>7.34</td>\n",
       "    </tr>\n",
       "    <tr>\n",
       "      <th>KernelRidge</th>\n",
       "      <td>-2.27</td>\n",
       "      <td>-2.26</td>\n",
       "      <td>4.81</td>\n",
       "      <td>5.91</td>\n",
       "      <td>23.13</td>\n",
       "    </tr>\n",
       "  </tbody>\n",
       "</table>\n",
       "</div>"
      ],
      "text/plain": [
       "                               Adjusted R-Squared  R-Squared  RMSE  \\\n",
       "Model                                                                \n",
       "XGBRegressor                                 0.73       0.73  1.38   \n",
       "RandomForestRegressor                        0.71       0.71  1.43   \n",
       "ExtraTreesRegressor                          0.71       0.71  1.43   \n",
       "LGBMRegressor                                0.71       0.71  1.43   \n",
       "HistGradientBoostingRegressor                0.71       0.71  1.44   \n",
       "BaggingRegressor                             0.71       0.71  1.44   \n",
       "GaussianProcessRegressor                     0.69       0.70  1.47   \n",
       "ExtraTreeRegressor                           0.69       0.69  1.47   \n",
       "DecisionTreeRegressor                        0.69       0.69  1.48   \n",
       "MLPRegressor                                 0.69       0.69  1.48   \n",
       "GradientBoostingRegressor                    0.66       0.66  1.56   \n",
       "NuSVR                                        0.65       0.65  1.57   \n",
       "SVR                                          0.65       0.65  1.58   \n",
       "KNeighborsRegressor                          0.60       0.60  1.68   \n",
       "OrthogonalMatchingPursuitCV                  0.58       0.59  1.71   \n",
       "TransformedTargetRegressor                   0.58       0.59  1.72   \n",
       "LinearRegression                             0.58       0.59  1.72   \n",
       "LassoLarsIC                                  0.58       0.59  1.72   \n",
       "LassoCV                                      0.58       0.59  1.72   \n",
       "RidgeCV                                      0.58       0.59  1.72   \n",
       "Ridge                                        0.58       0.59  1.72   \n",
       "LassoLarsCV                                  0.58       0.59  1.72   \n",
       "BayesianRidge                                0.58       0.59  1.72   \n",
       "HuberRegressor                               0.58       0.59  1.72   \n",
       "ElasticNetCV                                 0.58       0.59  1.72   \n",
       "SGDRegressor                                 0.58       0.58  1.72   \n",
       "LinearSVR                                    0.58       0.58  1.72   \n",
       "AdaBoostRegressor                            0.55       0.55  1.79   \n",
       "LarsCV                                       0.51       0.51  1.87   \n",
       "PoissonRegressor                             0.47       0.47  1.94   \n",
       "Lars                                         0.44       0.44  1.99   \n",
       "TweedieRegressor                             0.37       0.38  2.10   \n",
       "PassiveAggressiveRegressor                   0.37       0.37  2.12   \n",
       "OrthogonalMatchingPursuit                    0.31       0.32  2.20   \n",
       "RANSACRegressor                              0.26       0.27  2.28   \n",
       "ElasticNet                                   0.24       0.24  2.32   \n",
       "Lasso                                        0.16       0.16  2.44   \n",
       "LassoLars                                    0.16       0.16  2.44   \n",
       "DummyRegressor                              -0.00      -0.00  2.66   \n",
       "QuantileRegressor                           -0.04      -0.03  2.71   \n",
       "KernelRidge                                 -2.27      -2.26  4.81   \n",
       "\n",
       "                               Time Taken  mean_squared_error  \n",
       "Model                                                          \n",
       "XGBRegressor                         0.10                1.91  \n",
       "RandomForestRegressor                2.26                2.03  \n",
       "ExtraTreesRegressor                  1.53                2.04  \n",
       "LGBMRegressor                        0.10                2.05  \n",
       "HistGradientBoostingRegressor        0.22                2.06  \n",
       "BaggingRegressor                     0.24                2.08  \n",
       "GaussianProcessRegressor            16.80                2.16  \n",
       "ExtraTreeRegressor                   0.03                2.17  \n",
       "DecisionTreeRegressor                0.04                2.18  \n",
       "MLPRegressor                         5.20                2.18  \n",
       "GradientBoostingRegressor            0.79                2.43  \n",
       "NuSVR                                5.80                2.48  \n",
       "SVR                                  7.50                2.50  \n",
       "KNeighborsRegressor                  0.11                2.82  \n",
       "OrthogonalMatchingPursuitCV          0.03                2.94  \n",
       "TransformedTargetRegressor           0.02                2.94  \n",
       "LinearRegression                     0.01                2.94  \n",
       "LassoLarsIC                          0.02                2.94  \n",
       "LassoCV                              0.14                2.94  \n",
       "RidgeCV                              0.02                2.94  \n",
       "Ridge                                0.02                2.94  \n",
       "LassoLarsCV                          0.05                2.94  \n",
       "BayesianRidge                        0.02                2.94  \n",
       "HuberRegressor                       0.06                2.94  \n",
       "ElasticNetCV                         0.14                2.95  \n",
       "SGDRegressor                         0.03                2.95  \n",
       "LinearSVR                            0.08                2.95  \n",
       "AdaBoostRegressor                    0.21                3.20  \n",
       "LarsCV                               0.05                3.49  \n",
       "PoissonRegressor                     0.01                3.78  \n",
       "Lars                                 0.02                3.96  \n",
       "TweedieRegressor                     0.02                4.43  \n",
       "PassiveAggressiveRegressor           0.02                4.47  \n",
       "OrthogonalMatchingPursuit            0.01                4.85  \n",
       "RANSACRegressor                      0.09                5.21  \n",
       "ElasticNet                           0.02                5.38  \n",
       "Lasso                                0.02                5.95  \n",
       "LassoLars                            0.01                5.95  \n",
       "DummyRegressor                       0.02                7.10  \n",
       "QuantileRegressor                    3.69                7.34  \n",
       "KernelRidge                          5.91               23.13  "
      ]
     },
     "execution_count": 137,
     "metadata": {},
     "output_type": "execute_result"
    }
   ],
   "source": [
    "models"
   ]
  },
  {
   "cell_type": "markdown",
   "id": "a15fe037",
   "metadata": {},
   "source": [
    "## Model with XGBRegressor (Best Model)"
   ]
  },
  {
   "cell_type": "code",
   "execution_count": 138,
   "id": "69e5959e",
   "metadata": {},
   "outputs": [],
   "source": [
    "from xgboost import XGBRegressor\n",
    "\n",
    "# Best model\n",
    "best_model = XGBRegressor(random_state=9)\n",
    "\n",
    "# Train the model\n",
    "best_model.fit(X_train, y_train)\n",
    "\n",
    "# Predictions on test set\n",
    "y_pred = best_model.predict(X_test)"
   ]
  },
  {
   "cell_type": "markdown",
   "id": "004bfd29",
   "metadata": {},
   "source": [
    "## R-Squared"
   ]
  },
  {
   "cell_type": "code",
   "execution_count": 139,
   "id": "b68e76e2",
   "metadata": {},
   "outputs": [
    {
     "name": "stdout",
     "output_type": "stream",
     "text": [
      "R Squared: 0.7315512895584106\n"
     ]
    }
   ],
   "source": [
    "# r_squared\n",
    "r_squared_xgb = r2_score(y_test, y_pred)\n",
    "print(f\"R Squared: {r_squared_xgb}\")"
   ]
  },
  {
   "cell_type": "markdown",
   "id": "dabbfb80",
   "metadata": {},
   "source": [
    "This R-Squared result means that **0.732** (or about **73%**) of the variation in the length of movie rental duration can be explained by the linear relationship between independent variables (predictors) and the dependent variable (rental duration).\n",
    "\n",
    "The remaining **27%** of the variation is not explained by this model and could be due to other factors not included in the analysis or some level of randomness (unexplained variation)."
   ]
  },
  {
   "cell_type": "markdown",
   "id": "9b8a8907",
   "metadata": {},
   "source": [
    "## MSE"
   ]
  },
  {
   "cell_type": "code",
   "execution_count": 140,
   "id": "0a8fb943",
   "metadata": {},
   "outputs": [
    {
     "name": "stdout",
     "output_type": "stream",
     "text": [
      "Mean Squared Error: 1.9058708283906145\n"
     ]
    }
   ],
   "source": [
    "# MSE\n",
    "mse_xgb = mean_squared_error(y_test, y_pred)\n",
    "print(f\"Mean Squared Error: {mse_xgb}\")"
   ]
  },
  {
   "cell_type": "markdown",
   "id": "b3e3b9fe",
   "metadata": {},
   "source": [
    "On the other hand, an MSE of **1.91** means that, on average, the square of the differences between the observed and predicted values of movie rental durations is about **1.91**.\n",
    "\n",
    "Let's check the summary statistics of the dependent variable to compare the MSE result with the standard deviation."
   ]
  },
  {
   "cell_type": "code",
   "execution_count": 141,
   "id": "df5deb19",
   "metadata": {},
   "outputs": [
    {
     "data": {
      "text/plain": [
       "count   15861.00\n",
       "mean        4.53\n",
       "std         2.64\n",
       "min         0.00\n",
       "25%         2.00\n",
       "50%         5.00\n",
       "75%         7.00\n",
       "max         9.00\n",
       "Name: rental_length_days, dtype: float64"
      ]
     },
     "execution_count": 141,
     "metadata": {},
     "output_type": "execute_result"
    }
   ],
   "source": [
    "df['rental_length_days'].describe()"
   ]
  },
  {
   "cell_type": "markdown",
   "id": "1e352667",
   "metadata": {},
   "source": [
    "The MSE value of **1.91** is relatively close to the standard deviation (**2.64**). This suggests that, on average, the model's predictions are off by roughly **1.91** days, which is about **73%** of the standard deviation of the rental lengths.\n",
    "\n",
    "Note that the **73%** in the context of the Mean Squared Error (MSE) is not the same as the R-squared (R²) value. The **73%** of standard deviation for the MSE refers to how close the MSE is to the standard deviation of the data (**2.64**). This shows that the model's prediction errors are about **73%** as large as the spread of the data itself. But this is a different concept from R-squared, which is about **how much of the variance** in the data is explained by the model."
   ]
  },
  {
   "cell_type": "markdown",
   "id": "86f9761a",
   "metadata": {},
   "source": [
    "Considering the range of rental durations is from 0 to 9 days, an MSE of **1.91** indicates that the model’s predictions are somewhat reasonable but not perfect. The model may still have some room for improvement, as it's capturing some but not all of the variability in the data."
   ]
  },
  {
   "cell_type": "markdown",
   "id": "59c11240",
   "metadata": {},
   "source": [
    "## Residual Plot"
   ]
  },
  {
   "cell_type": "markdown",
   "id": "08100bdf",
   "metadata": {},
   "source": [
    "Let's plot the Residual Plot. This plot helps us evaluate whether the regression model is a good fit for the data and making unbiased predictions. It also helps us check whether the variance of errors remains constant across all predicted values (homoscedasticity).\n",
    "\n",
    "A good model should have residuals randomly scattered around zero, with no clear pattern. If we see patterns (e.g., funnel shape, U-shape), it may indicate problems like missing features, heteroscedasticity, or non-linearity in the data."
   ]
  },
  {
   "cell_type": "code",
   "execution_count": 142,
   "id": "244690ae",
   "metadata": {},
   "outputs": [
    {
     "data": {
      "image/png": "[encoded data removed]",
      "text/plain": [
       "<Figure size 800x500 with 1 Axes>"
      ]
     },
     "metadata": {},
     "output_type": "display_data"
    }
   ],
   "source": [
    "# Residuals (errors)\n",
    "residuals = y_test - y_pred\n",
    "\n",
    "plt.figure(figsize=(8, 5))\n",
    "sns.scatterplot(x=y_pred, y=residuals)\n",
    "plt.axhline(y=0, color=\"r\", linestyle=\"--\")  # Reference line at 0\n",
    "plt.xlabel(\"Predicted Rental Length (Days)\")\n",
    "plt.ylabel(\"Residuals (Actual - Predicted)\")\n",
    "plt.title(\"Residual Plot\")\n",
    "plt.show()"
   ]
  },
  {
   "cell_type": "markdown",
   "id": "e6de652c",
   "metadata": {},
   "source": [
    "The residual plot shows a structured pattern with diagonal lines rather than being randomly scattered, indicating that the regression model may not be fully capturing the relationship in the data. The presence of diagonal bands suggests the target variable is discrete, and the variation in residual spread hints at heteroscedasticity. This means the model might not be the best fit for the dataset."
   ]
  },
  {
   "cell_type": "markdown",
   "id": "1775f14f",
   "metadata": {},
   "source": [
    "## Actual vs. Predicted Plot"
   ]
  },
  {
   "cell_type": "code",
   "execution_count": 143,
   "id": "7860be5d",
   "metadata": {},
   "outputs": [
    {
     "data": {
      "image/png": "[encoded data removed]",
      "text/plain": [
       "<Figure size 800x500 with 1 Axes>"
      ]
     },
     "metadata": {},
     "output_type": "display_data"
    }
   ],
   "source": [
    "plt.figure(figsize=(8, 5))\n",
    "sns.scatterplot(x=y_test, y=y_pred, alpha=0.7)\n",
    "plt.plot([y_test.min(), y_test.max()], [y_test.min(), y_test.max()], \"r--\")  # Perfect prediction line\n",
    "plt.xlabel(\"Actual Rental Length (Days)\")\n",
    "plt.ylabel(\"Predicted Rental Length (Days)\")\n",
    "plt.title(\"Actual vs. Predicted\")\n",
    "plt.show()\n"
   ]
  },
  {
   "cell_type": "markdown",
   "id": "a515d220",
   "metadata": {},
   "source": [
    "In this Actual vs. Predicted Plot, the predictions follow a general upward trend, meaning the model **captures the relationship** between the features and rental length. However, **there is noticeable vertical dispersion**, meaning the model has difficulty making precise predictions, especially for higher rental lengths.\n",
    "\n",
    "The **banded structure** suggests that the target variable is **discrete (integer values)**, meaning that customers mostly rent for whole days. There are **predictions above and below the red line**, meaning some values are underpredicted and others are overpredicted."
   ]
  },
  {
   "cell_type": "markdown",
   "id": "20835b98",
   "metadata": {},
   "source": [
    "The trend follows the expected pattern (higher actual rental lengths correspond to higher predicted values). But there are some potential issues:\n",
    "- Some points deviate significantly from the red line, suggesting errors in prediction.\n",
    "- The **vertical spread at each actual rental length** means the model struggles to predict exact values."
   ]
  },
  {
   "cell_type": "markdown",
   "id": "35ce5c6a",
   "metadata": {},
   "source": [
    "## Distribution of Residuals Plot"
   ]
  },
  {
   "cell_type": "markdown",
   "id": "18e12ac1",
   "metadata": {},
   "source": [
    "Let's see the Distribution of Residuals plot."
   ]
  },
  {
   "cell_type": "code",
   "execution_count": 144,
   "id": "a72c9676",
   "metadata": {},
   "outputs": [
    {
     "data": {
      "image/png": "[encoded data removed]",
      "text/plain": [
       "<Figure size 800x500 with 1 Axes>"
      ]
     },
     "metadata": {},
     "output_type": "display_data"
    }
   ],
   "source": [
    "plt.figure(figsize=(8, 5))\n",
    "sns.histplot(residuals, bins=30, kde=True)\n",
    "plt.axvline(x=0, color=\"r\", linestyle=\"--\")  # Reference line at 0\n",
    "plt.xlabel(\"Residuals\")\n",
    "plt.ylabel(\"Frequency\")\n",
    "plt.title(\"Distribution of Residuals\")\n",
    "plt.show()\n"
   ]
  },
  {
   "cell_type": "markdown",
   "id": "6f901578",
   "metadata": {},
   "source": [
    "We can see that the residuals follow a **roughly normal distribution**, which is a good sign. The peak at **0** suggests that many predictions are close to the actual values. The **slight right skew** (more positive residuals) suggests that the model tends to **underpredict** rental length slightly. And there are also **some large residuals (outliers)**, meaning some predictions are quite far off or some extreme values are predicted inaccurately."
   ]
  },
  {
   "cell_type": "markdown",
   "id": "b89efe70",
   "metadata": {},
   "source": [
    "## Feature Importance"
   ]
  },
  {
   "cell_type": "markdown",
   "id": "8617666f",
   "metadata": {},
   "source": [
    "Let's check the feature importance in the dataset to check how much each feature (independent variable) contributes to the prediction of the dependent variable in a model."
   ]
  },
  {
   "cell_type": "code",
   "execution_count": 145,
   "id": "2317143e",
   "metadata": {},
   "outputs": [
    {
     "data": {
      "image/png": "[encoded data removed]",
      "text/plain": [
       "<Figure size 1000x500 with 1 Axes>"
      ]
     },
     "metadata": {},
     "output_type": "display_data"
    }
   ],
   "source": [
    "if hasattr(best_model, \"feature_importances_\"):  # Only for tree-based models\n",
    "    feature_importance = pd.Series(best_model.feature_importances_, index=X_train.columns)\n",
    "    feature_importance.sort_values(ascending=False).plot(kind=\"bar\", figsize=(10, 5))\n",
    "    plt.ylabel(\"Importance Score\")\n",
    "    plt.title(\"Feature Importance\")\n",
    "    plt.show()"
   ]
  },
  {
   "cell_type": "markdown",
   "id": "2a44cfbc",
   "metadata": {},
   "source": [
    "We can see that the features `amount` and `rental_rate` have the higher importance scores compared to the other features. The ≈**0.40** importance score means that the feature explains **40%** of the model's prediction in relation to all the features used in the model.\n",
    "\n",
    "This indicates that these features have a relatively significant influence on the prediction of the rental duration (the dependent variable). These features are likely to be one of the primary predictors for the rental length, and it explains a considerable portion of the variation in the rental duration."
   ]
  }
 ],
 "metadata": {
  "colab": {
   "name": "Welcome to DataCamp Workspaces.ipynb",
   "provenance": []
  },
  "kernelspec": {
   "display_name": "experimentation",
   "language": "python",
   "name": "python3"
  },
  "language_info": {
   "codemirror_mode": {
    "name": "ipython",
    "version": 3
   },
   "file_extension": ".py",
   "mimetype": "text/x-python",
   "name": "python",
   "nbconvert_exporter": "python",
   "pygments_lexer": "ipython3",
   "version": "3.12.3"
  }
 },
 "nbformat": 4,
 "nbformat_minor": 5
}
