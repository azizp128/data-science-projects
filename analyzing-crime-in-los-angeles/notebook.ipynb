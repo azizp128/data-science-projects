{
 "cells": [
  {
   "cell_type": "markdown",
   "id": "76f9918a",
   "metadata": {},
   "source": [
    "# Import Libraries & Datasets"
   ]
  },
  {
   "cell_type": "code",
   "execution_count": 1,
   "id": "7c6c3c36-5c8b-4cce-8681-95292b8f0861",
   "metadata": {
    "executionCancelledAt": null,
    "executionTime": 365,
    "lastExecutedAt": 1735549050615,
    "lastExecutedByKernel": "e328fcf9-a205-4ccf-9c85-4f525c33eb29",
    "lastScheduledRunId": null,
    "lastSuccessfullyExecutedCode": "# Re-run this cell\n# Import required libraries\nimport pandas as pd\nimport numpy as np\nimport matplotlib.pyplot as plt\nimport seaborn as sns\ncrimes = pd.read_csv(\"crimes.csv\", parse_dates=[\"Date Rptd\", \"DATE OCC\"], dtype={\"TIME OCC\": str})\ncrimes.head()",
    "outputsMetadata": {
     "0": {
      "height": 262,
      "tableState": {
       "quickFilterText": ""
      },
      "type": "dataFrame"
     }
    }
   },
   "outputs": [
    {
     "data": {
      "text/html": [
       "<div>\n",
       "<style scoped>\n",
       "    .dataframe tbody tr th:only-of-type {\n",
       "        vertical-align: middle;\n",
       "    }\n",
       "\n",
       "    .dataframe tbody tr th {\n",
       "        vertical-align: top;\n",
       "    }\n",
       "\n",
       "    .dataframe thead th {\n",
       "        text-align: right;\n",
       "    }\n",
       "</style>\n",
       "<table border=\"1\" class=\"dataframe\">\n",
       "  <thead>\n",
       "    <tr style=\"text-align: right;\">\n",
       "      <th></th>\n",
       "      <th>DR_NO</th>\n",
       "      <th>Date Rptd</th>\n",
       "      <th>DATE OCC</th>\n",
       "      <th>TIME OCC</th>\n",
       "      <th>AREA NAME</th>\n",
       "      <th>Crm Cd Desc</th>\n",
       "      <th>Vict Age</th>\n",
       "      <th>Vict Sex</th>\n",
       "      <th>Vict Descent</th>\n",
       "      <th>Weapon Desc</th>\n",
       "      <th>Status Desc</th>\n",
       "      <th>LOCATION</th>\n",
       "    </tr>\n",
       "  </thead>\n",
       "  <tbody>\n",
       "    <tr>\n",
       "      <th>0</th>\n",
       "      <td>220314085</td>\n",
       "      <td>2022-07-22</td>\n",
       "      <td>2020-05-12</td>\n",
       "      <td>1110</td>\n",
       "      <td>Southwest</td>\n",
       "      <td>THEFT OF IDENTITY</td>\n",
       "      <td>27</td>\n",
       "      <td>F</td>\n",
       "      <td>B</td>\n",
       "      <td>NaN</td>\n",
       "      <td>Invest Cont</td>\n",
       "      <td>2500 S  SYCAMORE                     AV</td>\n",
       "    </tr>\n",
       "    <tr>\n",
       "      <th>1</th>\n",
       "      <td>222013040</td>\n",
       "      <td>2022-08-06</td>\n",
       "      <td>2020-06-04</td>\n",
       "      <td>1620</td>\n",
       "      <td>Olympic</td>\n",
       "      <td>THEFT OF IDENTITY</td>\n",
       "      <td>60</td>\n",
       "      <td>M</td>\n",
       "      <td>H</td>\n",
       "      <td>NaN</td>\n",
       "      <td>Invest Cont</td>\n",
       "      <td>3300    SAN MARINO                   ST</td>\n",
       "    </tr>\n",
       "    <tr>\n",
       "      <th>2</th>\n",
       "      <td>220614831</td>\n",
       "      <td>2022-08-18</td>\n",
       "      <td>2020-08-17</td>\n",
       "      <td>1200</td>\n",
       "      <td>Hollywood</td>\n",
       "      <td>THEFT OF IDENTITY</td>\n",
       "      <td>28</td>\n",
       "      <td>M</td>\n",
       "      <td>H</td>\n",
       "      <td>NaN</td>\n",
       "      <td>Invest Cont</td>\n",
       "      <td>1900    TRANSIENT</td>\n",
       "    </tr>\n",
       "    <tr>\n",
       "      <th>3</th>\n",
       "      <td>231207725</td>\n",
       "      <td>2023-02-27</td>\n",
       "      <td>2020-01-27</td>\n",
       "      <td>0635</td>\n",
       "      <td>77th Street</td>\n",
       "      <td>THEFT OF IDENTITY</td>\n",
       "      <td>37</td>\n",
       "      <td>M</td>\n",
       "      <td>H</td>\n",
       "      <td>NaN</td>\n",
       "      <td>Invest Cont</td>\n",
       "      <td>6200    4TH                          AV</td>\n",
       "    </tr>\n",
       "    <tr>\n",
       "      <th>4</th>\n",
       "      <td>220213256</td>\n",
       "      <td>2022-07-14</td>\n",
       "      <td>2020-07-14</td>\n",
       "      <td>0900</td>\n",
       "      <td>Rampart</td>\n",
       "      <td>THEFT OF IDENTITY</td>\n",
       "      <td>79</td>\n",
       "      <td>M</td>\n",
       "      <td>B</td>\n",
       "      <td>NaN</td>\n",
       "      <td>Invest Cont</td>\n",
       "      <td>1200 W  7TH                          ST</td>\n",
       "    </tr>\n",
       "  </tbody>\n",
       "</table>\n",
       "</div>"
      ],
      "text/plain": [
       "       DR_NO  Date Rptd   DATE OCC TIME OCC    AREA NAME        Crm Cd Desc  \\\n",
       "0  220314085 2022-07-22 2020-05-12     1110    Southwest  THEFT OF IDENTITY   \n",
       "1  222013040 2022-08-06 2020-06-04     1620      Olympic  THEFT OF IDENTITY   \n",
       "2  220614831 2022-08-18 2020-08-17     1200    Hollywood  THEFT OF IDENTITY   \n",
       "3  231207725 2023-02-27 2020-01-27     0635  77th Street  THEFT OF IDENTITY   \n",
       "4  220213256 2022-07-14 2020-07-14     0900      Rampart  THEFT OF IDENTITY   \n",
       "\n",
       "   Vict Age Vict Sex Vict Descent Weapon Desc  Status Desc  \\\n",
       "0        27        F            B         NaN  Invest Cont   \n",
       "1        60        M            H         NaN  Invest Cont   \n",
       "2        28        M            H         NaN  Invest Cont   \n",
       "3        37        M            H         NaN  Invest Cont   \n",
       "4        79        M            B         NaN  Invest Cont   \n",
       "\n",
       "                                  LOCATION  \n",
       "0  2500 S  SYCAMORE                     AV  \n",
       "1  3300    SAN MARINO                   ST  \n",
       "2                        1900    TRANSIENT  \n",
       "3  6200    4TH                          AV  \n",
       "4  1200 W  7TH                          ST  "
      ]
     },
     "execution_count": 1,
     "metadata": {},
     "output_type": "execute_result"
    }
   ],
   "source": [
    "# Import required libraries\n",
    "import pandas as pd\n",
    "import numpy as np\n",
    "import matplotlib.pyplot as plt\n",
    "import seaborn as sns\n",
    "crimes = pd.read_csv(\"crimes.csv\", parse_dates=[\"Date Rptd\", \"DATE OCC\"], dtype={\"TIME OCC\": str})\n",
    "crimes.head()"
   ]
  },
  {
   "cell_type": "code",
   "execution_count": 2,
   "id": "19e028f5-b4bd-43ed-b040-8ce228fb97e6",
   "metadata": {
    "executionCancelledAt": null,
    "executionTime": 197,
    "lastExecutedAt": 1735549050812,
    "lastExecutedByKernel": "e328fcf9-a205-4ccf-9c85-4f525c33eb29",
    "lastScheduledRunId": null,
    "lastSuccessfullyExecutedCode": "crimes.info()",
    "outputsMetadata": {
     "0": {
      "height": 416,
      "type": "stream"
     }
    }
   },
   "outputs": [
    {
     "name": "stdout",
     "output_type": "stream",
     "text": [
      "<class 'pandas.core.frame.DataFrame'>\n",
      "RangeIndex: 185715 entries, 0 to 185714\n",
      "Data columns (total 12 columns):\n",
      " #   Column        Non-Null Count   Dtype         \n",
      "---  ------        --------------   -----         \n",
      " 0   DR_NO         185715 non-null  int64         \n",
      " 1   Date Rptd     185715 non-null  datetime64[ns]\n",
      " 2   DATE OCC      185715 non-null  datetime64[ns]\n",
      " 3   TIME OCC      185715 non-null  object        \n",
      " 4   AREA NAME     185715 non-null  object        \n",
      " 5   Crm Cd Desc   185715 non-null  object        \n",
      " 6   Vict Age      185715 non-null  int64         \n",
      " 7   Vict Sex      185704 non-null  object        \n",
      " 8   Vict Descent  185705 non-null  object        \n",
      " 9   Weapon Desc   73502 non-null   object        \n",
      " 10  Status Desc   185715 non-null  object        \n",
      " 11  LOCATION      185715 non-null  object        \n",
      "dtypes: datetime64[ns](2), int64(2), object(8)\n",
      "memory usage: 17.0+ MB\n"
     ]
    }
   ],
   "source": [
    "crimes.info()"
   ]
  },
  {
   "cell_type": "markdown",
   "id": "393992fb-bc09-4e8f-b8f3-388ab1549678",
   "metadata": {},
   "source": [
    "# Which hour has the highest frequency of crimes?"
   ]
  },
  {
   "cell_type": "code",
   "execution_count": 3,
   "id": "53eada96-447c-46c3-9848-f4ca3de53d06",
   "metadata": {
    "executionCancelledAt": null,
    "executionTime": 69,
    "lastExecutedAt": 1735549050881,
    "lastExecutedByKernel": "e328fcf9-a205-4ccf-9c85-4f525c33eb29",
    "lastScheduledRunId": null,
    "lastSuccessfullyExecutedCode": "# Extract TIME OCC\ncrimes['Hour OCC'] = crimes['TIME OCC'].str[:2].astype(int)\n\n# Peak crime hour\npeak_crime_hour = crimes['Hour OCC'].value_counts().idxmax()\n\nprint(peak_crime_hour)",
    "outputsMetadata": {
     "0": {
      "height": 38,
      "type": "stream"
     }
    }
   },
   "outputs": [
    {
     "name": "stdout",
     "output_type": "stream",
     "text": [
      "12\n"
     ]
    }
   ],
   "source": [
    "# Extract TIME OCC\n",
    "crimes['Hour OCC'] = crimes['TIME OCC'].str[:2].astype(int)\n",
    "\n",
    "# Peak crime hour\n",
    "peak_crime_hour = crimes['Hour OCC'].value_counts().idxmax()\n",
    "\n",
    "print(peak_crime_hour)"
   ]
  },
  {
   "cell_type": "markdown",
   "id": "dcb33198-d631-41a2-9361-27b908151410",
   "metadata": {},
   "source": [
    "# Which area has the largest frequency of night crimes (crimes committed between 10pm and 3:59am)?"
   ]
  },
  {
   "cell_type": "code",
   "execution_count": 4,
   "id": "061ebb2e-6c28-4442-8d77-a50cf570c5b4",
   "metadata": {
    "executionCancelledAt": null,
    "executionTime": 49,
    "lastExecutedAt": 1735549050930,
    "lastExecutedByKernel": "e328fcf9-a205-4ccf-9c85-4f525c33eb29",
    "lastScheduledRunId": null,
    "lastSuccessfullyExecutedCode": "# Peak night crime location (10pm to 3:59am)\nnight_crimes = crimes[(crimes['Hour OCC'] >= 22) | (crimes['Hour OCC'] < 4)]\npeak_night_crime_location = night_crimes['AREA NAME'].value_counts().idxmax()\n\nprint(peak_night_crime_location)"
   },
   "outputs": [
    {
     "name": "stdout",
     "output_type": "stream",
     "text": [
      "Central\n"
     ]
    }
   ],
   "source": [
    "# Peak night crime location (10pm to 3:59am)\n",
    "night_crimes = crimes[(crimes['Hour OCC'] >= 22) | (crimes['Hour OCC'] < 4)]\n",
    "peak_night_crime_location = night_crimes['AREA NAME'].value_counts().idxmax()\n",
    "\n",
    "print(peak_night_crime_location)"
   ]
  },
  {
   "cell_type": "markdown",
   "id": "b951967f-cf98-43dc-b218-6f64f0863835",
   "metadata": {},
   "source": [
    "# Identify the number of crimes committed against victims of different age groups."
   ]
  },
  {
   "cell_type": "code",
   "execution_count": 5,
   "id": "755738b5-fa49-4a64-bf09-2b13b82fb889",
   "metadata": {
    "executionCancelledAt": null,
    "executionTime": 51,
    "lastExecutedAt": 1735549050981,
    "lastExecutedByKernel": "e328fcf9-a205-4ccf-9c85-4f525c33eb29",
    "lastScheduledRunId": null,
    "lastSuccessfullyExecutedCode": "# Victim ages grouped\nage_bins = [0, 17, 25, 34, 44, 54, 64, float('inf')]\nage_labels = [\"0-17\", \"18-25\", \"26-34\", \"35-44\", \"45-54\", \"55-64\", \"65+\"]\ncrimes['Age Group'] = pd.cut(crimes['Vict Age'], bins=age_bins, labels=age_labels, right=True)\nvictim_ages = crimes['Age Group'].value_counts().reindex(age_labels, fill_value=0)\n\nprint(victim_ages)"
   },
   "outputs": [
    {
     "name": "stdout",
     "output_type": "stream",
     "text": [
      "Age Group\n",
      "0-17      4528\n",
      "18-25    28291\n",
      "26-34    47470\n",
      "35-44    42157\n",
      "45-54    28353\n",
      "55-64    20169\n",
      "65+      14747\n",
      "Name: count, dtype: int64\n"
     ]
    }
   ],
   "source": [
    "# Victim ages grouped\n",
    "age_bins = [0, 17, 25, 34, 44, 54, 64, float('inf')]\n",
    "age_labels = [\"0-17\", \"18-25\", \"26-34\", \"35-44\", \"45-54\", \"55-64\", \"65+\"]\n",
    "crimes['Age Group'] = pd.cut(crimes['Vict Age'], bins=age_bins, labels=age_labels, right=True)\n",
    "victim_ages = crimes['Age Group'].value_counts().reindex(age_labels, fill_value=0)\n",
    "\n",
    "print(victim_ages)"
   ]
  },
  {
   "cell_type": "code",
   "execution_count": 6,
   "id": "434d76a8-ebd0-4b3d-89a5-a90ee649c753",
   "metadata": {
    "executionCancelledAt": null,
    "executionTime": 309,
    "lastExecutedAt": 1735549051290,
    "lastExecutedByKernel": "e328fcf9-a205-4ccf-9c85-4f525c33eb29",
    "lastScheduledRunId": null,
    "lastSuccessfullyExecutedCode": "# Visualize the number of crimes committed against victims of different age groups\nplt.figure(figsize=(8, 5))\nvictim_ages.plot(kind='bar', color='skyblue', edgecolor='black')\n\nplt.title(\"Number of Crimes by Victim Age Group\", fontsize=14)\nplt.xlabel(\"Age Group\", fontsize=12)\nplt.ylabel(\"Number of Crimes\", fontsize=12)\nplt.xticks(rotation=0, fontsize=10)\nplt.grid(axis='y', linestyle='--', alpha=0.7)\nplt.tight_layout()\n\nplt.show()"
   },
   "outputs": [
    {
     "data": {
      "image/png": "[encoded data removed]",
      "text/plain": [
       "<Figure size 800x500 with 1 Axes>"
      ]
     },
     "metadata": {},
     "output_type": "display_data"
    }
   ],
   "source": [
    "# Visualize the number of crimes committed against victims of different age groups\n",
    "plt.figure(figsize=(8, 5))\n",
    "victim_ages.plot(kind='bar', color='skyblue', edgecolor='black')\n",
    "\n",
    "plt.title(\"Number of Crimes by Victim Age Group\", fontsize=14)\n",
    "plt.xlabel(\"Age Group\", fontsize=12)\n",
    "plt.ylabel(\"Number of Crimes\", fontsize=12)\n",
    "plt.xticks(rotation=0, fontsize=10)\n",
    "plt.grid(axis='y', linestyle='--', alpha=0.7)\n",
    "plt.tight_layout()\n",
    "\n",
    "plt.show()"
   ]
  }
 ],
 "metadata": {
  "colab": {
   "name": "Welcome to DataCamp Workspaces.ipynb",
   "provenance": []
  },
  "kernelspec": {
   "display_name": "experimentation",
   "language": "python",
   "name": "python3"
  },
  "language_info": {
   "codemirror_mode": {
    "name": "ipython",
    "version": 3
   },
   "file_extension": ".py",
   "mimetype": "text/x-python",
   "name": "python",
   "nbconvert_exporter": "python",
   "pygments_lexer": "ipython3",
   "version": "3.12.3"
  }
 },
 "nbformat": 4,
 "nbformat_minor": 5
}
