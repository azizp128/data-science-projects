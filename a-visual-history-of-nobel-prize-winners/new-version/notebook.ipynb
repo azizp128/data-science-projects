{
 "cells": [
  {
   "cell_type": "markdown",
   "id": "0803cbab",
   "metadata": {},
   "source": [
    "# Import Libraries & Datasets"
   ]
  },
  {
   "cell_type": "code",
   "execution_count": 1,
   "id": "11fd5946-7bd1-495c-aa7f-ff6e7e4a350b",
   "metadata": {
    "executionCancelledAt": null,
    "executionTime": 57,
    "lastExecutedAt": 1735212229673,
    "lastExecutedByKernel": "261af90d-3a30-43af-95b2-a7559dd066ff",
    "lastScheduledRunId": null,
    "lastSuccessfullyExecutedCode": "# Loading in required libraries\nimport pandas as pd\nimport seaborn as sns\nimport numpy as np\n\nnobel = pd.read_csv(\"data/nobel.csv\")\nnobel.head()",
    "outputsMetadata": {
     "0": {
      "height": 550,
      "tableState": {
       "quickFilterText": ""
      },
      "type": "dataFrame"
     }
    }
   },
   "outputs": [
    {
     "data": {
      "text/html": [
       "<div>\n",
       "<style scoped>\n",
       "    .dataframe tbody tr th:only-of-type {\n",
       "        vertical-align: middle;\n",
       "    }\n",
       "\n",
       "    .dataframe tbody tr th {\n",
       "        vertical-align: top;\n",
       "    }\n",
       "\n",
       "    .dataframe thead th {\n",
       "        text-align: right;\n",
       "    }\n",
       "</style>\n",
       "<table border=\"1\" class=\"dataframe\">\n",
       "  <thead>\n",
       "    <tr style=\"text-align: right;\">\n",
       "      <th></th>\n",
       "      <th>year</th>\n",
       "      <th>category</th>\n",
       "      <th>prize</th>\n",
       "      <th>motivation</th>\n",
       "      <th>prize_share</th>\n",
       "      <th>laureate_id</th>\n",
       "      <th>laureate_type</th>\n",
       "      <th>full_name</th>\n",
       "      <th>birth_date</th>\n",
       "      <th>birth_city</th>\n",
       "      <th>birth_country</th>\n",
       "      <th>sex</th>\n",
       "      <th>organization_name</th>\n",
       "      <th>organization_city</th>\n",
       "      <th>organization_country</th>\n",
       "      <th>death_date</th>\n",
       "      <th>death_city</th>\n",
       "      <th>death_country</th>\n",
       "    </tr>\n",
       "  </thead>\n",
       "  <tbody>\n",
       "    <tr>\n",
       "      <th>0</th>\n",
       "      <td>1901</td>\n",
       "      <td>Chemistry</td>\n",
       "      <td>The Nobel Prize in Chemistry 1901</td>\n",
       "      <td>\"in recognition of the extraordinary services ...</td>\n",
       "      <td>1/1</td>\n",
       "      <td>160</td>\n",
       "      <td>Individual</td>\n",
       "      <td>Jacobus Henricus van 't Hoff</td>\n",
       "      <td>1852-08-30</td>\n",
       "      <td>Rotterdam</td>\n",
       "      <td>Netherlands</td>\n",
       "      <td>Male</td>\n",
       "      <td>Berlin University</td>\n",
       "      <td>Berlin</td>\n",
       "      <td>Germany</td>\n",
       "      <td>1911-03-01</td>\n",
       "      <td>Berlin</td>\n",
       "      <td>Germany</td>\n",
       "    </tr>\n",
       "    <tr>\n",
       "      <th>1</th>\n",
       "      <td>1901</td>\n",
       "      <td>Literature</td>\n",
       "      <td>The Nobel Prize in Literature 1901</td>\n",
       "      <td>\"in special recognition of his poetic composit...</td>\n",
       "      <td>1/1</td>\n",
       "      <td>569</td>\n",
       "      <td>Individual</td>\n",
       "      <td>Sully Prudhomme</td>\n",
       "      <td>1839-03-16</td>\n",
       "      <td>Paris</td>\n",
       "      <td>France</td>\n",
       "      <td>Male</td>\n",
       "      <td>NaN</td>\n",
       "      <td>NaN</td>\n",
       "      <td>NaN</td>\n",
       "      <td>1907-09-07</td>\n",
       "      <td>Châtenay</td>\n",
       "      <td>France</td>\n",
       "    </tr>\n",
       "    <tr>\n",
       "      <th>2</th>\n",
       "      <td>1901</td>\n",
       "      <td>Medicine</td>\n",
       "      <td>The Nobel Prize in Physiology or Medicine 1901</td>\n",
       "      <td>\"for his work on serum therapy, especially its...</td>\n",
       "      <td>1/1</td>\n",
       "      <td>293</td>\n",
       "      <td>Individual</td>\n",
       "      <td>Emil Adolf von Behring</td>\n",
       "      <td>1854-03-15</td>\n",
       "      <td>Hansdorf (Lawice)</td>\n",
       "      <td>Prussia (Poland)</td>\n",
       "      <td>Male</td>\n",
       "      <td>Marburg University</td>\n",
       "      <td>Marburg</td>\n",
       "      <td>Germany</td>\n",
       "      <td>1917-03-31</td>\n",
       "      <td>Marburg</td>\n",
       "      <td>Germany</td>\n",
       "    </tr>\n",
       "    <tr>\n",
       "      <th>3</th>\n",
       "      <td>1901</td>\n",
       "      <td>Peace</td>\n",
       "      <td>The Nobel Peace Prize 1901</td>\n",
       "      <td>NaN</td>\n",
       "      <td>1/2</td>\n",
       "      <td>462</td>\n",
       "      <td>Individual</td>\n",
       "      <td>Jean Henry Dunant</td>\n",
       "      <td>1828-05-08</td>\n",
       "      <td>Geneva</td>\n",
       "      <td>Switzerland</td>\n",
       "      <td>Male</td>\n",
       "      <td>NaN</td>\n",
       "      <td>NaN</td>\n",
       "      <td>NaN</td>\n",
       "      <td>1910-10-30</td>\n",
       "      <td>Heiden</td>\n",
       "      <td>Switzerland</td>\n",
       "    </tr>\n",
       "    <tr>\n",
       "      <th>4</th>\n",
       "      <td>1901</td>\n",
       "      <td>Peace</td>\n",
       "      <td>The Nobel Peace Prize 1901</td>\n",
       "      <td>NaN</td>\n",
       "      <td>1/2</td>\n",
       "      <td>463</td>\n",
       "      <td>Individual</td>\n",
       "      <td>Frédéric Passy</td>\n",
       "      <td>1822-05-20</td>\n",
       "      <td>Paris</td>\n",
       "      <td>France</td>\n",
       "      <td>Male</td>\n",
       "      <td>NaN</td>\n",
       "      <td>NaN</td>\n",
       "      <td>NaN</td>\n",
       "      <td>1912-06-12</td>\n",
       "      <td>Paris</td>\n",
       "      <td>France</td>\n",
       "    </tr>\n",
       "  </tbody>\n",
       "</table>\n",
       "</div>"
      ],
      "text/plain": [
       "   year    category                                           prize  \\\n",
       "0  1901   Chemistry               The Nobel Prize in Chemistry 1901   \n",
       "1  1901  Literature              The Nobel Prize in Literature 1901   \n",
       "2  1901    Medicine  The Nobel Prize in Physiology or Medicine 1901   \n",
       "3  1901       Peace                      The Nobel Peace Prize 1901   \n",
       "4  1901       Peace                      The Nobel Peace Prize 1901   \n",
       "\n",
       "                                          motivation prize_share  laureate_id  \\\n",
       "0  \"in recognition of the extraordinary services ...         1/1          160   \n",
       "1  \"in special recognition of his poetic composit...         1/1          569   \n",
       "2  \"for his work on serum therapy, especially its...         1/1          293   \n",
       "3                                                NaN         1/2          462   \n",
       "4                                                NaN         1/2          463   \n",
       "\n",
       "  laureate_type                     full_name  birth_date         birth_city  \\\n",
       "0    Individual  Jacobus Henricus van 't Hoff  1852-08-30          Rotterdam   \n",
       "1    Individual               Sully Prudhomme  1839-03-16              Paris   \n",
       "2    Individual        Emil Adolf von Behring  1854-03-15  Hansdorf (Lawice)   \n",
       "3    Individual             Jean Henry Dunant  1828-05-08             Geneva   \n",
       "4    Individual                Frédéric Passy  1822-05-20              Paris   \n",
       "\n",
       "      birth_country   sex   organization_name organization_city  \\\n",
       "0       Netherlands  Male   Berlin University            Berlin   \n",
       "1            France  Male                 NaN               NaN   \n",
       "2  Prussia (Poland)  Male  Marburg University           Marburg   \n",
       "3       Switzerland  Male                 NaN               NaN   \n",
       "4            France  Male                 NaN               NaN   \n",
       "\n",
       "  organization_country  death_date death_city death_country  \n",
       "0              Germany  1911-03-01     Berlin       Germany  \n",
       "1                  NaN  1907-09-07   Châtenay        France  \n",
       "2              Germany  1917-03-31    Marburg       Germany  \n",
       "3                  NaN  1910-10-30     Heiden   Switzerland  \n",
       "4                  NaN  1912-06-12      Paris        France  "
      ]
     },
     "execution_count": 1,
     "metadata": {},
     "output_type": "execute_result"
    }
   ],
   "source": [
    "# Loading in required libraries\n",
    "import pandas as pd\n",
    "import seaborn as sns\n",
    "import numpy as np\n",
    "\n",
    "nobel = pd.read_csv(\"nobel.csv\")\n",
    "nobel.head()"
   ]
  },
  {
   "cell_type": "code",
   "execution_count": 2,
   "id": "cee05f9a-2961-4c45-9a0f-c2cd155b230c",
   "metadata": {
    "executionCancelledAt": null,
    "executionTime": 57,
    "lastExecutedAt": 1735212229730,
    "lastExecutedByKernel": "261af90d-3a30-43af-95b2-a7559dd066ff",
    "lastScheduledRunId": null,
    "lastSuccessfullyExecutedCode": "nobel.info()",
    "outputsMetadata": {
     "0": {
      "height": 542,
      "type": "stream"
     }
    }
   },
   "outputs": [
    {
     "name": "stdout",
     "output_type": "stream",
     "text": [
      "<class 'pandas.core.frame.DataFrame'>\n",
      "RangeIndex: 1000 entries, 0 to 999\n",
      "Data columns (total 18 columns):\n",
      " #   Column                Non-Null Count  Dtype \n",
      "---  ------                --------------  ----- \n",
      " 0   year                  1000 non-null   int64 \n",
      " 1   category              1000 non-null   object\n",
      " 2   prize                 1000 non-null   object\n",
      " 3   motivation            912 non-null    object\n",
      " 4   prize_share           1000 non-null   object\n",
      " 5   laureate_id           1000 non-null   int64 \n",
      " 6   laureate_type         1000 non-null   object\n",
      " 7   full_name             1000 non-null   object\n",
      " 8   birth_date            968 non-null    object\n",
      " 9   birth_city            964 non-null    object\n",
      " 10  birth_country         969 non-null    object\n",
      " 11  sex                   970 non-null    object\n",
      " 12  organization_name     736 non-null    object\n",
      " 13  organization_city     735 non-null    object\n",
      " 14  organization_country  735 non-null    object\n",
      " 15  death_date            596 non-null    object\n",
      " 16  death_city            579 non-null    object\n",
      " 17  death_country         585 non-null    object\n",
      "dtypes: int64(2), object(16)\n",
      "memory usage: 140.8+ KB\n"
     ]
    }
   ],
   "source": [
    "nobel.info()"
   ]
  },
  {
   "cell_type": "markdown",
   "id": "100c81cc-4077-4afa-b556-974376c4b426",
   "metadata": {},
   "source": [
    "# What is the most commonly awarded gender and birth country?"
   ]
  },
  {
   "cell_type": "code",
   "execution_count": 3,
   "id": "a2684110-fb67-4567-987b-9c633acd469a",
   "metadata": {
    "executionCancelledAt": null,
    "executionTime": 53,
    "lastExecutedAt": 1735212229783,
    "lastExecutedByKernel": "261af90d-3a30-43af-95b2-a7559dd066ff",
    "lastScheduledRunId": null,
    "lastSuccessfullyExecutedCode": "# Check the number of gender and birth country and display it\nnum_gender = nobel['sex'].value_counts()\nnum_country = nobel['birth_country'].value_counts()\n\ndisplay(num_gender)\ndisplay(num_country)",
    "outputsMetadata": {
     "0": {
      "height": 550,
      "tableState": {
       "quickFilterText": ""
      },
      "type": "dataFrame"
     },
     "1": {
      "height": 550,
      "tableState": {
       "quickFilterText": ""
      },
      "type": "dataFrame"
     }
    }
   },
   "outputs": [
    {
     "data": {
      "text/plain": [
       "sex\n",
       "Male      905\n",
       "Female     65\n",
       "Name: count, dtype: int64"
      ]
     },
     "metadata": {},
     "output_type": "display_data"
    },
    {
     "data": {
      "text/plain": [
       "birth_country\n",
       "United States of America                        291\n",
       "United Kingdom                                   91\n",
       "Germany                                          67\n",
       "France                                           58\n",
       "Sweden                                           30\n",
       "                                               ... \n",
       "Austria-Hungary (Ukraine)                         1\n",
       "Ottoman Empire (Turkey)                           1\n",
       "Russian Empire (Azerbaijan)                       1\n",
       "Bosnia (Bosnia and Herzegovina)                   1\n",
       "French protectorate of Tunisia (now Tunisia)      1\n",
       "Name: count, Length: 129, dtype: int64"
      ]
     },
     "metadata": {},
     "output_type": "display_data"
    }
   ],
   "source": [
    "# Check the number of gender and birth country and display it\n",
    "num_gender = nobel['sex'].value_counts()\n",
    "num_country = nobel['birth_country'].value_counts()\n",
    "\n",
    "display(num_gender)\n",
    "display(num_country)"
   ]
  },
  {
   "cell_type": "code",
   "execution_count": 4,
   "id": "ca486dc5-b4c0-4c5e-92c8-1d79f005d9f6",
   "metadata": {
    "executionCancelledAt": null,
    "executionTime": 51,
    "lastExecutedAt": 1735212229834,
    "lastExecutedByKernel": "261af90d-3a30-43af-95b2-a7559dd066ff",
    "lastScheduledRunId": null,
    "lastSuccessfullyExecutedCode": "# Find the most common gender and birth country\ntop_gender = num_gender.index[0]\ntop_country = num_country.index[0]\n\nprint(top_gender)\nprint(top_country)",
    "outputsMetadata": {
     "0": {
      "height": 59,
      "type": "stream"
     },
     "1": {
      "height": 500,
      "tableState": {
       "quickFilterText": ""
      },
      "type": "dataFrame"
     }
    }
   },
   "outputs": [
    {
     "name": "stdout",
     "output_type": "stream",
     "text": [
      "Male\n",
      "United States of America\n"
     ]
    }
   ],
   "source": [
    "# Find the most common gender and birth country\n",
    "top_gender = num_gender.index[0]\n",
    "top_country = num_country.index[0]\n",
    "\n",
    "print(top_gender)\n",
    "print(top_country)"
   ]
  },
  {
   "cell_type": "markdown",
   "id": "e10d40b7-d7a3-4f0b-8217-58aa07f5c75d",
   "metadata": {},
   "source": [
    "# Which decade had the highest ratio of US-born Nobel Prize winners to total winners in all categories?"
   ]
  },
  {
   "cell_type": "code",
   "execution_count": 13,
   "id": "10e33bb7-7973-45f8-9f9a-f96034e6e7a8",
   "metadata": {
    "executionCancelledAt": null,
    "executionTime": 56,
    "lastExecutedAt": 1735212229890,
    "lastExecutedByKernel": "261af90d-3a30-43af-95b2-a7559dd066ff",
    "lastScheduledRunId": null,
    "lastSuccessfullyExecutedCode": "# Create the US-born winners column\nnobel['us_born_winners'] = nobel['birth_country'] == \"United States of America\"\n\n# Create the decade column\nnobel['decade'] = np.floor(nobel['year'] / 10) * 10\nnobel['decade'] = nobel['decade'].astype('int')\n\n# Group by decade and calculate the total and US-born laureates per decade\ndecade_data = nobel.groupby('decade').agg(\n    total_winners=('year', 'count'),\n    us_born_winners=('us_born_winners', 'sum')\n).reset_index()\n\ndecade_data.head()",
    "outputsMetadata": {
     "0": {
      "height": 50,
      "tableState": {
       "customFilter": {
        "const": {
         "type": "boolean",
         "valid": true,
         "value": true
        },
        "id": "c3ec7bae-e963-41b4-b5c1-f3f94f658d89",
        "nodeType": "const"
       },
       "quickFilterText": ""
      },
      "type": "dataFrame"
     }
    }
   },
   "outputs": [
    {
     "data": {
      "text/html": [
       "<div>\n",
       "<style scoped>\n",
       "    .dataframe tbody tr th:only-of-type {\n",
       "        vertical-align: middle;\n",
       "    }\n",
       "\n",
       "    .dataframe tbody tr th {\n",
       "        vertical-align: top;\n",
       "    }\n",
       "\n",
       "    .dataframe thead th {\n",
       "        text-align: right;\n",
       "    }\n",
       "</style>\n",
       "<table border=\"1\" class=\"dataframe\">\n",
       "  <thead>\n",
       "    <tr style=\"text-align: right;\">\n",
       "      <th></th>\n",
       "      <th>decade</th>\n",
       "      <th>total_winners</th>\n",
       "      <th>us_born_winners</th>\n",
       "    </tr>\n",
       "  </thead>\n",
       "  <tbody>\n",
       "    <tr>\n",
       "      <th>0</th>\n",
       "      <td>1900</td>\n",
       "      <td>57</td>\n",
       "      <td>1</td>\n",
       "    </tr>\n",
       "    <tr>\n",
       "      <th>1</th>\n",
       "      <td>1910</td>\n",
       "      <td>40</td>\n",
       "      <td>3</td>\n",
       "    </tr>\n",
       "    <tr>\n",
       "      <th>2</th>\n",
       "      <td>1920</td>\n",
       "      <td>54</td>\n",
       "      <td>4</td>\n",
       "    </tr>\n",
       "    <tr>\n",
       "      <th>3</th>\n",
       "      <td>1930</td>\n",
       "      <td>56</td>\n",
       "      <td>14</td>\n",
       "    </tr>\n",
       "    <tr>\n",
       "      <th>4</th>\n",
       "      <td>1940</td>\n",
       "      <td>43</td>\n",
       "      <td>13</td>\n",
       "    </tr>\n",
       "    <tr>\n",
       "      <th>5</th>\n",
       "      <td>1950</td>\n",
       "      <td>72</td>\n",
       "      <td>21</td>\n",
       "    </tr>\n",
       "    <tr>\n",
       "      <th>6</th>\n",
       "      <td>1960</td>\n",
       "      <td>79</td>\n",
       "      <td>21</td>\n",
       "    </tr>\n",
       "    <tr>\n",
       "      <th>7</th>\n",
       "      <td>1970</td>\n",
       "      <td>104</td>\n",
       "      <td>33</td>\n",
       "    </tr>\n",
       "    <tr>\n",
       "      <th>8</th>\n",
       "      <td>1980</td>\n",
       "      <td>97</td>\n",
       "      <td>31</td>\n",
       "    </tr>\n",
       "    <tr>\n",
       "      <th>9</th>\n",
       "      <td>1990</td>\n",
       "      <td>104</td>\n",
       "      <td>42</td>\n",
       "    </tr>\n",
       "  </tbody>\n",
       "</table>\n",
       "</div>"
      ],
      "text/plain": [
       "   decade  total_winners  us_born_winners\n",
       "0    1900             57                1\n",
       "1    1910             40                3\n",
       "2    1920             54                4\n",
       "3    1930             56               14\n",
       "4    1940             43               13\n",
       "5    1950             72               21\n",
       "6    1960             79               21\n",
       "7    1970            104               33\n",
       "8    1980             97               31\n",
       "9    1990            104               42"
      ]
     },
     "execution_count": 13,
     "metadata": {},
     "output_type": "execute_result"
    }
   ],
   "source": [
    "# Create the US-born winners column\n",
    "nobel['us_born_winners'] = nobel['birth_country'] == \"United States of America\"\n",
    "\n",
    "# Create the decade column\n",
    "nobel['decade'] = np.floor(nobel['year'] / 10) * 10\n",
    "nobel['decade'] = nobel['decade'].astype('int')\n",
    "\n",
    "# Group by decade and calculate the total and US-born laureates per decade\n",
    "decade_data = nobel.groupby('decade').agg(\n",
    "    total_winners=('year', 'count'),\n",
    "    us_born_winners=('us_born_winners', 'sum')\n",
    ").reset_index()\n",
    "\n",
    "decade_data.head(10)"
   ]
  },
  {
   "cell_type": "code",
   "execution_count": 15,
   "id": "fbf7e0c7-7e35-41bb-b91f-6b58f6182c91",
   "metadata": {
    "executionCancelledAt": null,
    "executionTime": 52,
    "lastExecutedAt": 1735212229942,
    "lastExecutedByKernel": "261af90d-3a30-43af-95b2-a7559dd066ff",
    "lastScheduledRunId": null,
    "lastSuccessfullyExecutedCode": "# Calculate the ratio of US-born winners\ndecade_data['us_born_ratio'] = decade_data['us_born_winners'] / decade_data['total_winners']\n\n# Find the decade with the highest US-born winner ratio\nmax_decade_usa = decade_data[decade_data['us_born_ratio'] == decade_data['us_born_ratio'].max()]['decade'].values[0]\n\nprint(max_decade_usa)",
    "outputsMetadata": {
     "0": {
      "height": 38,
      "type": "stream"
     }
    }
   },
   "outputs": [
    {
     "name": "stdout",
     "output_type": "stream",
     "text": [
      "2000\n"
     ]
    }
   ],
   "source": [
    "# Calculate the ratio of US-born winners\n",
    "decade_data['us_born_ratio'] = decade_data['us_born_winners'] / decade_data['total_winners']\n",
    "\n",
    "# Find the decade with the highest US-born winner ratio\n",
    "max_decade_usa = decade_data[decade_data['us_born_ratio'] == decade_data['us_born_ratio'].max()]['decade'].values[0]\n",
    "\n",
    "print(max_decade_usa)"
   ]
  },
  {
   "cell_type": "code",
   "execution_count": 18,
   "id": "653ff600-899d-462a-9979-d299adfd3c06",
   "metadata": {
    "executionCancelledAt": null,
    "executionTime": 381,
    "lastExecutedAt": 1735212230323,
    "lastExecutedByKernel": "261af90d-3a30-43af-95b2-a7559dd066ff",
    "lastScheduledRunId": null,
    "lastSuccessfullyExecutedCode": "import matplotlib.pyplot as plt\n\n# Create a relational line plot\nsns.relplot(\n    x='decade', \n    y='us_born_ratio', \n    kind='line', \n    data=decade_data, \n    marker='o', \n    aspect=1.5\n)\n\n# Add title and labels\nplt.title('US-born Nobel Laureates Ratio by Decade')\nplt.xlabel('Decade')\nplt.ylabel('US-born Ratio')\n\n# Show the plot\nplt.show()"
   },
   "outputs": [
    {
     "data": {
      "image/png": "[encoded data removed]",
      "text/plain": [
       "<Figure size 750x500 with 1 Axes>"
      ]
     },
     "metadata": {},
     "output_type": "display_data"
    }
   ],
   "source": [
    "import matplotlib.pyplot as plt\n",
    "\n",
    "# Create a relational line plot\n",
    "sns.relplot(\n",
    "    x='decade', \n",
    "    y='us_born_ratio', \n",
    "    kind='line', \n",
    "    data=decade_data, \n",
    "    marker='o', \n",
    "    aspect=1.5\n",
    ")\n",
    "\n",
    "# Add title and labels\n",
    "plt.title('US-born Nobel Laureates Ratio by Decade')\n",
    "plt.xlabel('Decade')\n",
    "plt.ylabel('US-born Ratio')\n",
    "\n",
    "# Show the plot\n",
    "plt.show()"
   ]
  },
  {
   "cell_type": "markdown",
   "id": "32545a78-3171-416e-8a84-9bb8a9b28d4c",
   "metadata": {},
   "source": [
    "# Which decade and Nobel Prize category combination had the highest proportion of female laureates?"
   ]
  },
  {
   "cell_type": "code",
   "execution_count": 8,
   "id": "34f794f8-d0f1-4477-85a1-62a938146edb",
   "metadata": {
    "executionCancelledAt": null,
    "executionTime": 51,
    "lastExecutedAt": 1735212230374,
    "lastExecutedByKernel": "261af90d-3a30-43af-95b2-a7559dd066ff",
    "lastScheduledRunId": null,
    "lastSuccessfullyExecutedCode": "# Create a column indicating whether the laureate is female\nnobel['is_female'] = nobel['sex'] == 'Female'\n\n# Group by decade and category, calculate total laureates and female laureates\ngrouped_data = nobel.groupby(['decade', 'category']).agg(\n    total_winners=('year', 'count'),\n    female_winners=('is_female', 'sum')\n).reset_index()\n\n# Calculate the proportion of female laureates\ngrouped_data['female_ratio'] = grouped_data['female_winners'] / grouped_data['total_winners']\n\n# Find the row with the highest female ratio\nmax_row = grouped_data.loc[grouped_data['female_ratio'].idxmax()]\n\n# Extract the decade and category and store in a dictionary\nmax_female_dict = {int(max_row['decade']): max_row['category']}\n\nprint(max_female_dict)",
    "outputsMetadata": {
     "0": {
      "height": 38,
      "type": "stream"
     }
    }
   },
   "outputs": [
    {
     "name": "stdout",
     "output_type": "stream",
     "text": [
      "{2020: 'Literature'}\n"
     ]
    }
   ],
   "source": [
    "# Create a column indicating whether the laureate is female\n",
    "nobel['is_female'] = nobel['sex'] == 'Female'\n",
    "\n",
    "# Group by decade and category, calculate total laureates and female laureates\n",
    "grouped_data = nobel.groupby(['decade', 'category']).agg(\n",
    "    total_winners=('year', 'count'),\n",
    "    female_winners=('is_female', 'sum')\n",
    ").reset_index()\n",
    "\n",
    "# Calculate the proportion of female laureates\n",
    "grouped_data['female_ratio'] = grouped_data['female_winners'] / grouped_data['total_winners']\n",
    "\n",
    "# Find the row with the highest female ratio\n",
    "max_row = grouped_data.loc[grouped_data['female_ratio'].idxmax()]\n",
    "\n",
    "# Extract the decade and category and store in a dictionary\n",
    "max_female_dict = {int(max_row['decade']): max_row['category']}\n",
    "\n",
    "print(max_female_dict)"
   ]
  },
  {
   "cell_type": "markdown",
   "id": "95a22f34-dd31-437d-91ee-ebd537c0af8d",
   "metadata": {},
   "source": [
    "# Who was the first woman to receive a Nobel Prize, and in what category?"
   ]
  },
  {
   "cell_type": "code",
   "execution_count": 9,
   "id": "15fe0956-fb77-4638-8a88-10f5d679d149",
   "metadata": {
    "executionCancelledAt": null,
    "executionTime": 56,
    "lastExecutedAt": 1735212230430,
    "lastExecutedByKernel": "261af90d-3a30-43af-95b2-a7559dd066ff",
    "lastScheduledRunId": null,
    "lastSuccessfullyExecutedCode": "# Filter for female laureates\nfemale_laureates = nobel[nobel['sex'] == 'Female']\n\n# Sort by year to find the earliest laureate\nfirst_female_laureate = female_laureates.sort_values('year').iloc[0]\n\n# Extract the name and category\nfirst_woman_name = first_female_laureate['full_name']\nfirst_woman_category = first_female_laureate['category']\n\nprint(first_woman_name)\nprint(first_woman_category)",
    "outputsMetadata": {
     "0": {
      "height": 59,
      "type": "stream"
     }
    }
   },
   "outputs": [
    {
     "name": "stdout",
     "output_type": "stream",
     "text": [
      "Marie Curie, née Sklodowska\n",
      "Physics\n"
     ]
    }
   ],
   "source": [
    "# Filter for female laureates\n",
    "female_laureates = nobel[nobel['sex'] == 'Female']\n",
    "\n",
    "# Sort by year to find the earliest laureate\n",
    "first_female_laureate = female_laureates.sort_values('year').iloc[0]\n",
    "\n",
    "# Extract the name and category\n",
    "first_woman_name = first_female_laureate['full_name']\n",
    "first_woman_category = first_female_laureate['category']\n",
    "\n",
    "print(first_woman_name)\n",
    "print(first_woman_category)"
   ]
  },
  {
   "cell_type": "markdown",
   "id": "439598cb-a7cf-4ea1-a9ec-a3687e6c19a6",
   "metadata": {},
   "source": [
    "# Which individuals or organizations have won more than one Nobel Prize throughout the years?"
   ]
  },
  {
   "cell_type": "code",
   "execution_count": 10,
   "id": "a44d885d-9696-4c9a-8b75-dbca15a93b2a",
   "metadata": {
    "executionCancelledAt": null,
    "executionTime": 57,
    "lastExecutedAt": 1735212230487,
    "lastExecutedByKernel": "261af90d-3a30-43af-95b2-a7559dd066ff",
    "lastScheduledRunId": null,
    "lastSuccessfullyExecutedCode": "# Group by name (or organization_name) and count the number of awards per individual or organization\nrepeat_winners = nobel.groupby('full_name').size()\n\n# Filter for individuals or organizations that have won more than one Nobel Prize\nrepeat_list = repeat_winners[repeat_winners > 1].index.tolist()\n\nprint(repeat_list)",
    "outputsMetadata": {
     "0": {
      "height": 80,
      "type": "stream"
     }
    }
   },
   "outputs": [
    {
     "name": "stdout",
     "output_type": "stream",
     "text": [
      "['Comité international de la Croix Rouge (International Committee of the Red Cross)', 'Frederick Sanger', 'John Bardeen', 'Linus Carl Pauling', 'Marie Curie, née Sklodowska', 'Office of the United Nations High Commissioner for Refugees (UNHCR)']\n"
     ]
    }
   ],
   "source": [
    "# Group by name (or organization_name) and count the number of awards per individual or organization\n",
    "repeat_winners = nobel.groupby('full_name').size()\n",
    "\n",
    "# Filter for individuals or organizations that have won more than one Nobel Prize\n",
    "repeat_list = repeat_winners[repeat_winners > 1].index.tolist()\n",
    "\n",
    "print(repeat_list)"
   ]
  },
  {
   "cell_type": "markdown",
   "id": "10dd3755-4b10-47c6-bad7-1a9f70433450",
   "metadata": {},
   "source": [
    "# "
   ]
  }
 ],
 "metadata": {
  "editor": "DataCamp Workspace",
  "kernelspec": {
   "display_name": "experimentation",
   "language": "python",
   "name": "python3"
  },
  "language_info": {
   "codemirror_mode": {
    "name": "ipython",
    "version": 3
   },
   "file_extension": ".py",
   "mimetype": "text/x-python",
   "name": "python",
   "nbconvert_exporter": "python",
   "pygments_lexer": "ipython3",
   "version": "3.12.3"
  }
 },
 "nbformat": 4,
 "nbformat_minor": 5
}
