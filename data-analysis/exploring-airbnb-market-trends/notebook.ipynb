{
 "cells": [
  {
   "cell_type": "markdown",
   "id": "6a452c92",
   "metadata": {},
   "source": [
    "# Import Libraries & Datasets"
   ]
  },
  {
   "cell_type": "code",
   "execution_count": 206,
   "id": "1fdc5784-479e-46cb-b05b-68439dcc94a7",
   "metadata": {
    "executionCancelledAt": null,
    "executionTime": 1352,
    "lastExecutedAt": 1735551150026,
    "lastExecutedByKernel": "9a50aa60-7fc7-4bc5-979c-7f5347fcb5d8",
    "lastScheduledRunId": null,
    "lastSuccessfullyExecutedCode": "# Import necessary packages\nimport pandas as pd\nimport numpy as np\n\n# Import datasets\nairbnb_price = pd.read_csv(\"data/airbnb_price.csv\")\nairbnb_room_type = pd.read_excel(\"data/airbnb_room_type.xlsx\")\nairbnb_last_review = pd.read_csv(\"data/airbnb_last_review.tsv\", sep = '\\t')"
   },
   "outputs": [],
   "source": [
    "# Import necessary packages\n",
    "import pandas as pd\n",
    "import seaborn as sns\n",
    "import matplotlib.pyplot as plt\n",
    "import calendar\n",
    "\n",
    "# Import datasets\n",
    "airbnb_price = pd.read_csv(\"data/airbnb_price.csv\")\n",
    "airbnb_room_type = pd.read_excel(\"data/airbnb_room_type.xlsx\")\n",
    "airbnb_last_review = pd.read_csv(\"data/airbnb_last_review.tsv\", sep = '\\t')"
   ]
  },
  {
   "cell_type": "markdown",
   "id": "1e6505dd",
   "metadata": {},
   "source": [
    "## airbnb_price"
   ]
  },
  {
   "cell_type": "code",
   "execution_count": 207,
   "id": "90788b4f-5331-4f48-b961-f0ada3d0a9dc",
   "metadata": {
    "executionCancelledAt": null,
    "executionTime": 55,
    "lastExecutedAt": 1735551150082,
    "lastExecutedByKernel": "9a50aa60-7fc7-4bc5-979c-7f5347fcb5d8",
    "lastScheduledRunId": null,
    "lastSuccessfullyExecutedCode": "airbnb_price.head()",
    "outputsMetadata": {
     "0": {
      "height": 500,
      "tableState": {
       "quickFilterText": ""
      },
      "type": "dataFrame"
     }
    }
   },
   "outputs": [
    {
     "data": {
      "text/html": [
       "<div>\n",
       "<style scoped>\n",
       "    .dataframe tbody tr th:only-of-type {\n",
       "        vertical-align: middle;\n",
       "    }\n",
       "\n",
       "    .dataframe tbody tr th {\n",
       "        vertical-align: top;\n",
       "    }\n",
       "\n",
       "    .dataframe thead th {\n",
       "        text-align: right;\n",
       "    }\n",
       "</style>\n",
       "<table border=\"1\" class=\"dataframe\">\n",
       "  <thead>\n",
       "    <tr style=\"text-align: right;\">\n",
       "      <th></th>\n",
       "      <th>listing_id</th>\n",
       "      <th>price</th>\n",
       "      <th>nbhood_full</th>\n",
       "    </tr>\n",
       "  </thead>\n",
       "  <tbody>\n",
       "    <tr>\n",
       "      <th>0</th>\n",
       "      <td>2595</td>\n",
       "      <td>225 dollars</td>\n",
       "      <td>Manhattan, Midtown</td>\n",
       "    </tr>\n",
       "    <tr>\n",
       "      <th>1</th>\n",
       "      <td>3831</td>\n",
       "      <td>89 dollars</td>\n",
       "      <td>Brooklyn, Clinton Hill</td>\n",
       "    </tr>\n",
       "    <tr>\n",
       "      <th>2</th>\n",
       "      <td>5099</td>\n",
       "      <td>200 dollars</td>\n",
       "      <td>Manhattan, Murray Hill</td>\n",
       "    </tr>\n",
       "    <tr>\n",
       "      <th>3</th>\n",
       "      <td>5178</td>\n",
       "      <td>79 dollars</td>\n",
       "      <td>Manhattan, Hell's Kitchen</td>\n",
       "    </tr>\n",
       "    <tr>\n",
       "      <th>4</th>\n",
       "      <td>5238</td>\n",
       "      <td>150 dollars</td>\n",
       "      <td>Manhattan, Chinatown</td>\n",
       "    </tr>\n",
       "  </tbody>\n",
       "</table>\n",
       "</div>"
      ],
      "text/plain": [
       "   listing_id        price                nbhood_full\n",
       "0        2595  225 dollars         Manhattan, Midtown\n",
       "1        3831   89 dollars     Brooklyn, Clinton Hill\n",
       "2        5099  200 dollars     Manhattan, Murray Hill\n",
       "3        5178   79 dollars  Manhattan, Hell's Kitchen\n",
       "4        5238  150 dollars       Manhattan, Chinatown"
      ]
     },
     "execution_count": 207,
     "metadata": {},
     "output_type": "execute_result"
    }
   ],
   "source": [
    "airbnb_price.head()"
   ]
  },
  {
   "cell_type": "code",
   "execution_count": 208,
   "id": "9af6df0a-6c5b-462c-b809-588984223965",
   "metadata": {
    "executionCancelledAt": null,
    "executionTime": 55,
    "lastExecutedAt": 1735551150137,
    "lastExecutedByKernel": "9a50aa60-7fc7-4bc5-979c-7f5347fcb5d8",
    "lastScheduledRunId": null,
    "lastSuccessfullyExecutedCode": "airbnb_price.info()"
   },
   "outputs": [
    {
     "name": "stdout",
     "output_type": "stream",
     "text": [
      "<class 'pandas.core.frame.DataFrame'>\n",
      "RangeIndex: 25209 entries, 0 to 25208\n",
      "Data columns (total 3 columns):\n",
      " #   Column       Non-Null Count  Dtype \n",
      "---  ------       --------------  ----- \n",
      " 0   listing_id   25209 non-null  int64 \n",
      " 1   price        25209 non-null  object\n",
      " 2   nbhood_full  25209 non-null  object\n",
      "dtypes: int64(1), object(2)\n",
      "memory usage: 591.0+ KB\n"
     ]
    }
   ],
   "source": [
    "airbnb_price.info()"
   ]
  },
  {
   "cell_type": "markdown",
   "id": "070118ad",
   "metadata": {},
   "source": [
    "## airbnb_room_type"
   ]
  },
  {
   "cell_type": "code",
   "execution_count": 209,
   "id": "ea5a70d3-151d-4df0-ae3d-9faa8ffb6534",
   "metadata": {
    "executionCancelledAt": null,
    "executionTime": 52,
    "lastExecutedAt": 1735551150189,
    "lastExecutedByKernel": "9a50aa60-7fc7-4bc5-979c-7f5347fcb5d8",
    "lastScheduledRunId": null,
    "lastSuccessfullyExecutedCode": "airbnb_room_type.head()"
   },
   "outputs": [
    {
     "data": {
      "text/html": [
       "<div>\n",
       "<style scoped>\n",
       "    .dataframe tbody tr th:only-of-type {\n",
       "        vertical-align: middle;\n",
       "    }\n",
       "\n",
       "    .dataframe tbody tr th {\n",
       "        vertical-align: top;\n",
       "    }\n",
       "\n",
       "    .dataframe thead th {\n",
       "        text-align: right;\n",
       "    }\n",
       "</style>\n",
       "<table border=\"1\" class=\"dataframe\">\n",
       "  <thead>\n",
       "    <tr style=\"text-align: right;\">\n",
       "      <th></th>\n",
       "      <th>listing_id</th>\n",
       "      <th>description</th>\n",
       "      <th>room_type</th>\n",
       "    </tr>\n",
       "  </thead>\n",
       "  <tbody>\n",
       "    <tr>\n",
       "      <th>0</th>\n",
       "      <td>2595</td>\n",
       "      <td>Skylit Midtown Castle</td>\n",
       "      <td>Entire home/apt</td>\n",
       "    </tr>\n",
       "    <tr>\n",
       "      <th>1</th>\n",
       "      <td>3831</td>\n",
       "      <td>Cozy Entire Floor of Brownstone</td>\n",
       "      <td>Entire home/apt</td>\n",
       "    </tr>\n",
       "    <tr>\n",
       "      <th>2</th>\n",
       "      <td>5099</td>\n",
       "      <td>Large Cozy 1 BR Apartment In Midtown East</td>\n",
       "      <td>Entire home/apt</td>\n",
       "    </tr>\n",
       "    <tr>\n",
       "      <th>3</th>\n",
       "      <td>5178</td>\n",
       "      <td>Large Furnished Room Near B'way</td>\n",
       "      <td>private room</td>\n",
       "    </tr>\n",
       "    <tr>\n",
       "      <th>4</th>\n",
       "      <td>5238</td>\n",
       "      <td>Cute &amp; Cozy Lower East Side 1 bdrm</td>\n",
       "      <td>Entire home/apt</td>\n",
       "    </tr>\n",
       "  </tbody>\n",
       "</table>\n",
       "</div>"
      ],
      "text/plain": [
       "   listing_id                                description        room_type\n",
       "0        2595                      Skylit Midtown Castle  Entire home/apt\n",
       "1        3831            Cozy Entire Floor of Brownstone  Entire home/apt\n",
       "2        5099  Large Cozy 1 BR Apartment In Midtown East  Entire home/apt\n",
       "3        5178            Large Furnished Room Near B'way     private room\n",
       "4        5238         Cute & Cozy Lower East Side 1 bdrm  Entire home/apt"
      ]
     },
     "execution_count": 209,
     "metadata": {},
     "output_type": "execute_result"
    }
   ],
   "source": [
    "airbnb_room_type.head()"
   ]
  },
  {
   "cell_type": "code",
   "execution_count": 210,
   "id": "9830a2f6-f16d-4f76-a22c-bbf08c524671",
   "metadata": {
    "executionCancelledAt": null,
    "executionTime": 52,
    "lastExecutedAt": 1735551150241,
    "lastExecutedByKernel": "9a50aa60-7fc7-4bc5-979c-7f5347fcb5d8",
    "lastScheduledRunId": null,
    "lastSuccessfullyExecutedCode": "airbnb_room_type.info()"
   },
   "outputs": [
    {
     "name": "stdout",
     "output_type": "stream",
     "text": [
      "<class 'pandas.core.frame.DataFrame'>\n",
      "RangeIndex: 25209 entries, 0 to 25208\n",
      "Data columns (total 3 columns):\n",
      " #   Column       Non-Null Count  Dtype \n",
      "---  ------       --------------  ----- \n",
      " 0   listing_id   25209 non-null  int64 \n",
      " 1   description  25199 non-null  object\n",
      " 2   room_type    25209 non-null  object\n",
      "dtypes: int64(1), object(2)\n",
      "memory usage: 591.0+ KB\n"
     ]
    }
   ],
   "source": [
    "airbnb_room_type.info()"
   ]
  },
  {
   "cell_type": "markdown",
   "id": "0c57eba9",
   "metadata": {},
   "source": [
    "## airbnb_last_review"
   ]
  },
  {
   "cell_type": "code",
   "execution_count": 211,
   "id": "adb9adf1-ca74-4493-b684-78d9cf5d0034",
   "metadata": {
    "executionCancelledAt": null,
    "executionTime": 48,
    "lastExecutedAt": 1735551150289,
    "lastExecutedByKernel": "9a50aa60-7fc7-4bc5-979c-7f5347fcb5d8",
    "lastScheduledRunId": null,
    "lastSuccessfullyExecutedCode": "airbnb_last_review.head()",
    "outputsMetadata": {
     "0": {
      "height": 221,
      "tableState": {
       "quickFilterText": ""
      },
      "type": "dataFrame"
     }
    }
   },
   "outputs": [
    {
     "data": {
      "text/html": [
       "<div>\n",
       "<style scoped>\n",
       "    .dataframe tbody tr th:only-of-type {\n",
       "        vertical-align: middle;\n",
       "    }\n",
       "\n",
       "    .dataframe tbody tr th {\n",
       "        vertical-align: top;\n",
       "    }\n",
       "\n",
       "    .dataframe thead th {\n",
       "        text-align: right;\n",
       "    }\n",
       "</style>\n",
       "<table border=\"1\" class=\"dataframe\">\n",
       "  <thead>\n",
       "    <tr style=\"text-align: right;\">\n",
       "      <th></th>\n",
       "      <th>listing_id</th>\n",
       "      <th>host_name</th>\n",
       "      <th>last_review</th>\n",
       "    </tr>\n",
       "  </thead>\n",
       "  <tbody>\n",
       "    <tr>\n",
       "      <th>0</th>\n",
       "      <td>2595</td>\n",
       "      <td>Jennifer</td>\n",
       "      <td>May 21 2019</td>\n",
       "    </tr>\n",
       "    <tr>\n",
       "      <th>1</th>\n",
       "      <td>3831</td>\n",
       "      <td>LisaRoxanne</td>\n",
       "      <td>July 05 2019</td>\n",
       "    </tr>\n",
       "    <tr>\n",
       "      <th>2</th>\n",
       "      <td>5099</td>\n",
       "      <td>Chris</td>\n",
       "      <td>June 22 2019</td>\n",
       "    </tr>\n",
       "    <tr>\n",
       "      <th>3</th>\n",
       "      <td>5178</td>\n",
       "      <td>Shunichi</td>\n",
       "      <td>June 24 2019</td>\n",
       "    </tr>\n",
       "    <tr>\n",
       "      <th>4</th>\n",
       "      <td>5238</td>\n",
       "      <td>Ben</td>\n",
       "      <td>June 09 2019</td>\n",
       "    </tr>\n",
       "  </tbody>\n",
       "</table>\n",
       "</div>"
      ],
      "text/plain": [
       "   listing_id    host_name   last_review\n",
       "0        2595     Jennifer   May 21 2019\n",
       "1        3831  LisaRoxanne  July 05 2019\n",
       "2        5099        Chris  June 22 2019\n",
       "3        5178     Shunichi  June 24 2019\n",
       "4        5238          Ben  June 09 2019"
      ]
     },
     "execution_count": 211,
     "metadata": {},
     "output_type": "execute_result"
    }
   ],
   "source": [
    "airbnb_last_review.head()"
   ]
  },
  {
   "cell_type": "code",
   "execution_count": 212,
   "id": "5e040861-1b3a-4cb8-9aab-31753006d02b",
   "metadata": {
    "executionCancelledAt": null,
    "executionTime": 52,
    "lastExecutedAt": 1735551150341,
    "lastExecutedByKernel": "9a50aa60-7fc7-4bc5-979c-7f5347fcb5d8",
    "lastScheduledRunId": null,
    "lastSuccessfullyExecutedCode": "airbnb_last_review.info()",
    "outputsMetadata": {
     "0": {
      "height": 227,
      "type": "stream"
     }
    }
   },
   "outputs": [
    {
     "name": "stdout",
     "output_type": "stream",
     "text": [
      "<class 'pandas.core.frame.DataFrame'>\n",
      "RangeIndex: 25209 entries, 0 to 25208\n",
      "Data columns (total 3 columns):\n",
      " #   Column       Non-Null Count  Dtype \n",
      "---  ------       --------------  ----- \n",
      " 0   listing_id   25209 non-null  int64 \n",
      " 1   host_name    25201 non-null  object\n",
      " 2   last_review  25209 non-null  object\n",
      "dtypes: int64(1), object(2)\n",
      "memory usage: 591.0+ KB\n"
     ]
    }
   ],
   "source": [
    "airbnb_last_review.info()"
   ]
  },
  {
   "cell_type": "markdown",
   "id": "9f1552ad-20bf-44b4-9ed5-2f65f94b5fb4",
   "metadata": {},
   "source": [
    "# What are the dates of the earliest and most recent reviews?"
   ]
  },
  {
   "cell_type": "markdown",
   "id": "a364738b",
   "metadata": {},
   "source": [
    "To answer this question, we need to find the earliest and most recent review dates from the dataset.\n",
    "\n",
    "To do this, first, we convert the `last_review ` column to a datetime format. We can do this using the `pd.to_datetime` function."
   ]
  },
  {
   "cell_type": "code",
   "execution_count": 213,
   "id": "a7fb454c",
   "metadata": {},
   "outputs": [
    {
     "data": {
      "text/html": [
       "<div>\n",
       "<style scoped>\n",
       "    .dataframe tbody tr th:only-of-type {\n",
       "        vertical-align: middle;\n",
       "    }\n",
       "\n",
       "    .dataframe tbody tr th {\n",
       "        vertical-align: top;\n",
       "    }\n",
       "\n",
       "    .dataframe thead th {\n",
       "        text-align: right;\n",
       "    }\n",
       "</style>\n",
       "<table border=\"1\" class=\"dataframe\">\n",
       "  <thead>\n",
       "    <tr style=\"text-align: right;\">\n",
       "      <th></th>\n",
       "      <th>listing_id</th>\n",
       "      <th>host_name</th>\n",
       "      <th>last_review</th>\n",
       "    </tr>\n",
       "  </thead>\n",
       "  <tbody>\n",
       "    <tr>\n",
       "      <th>0</th>\n",
       "      <td>2595</td>\n",
       "      <td>Jennifer</td>\n",
       "      <td>2019-05-21</td>\n",
       "    </tr>\n",
       "    <tr>\n",
       "      <th>1</th>\n",
       "      <td>3831</td>\n",
       "      <td>LisaRoxanne</td>\n",
       "      <td>2019-07-05</td>\n",
       "    </tr>\n",
       "    <tr>\n",
       "      <th>2</th>\n",
       "      <td>5099</td>\n",
       "      <td>Chris</td>\n",
       "      <td>2019-06-22</td>\n",
       "    </tr>\n",
       "    <tr>\n",
       "      <th>3</th>\n",
       "      <td>5178</td>\n",
       "      <td>Shunichi</td>\n",
       "      <td>2019-06-24</td>\n",
       "    </tr>\n",
       "    <tr>\n",
       "      <th>4</th>\n",
       "      <td>5238</td>\n",
       "      <td>Ben</td>\n",
       "      <td>2019-06-09</td>\n",
       "    </tr>\n",
       "  </tbody>\n",
       "</table>\n",
       "</div>"
      ],
      "text/plain": [
       "   listing_id    host_name last_review\n",
       "0        2595     Jennifer  2019-05-21\n",
       "1        3831  LisaRoxanne  2019-07-05\n",
       "2        5099        Chris  2019-06-22\n",
       "3        5178     Shunichi  2019-06-24\n",
       "4        5238          Ben  2019-06-09"
      ]
     },
     "metadata": {},
     "output_type": "display_data"
    },
    {
     "name": "stdout",
     "output_type": "stream",
     "text": [
      "<class 'pandas.core.frame.DataFrame'>\n",
      "RangeIndex: 25209 entries, 0 to 25208\n",
      "Data columns (total 3 columns):\n",
      " #   Column       Non-Null Count  Dtype         \n",
      "---  ------       --------------  -----         \n",
      " 0   listing_id   25209 non-null  int64         \n",
      " 1   host_name    25201 non-null  object        \n",
      " 2   last_review  25209 non-null  datetime64[ns]\n",
      "dtypes: datetime64[ns](1), int64(1), object(1)\n",
      "memory usage: 591.0+ KB\n"
     ]
    }
   ],
   "source": [
    "# Earliest and most recent review dates\n",
    "airbnb_last_review['last_review'] = pd.to_datetime(airbnb_last_review['last_review'])\n",
    "\n",
    "display(airbnb_last_review.head())\n",
    "airbnb_last_review.info()"
   ]
  },
  {
   "cell_type": "markdown",
   "id": "52f5a5d2",
   "metadata": {},
   "source": [
    "After we convert it to a datetime format, we can apply the `min` and `max` methods to the `last_review` column. This results in the earliest and most recent dates of the `last_review` column."
   ]
  },
  {
   "cell_type": "code",
   "execution_count": 214,
   "id": "f1eeb513-eaf7-435f-9366-b3c93ac7f800",
   "metadata": {
    "executionCancelledAt": null,
    "executionTime": 48,
    "lastExecutedAt": 1735551150389,
    "lastExecutedByKernel": "9a50aa60-7fc7-4bc5-979c-7f5347fcb5d8",
    "lastScheduledRunId": null,
    "lastSuccessfullyExecutedCode": "# Earliest and most recent review dates\nairbnb_last_review['last_review'] = pd.to_datetime(airbnb_last_review['last_review'])\nearliest_review = airbnb_last_review['last_review'].min()\nmost_recent_review = airbnb_last_review['last_review'].max()\n\nprint(earliest_review)\nprint(most_recent_review)",
    "outputsMetadata": {
     "0": {
      "height": 59,
      "type": "stream"
     }
    }
   },
   "outputs": [
    {
     "name": "stdout",
     "output_type": "stream",
     "text": [
      "2019-01-01 00:00:00\n",
      "2019-07-09 00:00:00\n"
     ]
    }
   ],
   "source": [
    "earliest_review = airbnb_last_review['last_review'].min()\n",
    "most_recent_review = airbnb_last_review['last_review'].max()\n",
    "\n",
    "print(earliest_review)\n",
    "print(most_recent_review)"
   ]
  },
  {
   "cell_type": "markdown",
   "id": "bd74b856",
   "metadata": {},
   "source": [
    "We can see that the earliest review occurred on **2019-01-01**, and the most recent review was on **2019-07-09**. We can visualize this information using a heatmap to highlight the specific dates of the earliest and most recent reviews, as well as to display the number of reviews for each date."
   ]
  },
  {
   "cell_type": "code",
   "execution_count": 215,
   "id": "741df680",
   "metadata": {},
   "outputs": [
    {
     "data": {
      "image/png": "[encoded data removed]",
      "text/plain": [
       "<Figure size 1400x800 with 2 Axes>"
      ]
     },
     "metadata": {},
     "output_type": "display_data"
    }
   ],
   "source": [
    "# Create a DataFrame to simulate more data for a heatmap\n",
    "airbnb_last_review['year'] = airbnb_last_review['last_review'].dt.year\n",
    "airbnb_last_review['month'] = airbnb_last_review['last_review'].dt.month\n",
    "airbnb_last_review['day'] = airbnb_last_review['last_review'].dt.day\n",
    "\n",
    "# Group data for heatmap by month and day (simulating review counts)\n",
    "heatmap_data = airbnb_last_review.groupby(['month', 'day']).size().unstack(fill_value=0)\n",
    "\n",
    "# Annotated Calendar Heatmap\n",
    "plt.figure(figsize=(14, 8))\n",
    "sns.heatmap(heatmap_data, cmap=\"Blues\", linewidths=0.5, cbar=True, annot=False, fmt='d')\n",
    "\n",
    "# Add annotations for earliest and most recent reviews\n",
    "earliest_month, earliest_day = earliest_review.month, earliest_review.day\n",
    "most_recent_month, most_recent_day = most_recent_review.month, most_recent_review.day\n",
    "\n",
    "plt.text(earliest_day - 0.5, earliest_month - 0.5, \"Earliest\", color=\"red\", ha=\"center\", va=\"center\", fontweight=\"bold\")\n",
    "plt.text(most_recent_day - 0.5, most_recent_month - 0.5, \"Most Recent\", color=\"green\", ha=\"center\", va=\"center\", fontweight=\"bold\")\n",
    "\n",
    "# Format plot\n",
    "plt.title(\"Annotated Calendar Heatmap of Review Dates\")\n",
    "plt.xlabel(\"Day of the Month\")\n",
    "plt.ylabel(\"Month\")\n",
    "plt.xticks(range(0, 32, 5), labels=[str(x) for x in range(1, 32, 5)])\n",
    "\n",
    "# Rotate y-axis labels to prevent overlap\n",
    "plt.yticks(range(1, 13), labels=[calendar.month_name[i] for i in range(1, 13)], rotation=60)\n",
    "\n",
    "plt.tight_layout()\n",
    "plt.show()"
   ]
  },
  {
   "cell_type": "markdown",
   "id": "5c06513f-0c3e-4516-9d76-5df7776dbfd6",
   "metadata": {},
   "source": [
    "# How many of the listings are private rooms?"
   ]
  },
  {
   "cell_type": "markdown",
   "id": "576c2865",
   "metadata": {},
   "source": [
    "To ensure consistency when comparing room type categories (e.g., treating \"Private Room\" and \"private room\" as the same), we first need to normalize the values in the dataset. This can be achieved by converting all entries in the room type column to lowercase using the `str.lower` method. This step is necessary before calculating the count of private rooms."
   ]
  },
  {
   "cell_type": "code",
   "execution_count": 216,
   "id": "d4b5bf1f",
   "metadata": {},
   "outputs": [
    {
     "name": "stdout",
     "output_type": "stream",
     "text": [
      "Before normalize:\n"
     ]
    },
    {
     "data": {
      "text/plain": [
       "room_type\n",
       "Entire home/apt    8458\n",
       "Private room       7241\n",
       "entire home/apt    2665\n",
       "private room       2248\n",
       "ENTIRE HOME/APT    2143\n",
       "PRIVATE ROOM       1867\n",
       "Shared room         380\n",
       "shared room         110\n",
       "SHARED ROOM          97\n",
       "Name: count, dtype: int64"
      ]
     },
     "metadata": {},
     "output_type": "display_data"
    },
    {
     "name": "stdout",
     "output_type": "stream",
     "text": [
      "After normalize:\n"
     ]
    },
    {
     "data": {
      "text/plain": [
       "room_type\n",
       "entire home/apt    13266\n",
       "private room       11356\n",
       "shared room          587\n",
       "Name: count, dtype: int64"
      ]
     },
     "metadata": {},
     "output_type": "display_data"
    }
   ],
   "source": [
    "# before normalize\n",
    "print(\"Before normalize:\")\n",
    "display(airbnb_room_type['room_type'].value_counts())\n",
    "\n",
    "# normalize\n",
    "airbnb_room_type['room_type'] = airbnb_room_type['room_type'].str.lower()\n",
    "\n",
    "# after normalize\n",
    "print(\"After normalize:\")\n",
    "display(airbnb_room_type['room_type'].value_counts())"
   ]
  },
  {
   "cell_type": "markdown",
   "id": "87475da4",
   "metadata": {},
   "source": [
    "After we have normalized the `room_type` column, now we can use a condition to select rows where `room_type` equals \"private room\" to filter only the private rooms."
   ]
  },
  {
   "cell_type": "code",
   "execution_count": 217,
   "id": "10d863bc-b793-4853-a0f5-cd9d71b4d56b",
   "metadata": {
    "executionCancelledAt": null,
    "executionTime": 51,
    "lastExecutedAt": 1735551150493,
    "lastExecutedByKernel": "9a50aa60-7fc7-4bc5-979c-7f5347fcb5d8",
    "lastScheduledRunId": null,
    "lastSuccessfullyExecutedCode": "# Count of private rooms\nprivate_rooms = airbnb_room_type[airbnb_room_type['room_type'] == 'private room'].shape[0]\n\nprint(private_rooms)"
   },
   "outputs": [
    {
     "name": "stdout",
     "output_type": "stream",
     "text": [
      "11356\n"
     ]
    }
   ],
   "source": [
    "# Count of private rooms\n",
    "private_rooms = airbnb_room_type[airbnb_room_type['room_type'] == 'private room'].shape[0]\n",
    "\n",
    "print(private_rooms)"
   ]
  },
  {
   "cell_type": "markdown",
   "id": "570d7bdb",
   "metadata": {},
   "source": [
    "Let's plot it in a bar chart to see the frequency for each room type."
   ]
  },
  {
   "cell_type": "code",
   "execution_count": 218,
   "id": "226ba4ab",
   "metadata": {},
   "outputs": [
    {
     "data": {
      "image/png": "[encoded data removed]",
      "text/plain": [
       "<Figure size 800x500 with 1 Axes>"
      ]
     },
     "metadata": {},
     "output_type": "display_data"
    }
   ],
   "source": [
    "# Count all room types for a better comparison\n",
    "room_counts = airbnb_room_type['room_type'].value_counts()\n",
    "\n",
    "# Plot room type frequencies\n",
    "plt.figure(figsize=(8, 5))\n",
    "ax = room_counts.plot(kind=\"bar\", alpha=0.8)\n",
    "plt.title(\"Room Type Frequencies\")\n",
    "plt.xlabel(\"Room Type\")\n",
    "plt.ylabel(\"Count\")\n",
    "plt.xticks(rotation=0)\n",
    "\n",
    "# Add labels on top of each bar\n",
    "for i, v in enumerate(room_counts):\n",
    "    ax.text(i, v + 0.2, str(v), ha='center', va='bottom', fontweight=\"bold\")\n",
    "\n",
    "plt.tight_layout()\n",
    "plt.show()"
   ]
  },
  {
   "cell_type": "markdown",
   "id": "91f35849",
   "metadata": {},
   "source": [
    "The chart shows that there were **13,266** listings for **entire home/apt**, **587** listings for **shared rooms**, and **11,356** listings for **private rooms**."
   ]
  },
  {
   "cell_type": "markdown",
   "id": "484b37af-ad63-42aa-a5a5-fe508a2c8053",
   "metadata": {},
   "source": [
    "# What is the average listing price?"
   ]
  },
  {
   "cell_type": "markdown",
   "id": "8eb4ac89",
   "metadata": {},
   "source": [
    "Now, we're going to calculate the average listing price in the dataset.\n",
    "\n",
    "Before doing this, we need to remove all the non-numeric characters from the `price` column, and then convert the numeric characters to float format."
   ]
  },
  {
   "cell_type": "code",
   "execution_count": 219,
   "id": "61136b01",
   "metadata": {},
   "outputs": [
    {
     "name": "stdout",
     "output_type": "stream",
     "text": [
      "Before removing non-numeric characters:\n"
     ]
    },
    {
     "data": {
      "text/html": [
       "<div>\n",
       "<style scoped>\n",
       "    .dataframe tbody tr th:only-of-type {\n",
       "        vertical-align: middle;\n",
       "    }\n",
       "\n",
       "    .dataframe tbody tr th {\n",
       "        vertical-align: top;\n",
       "    }\n",
       "\n",
       "    .dataframe thead th {\n",
       "        text-align: right;\n",
       "    }\n",
       "</style>\n",
       "<table border=\"1\" class=\"dataframe\">\n",
       "  <thead>\n",
       "    <tr style=\"text-align: right;\">\n",
       "      <th></th>\n",
       "      <th>listing_id</th>\n",
       "      <th>price</th>\n",
       "      <th>nbhood_full</th>\n",
       "    </tr>\n",
       "  </thead>\n",
       "  <tbody>\n",
       "    <tr>\n",
       "      <th>0</th>\n",
       "      <td>2595</td>\n",
       "      <td>225 dollars</td>\n",
       "      <td>Manhattan, Midtown</td>\n",
       "    </tr>\n",
       "    <tr>\n",
       "      <th>1</th>\n",
       "      <td>3831</td>\n",
       "      <td>89 dollars</td>\n",
       "      <td>Brooklyn, Clinton Hill</td>\n",
       "    </tr>\n",
       "    <tr>\n",
       "      <th>2</th>\n",
       "      <td>5099</td>\n",
       "      <td>200 dollars</td>\n",
       "      <td>Manhattan, Murray Hill</td>\n",
       "    </tr>\n",
       "    <tr>\n",
       "      <th>3</th>\n",
       "      <td>5178</td>\n",
       "      <td>79 dollars</td>\n",
       "      <td>Manhattan, Hell's Kitchen</td>\n",
       "    </tr>\n",
       "    <tr>\n",
       "      <th>4</th>\n",
       "      <td>5238</td>\n",
       "      <td>150 dollars</td>\n",
       "      <td>Manhattan, Chinatown</td>\n",
       "    </tr>\n",
       "  </tbody>\n",
       "</table>\n",
       "</div>"
      ],
      "text/plain": [
       "   listing_id        price                nbhood_full\n",
       "0        2595  225 dollars         Manhattan, Midtown\n",
       "1        3831   89 dollars     Brooklyn, Clinton Hill\n",
       "2        5099  200 dollars     Manhattan, Murray Hill\n",
       "3        5178   79 dollars  Manhattan, Hell's Kitchen\n",
       "4        5238  150 dollars       Manhattan, Chinatown"
      ]
     },
     "metadata": {},
     "output_type": "display_data"
    },
    {
     "name": "stdout",
     "output_type": "stream",
     "text": [
      "After removing non-numeric characters:\n"
     ]
    },
    {
     "data": {
      "text/html": [
       "<div>\n",
       "<style scoped>\n",
       "    .dataframe tbody tr th:only-of-type {\n",
       "        vertical-align: middle;\n",
       "    }\n",
       "\n",
       "    .dataframe tbody tr th {\n",
       "        vertical-align: top;\n",
       "    }\n",
       "\n",
       "    .dataframe thead th {\n",
       "        text-align: right;\n",
       "    }\n",
       "</style>\n",
       "<table border=\"1\" class=\"dataframe\">\n",
       "  <thead>\n",
       "    <tr style=\"text-align: right;\">\n",
       "      <th></th>\n",
       "      <th>listing_id</th>\n",
       "      <th>price</th>\n",
       "      <th>nbhood_full</th>\n",
       "    </tr>\n",
       "  </thead>\n",
       "  <tbody>\n",
       "    <tr>\n",
       "      <th>0</th>\n",
       "      <td>2595</td>\n",
       "      <td>225.0</td>\n",
       "      <td>Manhattan, Midtown</td>\n",
       "    </tr>\n",
       "    <tr>\n",
       "      <th>1</th>\n",
       "      <td>3831</td>\n",
       "      <td>89.0</td>\n",
       "      <td>Brooklyn, Clinton Hill</td>\n",
       "    </tr>\n",
       "    <tr>\n",
       "      <th>2</th>\n",
       "      <td>5099</td>\n",
       "      <td>200.0</td>\n",
       "      <td>Manhattan, Murray Hill</td>\n",
       "    </tr>\n",
       "    <tr>\n",
       "      <th>3</th>\n",
       "      <td>5178</td>\n",
       "      <td>79.0</td>\n",
       "      <td>Manhattan, Hell's Kitchen</td>\n",
       "    </tr>\n",
       "    <tr>\n",
       "      <th>4</th>\n",
       "      <td>5238</td>\n",
       "      <td>150.0</td>\n",
       "      <td>Manhattan, Chinatown</td>\n",
       "    </tr>\n",
       "  </tbody>\n",
       "</table>\n",
       "</div>"
      ],
      "text/plain": [
       "   listing_id  price                nbhood_full\n",
       "0        2595  225.0         Manhattan, Midtown\n",
       "1        3831   89.0     Brooklyn, Clinton Hill\n",
       "2        5099  200.0     Manhattan, Murray Hill\n",
       "3        5178   79.0  Manhattan, Hell's Kitchen\n",
       "4        5238  150.0       Manhattan, Chinatown"
      ]
     },
     "metadata": {},
     "output_type": "display_data"
    }
   ],
   "source": [
    "print(\"Before removing non-numeric characters:\")\n",
    "display(airbnb_price.head())\n",
    "\n",
    "# Remove non-numeric characters and convert to float\n",
    "airbnb_price['price'] = airbnb_price['price'].str.replace(' dollars', '', regex=False).astype(float)\n",
    "\n",
    "print(\"After removing non-numeric characters:\")\n",
    "display(airbnb_price.head())"
   ]
  },
  {
   "cell_type": "markdown",
   "id": "afde318b",
   "metadata": {},
   "source": [
    "Now, we can find the average listing price using the `mean` function and round it to two decimal places using the `round` function."
   ]
  },
  {
   "cell_type": "code",
   "execution_count": 220,
   "id": "eec11631-8518-49be-8b27-a3fcbbcc4442",
   "metadata": {
    "executionCancelledAt": null,
    "executionTime": 60,
    "lastExecutedAt": 1735551150553,
    "lastExecutedByKernel": "9a50aa60-7fc7-4bc5-979c-7f5347fcb5d8",
    "lastScheduledRunId": null,
    "lastSuccessfullyExecutedCode": "# Remove non-numeric characters and convert to float\nairbnb_price['price'] = airbnb_price['price'].str.replace(' dollars', '', regex=False).astype(float)\n\n# Average listing price\naverage_price = airbnb_price['price'].mean().round(2)\n\nprint(average_price)",
    "outputsMetadata": {
     "0": {
      "height": 38,
      "type": "stream"
     }
    }
   },
   "outputs": [
    {
     "name": "stdout",
     "output_type": "stream",
     "text": [
      "141.78\n"
     ]
    }
   ],
   "source": [
    "# Average listing price\n",
    "average_price = airbnb_price['price'].mean().round(2)\n",
    "\n",
    "print(average_price)"
   ]
  },
  {
   "cell_type": "markdown",
   "id": "8aeb9068",
   "metadata": {},
   "source": [
    "This result tells us that the average listing price in airbnb is `141.78` dollar.\n",
    "\n",
    "Let's plot it in histogram and box plot to see the distribution of listing `price`."
   ]
  },
  {
   "cell_type": "code",
   "execution_count": null,
   "id": "5b51c7c7",
   "metadata": {},
   "outputs": [
    {
     "data": {
      "image/png": "[encoded data removed]",
      "text/plain": [
       "<Figure size 1000x600 with 1 Axes>"
      ]
     },
     "metadata": {},
     "output_type": "display_data"
    }
   ],
   "source": [
    "# Plot the distribution of listing prices\n",
    "plt.figure(figsize=(10, 6))\n",
    "sns.histplot(airbnb_price['price'], bins=30, kde=True, color='skyblue', edgecolor='black')\n",
    "\n",
    "# Add a vertical line for the average price\n",
    "plt.axvline(average_price, color='red', linestyle='dashed', linewidth=1)\n",
    "plt.text(average_price * 2, average_price * 100, f'Average Price: ${average_price}', color='red', va='center')\n",
    "\n",
    "# Format plot\n",
    "plt.title(\"Distribution of Airbnb Listing Prices\")\n",
    "plt.xlabel(\"Price\")\n",
    "plt.ylabel(\"Frequency\")\n",
    "plt.tight_layout()\n",
    "plt.show()"
   ]
  },
  {
   "cell_type": "code",
   "execution_count": 252,
   "id": "3be2e66a",
   "metadata": {},
   "outputs": [
    {
     "data": {
      "image/png": "[encoded data removed]",
      "text/plain": [
       "<Figure size 800x600 with 1 Axes>"
      ]
     },
     "metadata": {},
     "output_type": "display_data"
    }
   ],
   "source": [
    "# Plotting the box plot for the price distribution\n",
    "plt.figure(figsize=(8, 6))\n",
    "sns.boxplot(x=airbnb_price['price'], color='skyblue')\n",
    "\n",
    "# Add a title and labels\n",
    "plt.title(\"Box Plot of Airbnb Listing Prices\")\n",
    "plt.xlabel(\"Price\")\n",
    "\n",
    "plt.tight_layout()\n",
    "plt.show()"
   ]
  },
  {
   "cell_type": "markdown",
   "id": "5df744e9",
   "metadata": {},
   "source": [
    "From these chart, we can see that the distribution is right-skewed, meaning the majority of listings have prices closer to the lower end, with a few very expensive listings causing the mean to be higher than the median. \n",
    "\n",
    "This suggests that while most Airbnb listings are affordable, there are a few luxury or exceptionally high-priced properties that could be distorting the overall average. The **$0** price point and **$7,500** maximum price should be further examined for possible errors or outliers to ensure a more accurate analysis of the general pricing trends."
   ]
  },
  {
   "cell_type": "markdown",
   "id": "7605681d-9273-4c8c-bf1d-f0d47acadac1",
   "metadata": {},
   "source": [
    "# Combine the new variables into one DataFrame."
   ]
  },
  {
   "cell_type": "markdown",
   "id": "0f44ffb4",
   "metadata": {},
   "source": [
    "Finally, we can combine all of our calculations to a dataframe to make it easier to read."
   ]
  },
  {
   "cell_type": "code",
   "execution_count": 253,
   "id": "43694483-48bf-47a4-9654-b88f02df4d39",
   "metadata": {
    "executionCancelledAt": null,
    "executionTime": 56,
    "lastExecutedAt": 1735551150609,
    "lastExecutedByKernel": "9a50aa60-7fc7-4bc5-979c-7f5347fcb5d8",
    "lastScheduledRunId": null,
    "lastSuccessfullyExecutedCode": "# Combine into a DataFrame\nreview_dates = pd.DataFrame({\n    'first_reviewed': [earliest_review],\n    'last_reviewed': [most_recent_review],\n    'nb_private_rooms': [private_rooms],\n    'avg_price': [average_price]\n})\n\nreview_dates",
    "outputsMetadata": {
     "0": {
      "height": 154,
      "tableState": {
       "quickFilterText": ""
      },
      "type": "dataFrame"
     }
    }
   },
   "outputs": [
    {
     "data": {
      "text/html": [
       "<div>\n",
       "<style scoped>\n",
       "    .dataframe tbody tr th:only-of-type {\n",
       "        vertical-align: middle;\n",
       "    }\n",
       "\n",
       "    .dataframe tbody tr th {\n",
       "        vertical-align: top;\n",
       "    }\n",
       "\n",
       "    .dataframe thead th {\n",
       "        text-align: right;\n",
       "    }\n",
       "</style>\n",
       "<table border=\"1\" class=\"dataframe\">\n",
       "  <thead>\n",
       "    <tr style=\"text-align: right;\">\n",
       "      <th></th>\n",
       "      <th>first_reviewed</th>\n",
       "      <th>last_reviewed</th>\n",
       "      <th>nb_private_rooms</th>\n",
       "      <th>avg_price</th>\n",
       "    </tr>\n",
       "  </thead>\n",
       "  <tbody>\n",
       "    <tr>\n",
       "      <th>0</th>\n",
       "      <td>2019-01-01</td>\n",
       "      <td>2019-07-09</td>\n",
       "      <td>11356</td>\n",
       "      <td>141.78</td>\n",
       "    </tr>\n",
       "  </tbody>\n",
       "</table>\n",
       "</div>"
      ],
      "text/plain": [
       "  first_reviewed last_reviewed  nb_private_rooms  avg_price\n",
       "0     2019-01-01    2019-07-09             11356     141.78"
      ]
     },
     "execution_count": 253,
     "metadata": {},
     "output_type": "execute_result"
    }
   ],
   "source": [
    "# Combine into a DataFrame\n",
    "review_dates = pd.DataFrame({\n",
    "    'first_reviewed': [earliest_review],\n",
    "    'last_reviewed': [most_recent_review],\n",
    "    'nb_private_rooms': [private_rooms],\n",
    "    'avg_price': [average_price]\n",
    "})\n",
    "\n",
    "review_dates"
   ]
  },
  {
   "cell_type": "markdown",
   "id": "f87621ab",
   "metadata": {},
   "source": [
    "The first review date in this Airbnb listing dataset is **2019-01-01**, and the most recent review date is **2019-07-09**.\n",
    "\n",
    "Additionally, there are **11,356** private rooms listed, and an average listing price of **$141.78**."
   ]
  }
 ],
 "metadata": {
  "colab": {
   "name": "Welcome to DataCamp Workspaces.ipynb",
   "provenance": []
  },
  "editor": "DataLab",
  "kernelspec": {
   "display_name": "experimentation",
   "language": "python",
   "name": "python3"
  },
  "language_info": {
   "codemirror_mode": {
    "name": "ipython",
    "version": 3
   },
   "file_extension": ".py",
   "mimetype": "text/x-python",
   "name": "python",
   "nbconvert_exporter": "python",
   "pygments_lexer": "ipython3",
   "version": "3.12.3"
  }
 },
 "nbformat": 4,
 "nbformat_minor": 5
}
