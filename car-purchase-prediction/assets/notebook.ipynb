{
 "cells": [
  {
   "cell_type": "markdown",
   "id": "4bb25542",
   "metadata": {},
   "source": [
    "# Libraries"
   ]
  },
  {
   "cell_type": "code",
   "execution_count": 27,
   "id": "aa42d5e2",
   "metadata": {
    "execution": {
     "iopub.execute_input": "2024-01-03T16:01:09.605651Z",
     "iopub.status.busy": "2024-01-03T16:01:09.605189Z",
     "iopub.status.idle": "2024-01-03T16:01:09.613321Z",
     "shell.execute_reply": "2024-01-03T16:01:09.611946Z",
     "shell.execute_reply.started": "2024-01-03T16:01:09.605617Z"
    },
    "trusted": true
   },
   "outputs": [],
   "source": [
    "import pandas as pd\n",
    "import numpy as np\n",
    "import matplotlib.pyplot as plt\n",
    "import warnings\n",
    "warnings.filterwarnings('ignore')\n",
    "\n",
    "from sklearn.metrics import confusion_matrix, classification_report\n",
    "from sklearn.model_selection import train_test_split\n",
    "from xgboost import XGBClassifier\n",
    "from sklearn.model_selection import RepeatedStratifiedKFold\n",
    "from sklearn.model_selection import cross_val_score\n",
    "from sklearn.metrics import make_scorer, f1_score, roc_auc_score\n",
    "from sklearn.model_selection import GridSearchCV\n",
    "from joblib import dump"
   ]
  },
  {
   "cell_type": "markdown",
   "id": "0de0ed3a",
   "metadata": {},
   "source": [
    "# EDA"
   ]
  },
  {
   "cell_type": "code",
   "execution_count": 2,
   "metadata": {
    "execution": {
     "iopub.execute_input": "2024-01-03T16:01:09.923495Z",
     "iopub.status.busy": "2024-01-03T16:01:09.922718Z",
     "iopub.status.idle": "2024-01-03T16:01:09.956099Z",
     "shell.execute_reply": "2024-01-03T16:01:09.954896Z",
     "shell.execute_reply.started": "2024-01-03T16:01:09.923457Z"
    },
    "trusted": true
   },
   "outputs": [
    {
     "data": {
      "text/html": [
       "<div>\n",
       "<style scoped>\n",
       "    .dataframe tbody tr th:only-of-type {\n",
       "        vertical-align: middle;\n",
       "    }\n",
       "\n",
       "    .dataframe tbody tr th {\n",
       "        vertical-align: top;\n",
       "    }\n",
       "\n",
       "    .dataframe thead th {\n",
       "        text-align: right;\n",
       "    }\n",
       "</style>\n",
       "<table border=\"1\" class=\"dataframe\">\n",
       "  <thead>\n",
       "    <tr style=\"text-align: right;\">\n",
       "      <th></th>\n",
       "      <th>User ID</th>\n",
       "      <th>Gender</th>\n",
       "      <th>Age</th>\n",
       "      <th>AnnualSalary</th>\n",
       "      <th>Purchased</th>\n",
       "    </tr>\n",
       "  </thead>\n",
       "  <tbody>\n",
       "    <tr>\n",
       "      <th>803</th>\n",
       "      <td>461</td>\n",
       "      <td>Female</td>\n",
       "      <td>40</td>\n",
       "      <td>59500</td>\n",
       "      <td>0</td>\n",
       "    </tr>\n",
       "    <tr>\n",
       "      <th>204</th>\n",
       "      <td>612</td>\n",
       "      <td>Male</td>\n",
       "      <td>35</td>\n",
       "      <td>88000</td>\n",
       "      <td>0</td>\n",
       "    </tr>\n",
       "    <tr>\n",
       "      <th>111</th>\n",
       "      <td>829</td>\n",
       "      <td>Female</td>\n",
       "      <td>41</td>\n",
       "      <td>30000</td>\n",
       "      <td>0</td>\n",
       "    </tr>\n",
       "    <tr>\n",
       "      <th>960</th>\n",
       "      <td>1</td>\n",
       "      <td>Male</td>\n",
       "      <td>32</td>\n",
       "      <td>100000</td>\n",
       "      <td>1</td>\n",
       "    </tr>\n",
       "    <tr>\n",
       "      <th>333</th>\n",
       "      <td>293</td>\n",
       "      <td>Male</td>\n",
       "      <td>28</td>\n",
       "      <td>89000</td>\n",
       "      <td>0</td>\n",
       "    </tr>\n",
       "  </tbody>\n",
       "</table>\n",
       "</div>"
      ],
      "text/plain": [
       "     User ID  Gender  Age  AnnualSalary  Purchased\n",
       "803      461  Female   40         59500          0\n",
       "204      612    Male   35         88000          0\n",
       "111      829  Female   41         30000          0\n",
       "960        1    Male   32        100000          1\n",
       "333      293    Male   28         89000          0"
      ]
     },
     "execution_count": 2,
     "metadata": {},
     "output_type": "execute_result"
    }
   ],
   "source": [
    "df = pd.read_csv(\"car_data.csv\")\n",
    "df.sample(5)"
   ]
  },
  {
   "cell_type": "code",
   "execution_count": 3,
   "id": "769d246c",
   "metadata": {},
   "outputs": [
    {
     "name": "stdout",
     "output_type": "stream",
     "text": [
      "<class 'pandas.core.frame.DataFrame'>\n",
      "RangeIndex: 1000 entries, 0 to 999\n",
      "Data columns (total 5 columns):\n",
      " #   Column        Non-Null Count  Dtype \n",
      "---  ------        --------------  ----- \n",
      " 0   User ID       1000 non-null   int64 \n",
      " 1   Gender        1000 non-null   object\n",
      " 2   Age           1000 non-null   int64 \n",
      " 3   AnnualSalary  1000 non-null   int64 \n",
      " 4   Purchased     1000 non-null   int64 \n",
      "dtypes: int64(4), object(1)\n",
      "memory usage: 39.2+ KB\n"
     ]
    }
   ],
   "source": [
    "df.info()"
   ]
  },
  {
   "cell_type": "code",
   "execution_count": 4,
   "metadata": {
    "execution": {
     "iopub.execute_input": "2024-01-03T16:01:10.247147Z",
     "iopub.status.busy": "2024-01-03T16:01:10.246644Z",
     "iopub.status.idle": "2024-01-03T16:01:10.257521Z",
     "shell.execute_reply": "2024-01-03T16:01:10.256412Z",
     "shell.execute_reply.started": "2024-01-03T16:01:10.247110Z"
    },
    "trusted": true
   },
   "outputs": [
    {
     "data": {
      "text/plain": [
       "User ID         0\n",
       "Gender          0\n",
       "Age             0\n",
       "AnnualSalary    0\n",
       "Purchased       0\n",
       "dtype: int64"
      ]
     },
     "execution_count": 4,
     "metadata": {},
     "output_type": "execute_result"
    }
   ],
   "source": [
    "df.isnull().sum()"
   ]
  },
  {
   "cell_type": "code",
   "execution_count": 5,
   "id": "179c140f",
   "metadata": {},
   "outputs": [
    {
     "data": {
      "text/plain": [
       "0"
      ]
     },
     "execution_count": 5,
     "metadata": {},
     "output_type": "execute_result"
    }
   ],
   "source": [
    "df.duplicated().sum()"
   ]
  },
  {
   "cell_type": "code",
   "execution_count": 6,
   "id": "6c3298a2",
   "metadata": {},
   "outputs": [
    {
     "data": {
      "text/html": [
       "<div>\n",
       "<style scoped>\n",
       "    .dataframe tbody tr th:only-of-type {\n",
       "        vertical-align: middle;\n",
       "    }\n",
       "\n",
       "    .dataframe tbody tr th {\n",
       "        vertical-align: top;\n",
       "    }\n",
       "\n",
       "    .dataframe thead th {\n",
       "        text-align: right;\n",
       "    }\n",
       "</style>\n",
       "<table border=\"1\" class=\"dataframe\">\n",
       "  <thead>\n",
       "    <tr style=\"text-align: right;\">\n",
       "      <th></th>\n",
       "      <th>count</th>\n",
       "      <th>mean</th>\n",
       "      <th>std</th>\n",
       "      <th>min</th>\n",
       "      <th>25%</th>\n",
       "      <th>50%</th>\n",
       "      <th>75%</th>\n",
       "      <th>max</th>\n",
       "    </tr>\n",
       "  </thead>\n",
       "  <tbody>\n",
       "    <tr>\n",
       "      <th>Age</th>\n",
       "      <td>1000.0</td>\n",
       "      <td>40.106</td>\n",
       "      <td>10.707</td>\n",
       "      <td>18.0</td>\n",
       "      <td>32.0</td>\n",
       "      <td>40.0</td>\n",
       "      <td>48.0</td>\n",
       "      <td>63.0</td>\n",
       "    </tr>\n",
       "    <tr>\n",
       "      <th>AnnualSalary</th>\n",
       "      <td>1000.0</td>\n",
       "      <td>72689.000</td>\n",
       "      <td>34488.342</td>\n",
       "      <td>15000.0</td>\n",
       "      <td>46375.0</td>\n",
       "      <td>72000.0</td>\n",
       "      <td>90000.0</td>\n",
       "      <td>152500.0</td>\n",
       "    </tr>\n",
       "  </tbody>\n",
       "</table>\n",
       "</div>"
      ],
      "text/plain": [
       "               count       mean        std      min      25%      50%  \\\n",
       "Age           1000.0     40.106     10.707     18.0     32.0     40.0   \n",
       "AnnualSalary  1000.0  72689.000  34488.342  15000.0  46375.0  72000.0   \n",
       "\n",
       "                  75%       max  \n",
       "Age              48.0      63.0  \n",
       "AnnualSalary  90000.0  152500.0  "
      ]
     },
     "execution_count": 6,
     "metadata": {},
     "output_type": "execute_result"
    }
   ],
   "source": [
    "df[['Age', 'AnnualSalary']].describe().round(3).T"
   ]
  },
  {
   "cell_type": "code",
   "execution_count": 20,
   "id": "4d568d1b",
   "metadata": {},
   "outputs": [
    {
     "data": {
      "image/png": "[encoded data removed]",
      "text/plain": [
       "<Figure size 640x480 with 1 Axes>"
      ]
     },
     "metadata": {},
     "output_type": "display_data"
    },
    {
     "data": {
      "image/png": "[encoded data removed]",
      "text/plain": [
       "<Figure size 640x480 with 1 Axes>"
      ]
     },
     "metadata": {},
     "output_type": "display_data"
    }
   ],
   "source": [
    "%matplotlib inline\n",
    "\n",
    "# Boxplot for Age\n",
    "plt.boxplot(df['Age'])\n",
    "plt.xticks([1], ['Age'])\n",
    "plt.title('Boxplot of Age')\n",
    "plt.ylabel('Age')\n",
    "plt.show()\n",
    "\n",
    "# Boxplot for Annual Salary\n",
    "plt.boxplot(df['AnnualSalary'])\n",
    "plt.xticks([1], ['Annual Salary'])\n",
    "plt.title('Boxplot of Annual Salary')\n",
    "plt.ylabel('Salary')\n",
    "plt.show()"
   ]
  },
  {
   "cell_type": "code",
   "execution_count": 8,
   "metadata": {
    "execution": {
     "iopub.execute_input": "2024-01-03T16:01:10.496637Z",
     "iopub.status.busy": "2024-01-03T16:01:10.496222Z",
     "iopub.status.idle": "2024-01-03T16:01:10.504271Z",
     "shell.execute_reply": "2024-01-03T16:01:10.502890Z",
     "shell.execute_reply.started": "2024-01-03T16:01:10.496605Z"
    },
    "trusted": true
   },
   "outputs": [],
   "source": [
    "df['Gender'] = df['Gender'].map({'Female': 1, 'Male': 0})"
   ]
  },
  {
   "cell_type": "code",
   "execution_count": 9,
   "metadata": {
    "execution": {
     "iopub.execute_input": "2024-01-03T16:01:10.727363Z",
     "iopub.status.busy": "2024-01-03T16:01:10.726894Z",
     "iopub.status.idle": "2024-01-03T16:01:10.738396Z",
     "shell.execute_reply": "2024-01-03T16:01:10.736986Z",
     "shell.execute_reply.started": "2024-01-03T16:01:10.727315Z"
    },
    "trusted": true
   },
   "outputs": [
    {
     "data": {
      "text/plain": [
       "Gender\n",
       "1    516\n",
       "0    484\n",
       "Name: count, dtype: int64"
      ]
     },
     "execution_count": 9,
     "metadata": {},
     "output_type": "execute_result"
    }
   ],
   "source": [
    "df['Gender'].value_counts()"
   ]
  },
  {
   "cell_type": "code",
   "execution_count": 10,
   "id": "c5dd02cd",
   "metadata": {},
   "outputs": [
    {
     "data": {
      "text/plain": [
       "Purchased\n",
       "0    598\n",
       "1    402\n",
       "Name: count, dtype: int64"
      ]
     },
     "execution_count": 10,
     "metadata": {},
     "output_type": "execute_result"
    }
   ],
   "source": [
    "df['Purchased'].value_counts()"
   ]
  },
  {
   "cell_type": "markdown",
   "id": "f89ecee1",
   "metadata": {},
   "source": [
    "# Training"
   ]
  },
  {
   "cell_type": "code",
   "execution_count": 29,
   "metadata": {
    "execution": {
     "iopub.execute_input": "2024-01-03T16:01:10.940472Z",
     "iopub.status.busy": "2024-01-03T16:01:10.940040Z",
     "iopub.status.idle": "2024-01-03T16:01:10.948088Z",
     "shell.execute_reply": "2024-01-03T16:01:10.946274Z",
     "shell.execute_reply.started": "2024-01-03T16:01:10.940437Z"
    },
    "trusted": true
   },
   "outputs": [
    {
     "name": "stdout",
     "output_type": "stream",
     "text": [
      "F1 Score: 0.8629 ± 0.0414\n"
     ]
    }
   ],
   "source": [
    "# Prepare the data\n",
    "feature_names = ['Age', 'Gender', 'AnnualSalary']\n",
    "X = df[feature_names]\n",
    "y = df['Purchased']\n",
    "\n",
    "# Split the data into training and testing sets\n",
    "X_train, X_test, y_train, y_test = train_test_split(X, y, test_size=0.2, random_state=42, stratify=y)\n",
    "\n",
    "# Define the cross-validation strategy\n",
    "cv = RepeatedStratifiedKFold(n_splits=10, n_repeats=3, random_state=42)\n",
    "\n",
    "# Create base model\n",
    "xgb = XGBClassifier(\n",
    "    objective='binary:logistic',\n",
    "    eval_metric='logloss',\n",
    "    use_label_encoder=False,\n",
    "    random_state=42,\n",
    "    scale_pos_weight=(df['Purchased'].value_counts()[0] / df['Purchased'].value_counts()[1] if df['Purchased'].value_counts()[1] > 0 else 1)\n",
    ")\n",
    "\n",
    "# Result\n",
    "scores = cross_val_score(xgb, X_train, y_train, scoring='f1', cv=cv, n_jobs=-1)\n",
    "print(f\"F1 Score: {np.mean(scores):.4f} ± {np.std(scores):.4f}\")"
   ]
  },
  {
   "cell_type": "code",
   "execution_count": 30,
   "metadata": {
    "execution": {
     "iopub.execute_input": "2024-01-03T16:01:11.354315Z",
     "iopub.status.busy": "2024-01-03T16:01:11.353880Z",
     "iopub.status.idle": "2024-01-03T16:01:11.362896Z",
     "shell.execute_reply": "2024-01-03T16:01:11.361845Z",
     "shell.execute_reply.started": "2024-01-03T16:01:11.354278Z"
    },
    "trusted": true
   },
   "outputs": [
    {
     "data": {
      "image/png": "[encoded data removed]",
      "text/plain": [
       "<Figure size 600x500 with 2 Axes>"
      ]
     },
     "metadata": {},
     "output_type": "display_data"
    }
   ],
   "source": [
    "y_pred = xgb.fit(X_train, y_train).predict(X_test)\n",
    "cm = confusion_matrix(y_test, y_pred)\n",
    "\n",
    "# Plot confusion matrix\n",
    "plt.figure(figsize=(6, 5))\n",
    "plt.imshow(cm, interpolation='nearest', cmap=plt.cm.Blues)\n",
    "plt.title('Confusion Matrix')\n",
    "plt.colorbar()\n",
    "\n",
    "tick_marks = np.arange(2)\n",
    "plt.xticks(tick_marks, ['Not Purchased', 'Purchased'])\n",
    "plt.yticks(tick_marks, ['Not Purchased', 'Purchased'])\n",
    "\n",
    "# Add counts inside the squares\n",
    "for i in range(cm.shape[0]):\n",
    "    for j in range(cm.shape[1]):\n",
    "        plt.text(j, i, cm[i, j], ha='center', va='center', color='white' if cm[i, j] > cm.max() / 2 else 'black')\n",
    "\n",
    "plt.ylabel('True label')\n",
    "plt.xlabel('Predicted label')\n",
    "plt.tight_layout()\n",
    "plt.show()"
   ]
  },
  {
   "cell_type": "code",
   "execution_count": 31,
   "id": "53ef7d16",
   "metadata": {},
   "outputs": [
    {
     "name": "stdout",
     "output_type": "stream",
     "text": [
      "Classification Report:\n",
      "\n",
      "               precision    recall  f1-score   support\n",
      "\n",
      "Not Purchased       0.92      0.92      0.92       120\n",
      "    Purchased       0.88      0.88      0.88        80\n",
      "\n",
      "     accuracy                           0.90       200\n",
      "    macro avg       0.90      0.90      0.90       200\n",
      " weighted avg       0.90      0.90      0.90       200\n",
      "\n"
     ]
    }
   ],
   "source": [
    "# Print classification metrics\n",
    "print(\"Classification Report:\\n\")\n",
    "print(classification_report(y_test, y_pred, target_names=['Not Purchased', 'Purchased']))"
   ]
  },
  {
   "cell_type": "markdown",
   "id": "89292fd3",
   "metadata": {},
   "source": [
    "# Final Model"
   ]
  },
  {
   "cell_type": "code",
   "execution_count": 28,
   "id": "69ab06f7",
   "metadata": {},
   "outputs": [
    {
     "data": {
      "text/plain": [
       "['model.joblib']"
      ]
     },
     "execution_count": 28,
     "metadata": {},
     "output_type": "execute_result"
    }
   ],
   "source": [
    "# Prepare the data\n",
    "feature_names = ['Age', 'Gender', 'AnnualSalary']\n",
    "X = df[feature_names]\n",
    "y = df['Purchased']\n",
    "\n",
    "# Create base model\n",
    "model = XGBClassifier(\n",
    "    objective='binary:logistic',\n",
    "    eval_metric='logloss',\n",
    "    use_label_encoder=False,\n",
    "    random_state=42,\n",
    "    scale_pos_weight=(df['Purchased'].value_counts()[0] / df['Purchased'].value_counts()[1] if df['Purchased'].value_counts()[1] > 0 else 1)\n",
    ")\n",
    "\n",
    "# Fit\n",
    "model.fit(X, y)\n",
    "\n",
    "# Dump the model to a file\n",
    "dump(model,'model.joblib')"
   ]
  }
 ],
 "metadata": {
  "kaggle": {
   "accelerator": "none",
   "dataSources": [
    {
     "datasetId": 2329085,
     "sourceId": 3922215,
     "sourceType": "datasetVersion"
    }
   ],
   "dockerImageVersionId": 30626,
   "isGpuEnabled": false,
   "isInternetEnabled": true,
   "language": "python",
   "sourceType": "notebook"
  },
  "kernelspec": {
   "display_name": "venv",
   "language": "python",
   "name": "python3"
  },
  "language_info": {
   "codemirror_mode": {
    "name": "ipython",
    "version": 3
   },
   "file_extension": ".py",
   "mimetype": "text/x-python",
   "name": "python",
   "nbconvert_exporter": "python",
   "pygments_lexer": "ipython3",
   "version": "3.10.11"
  }
 },
 "nbformat": 4,
 "nbformat_minor": 5
}
