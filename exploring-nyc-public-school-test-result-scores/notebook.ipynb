{
 "cells": [
  {
   "cell_type": "markdown",
   "id": "d0362617",
   "metadata": {},
   "source": [
    "# Project Description"
   ]
  },
  {
   "cell_type": "markdown",
   "id": "fe0ea788-58dd-459e-8976-fafdb5c05c6d",
   "metadata": {},
   "source": [
    "Every year, American high school students take SATs, which are standardized tests intended to measure literacy, numeracy, and writing skills. There are three sections - reading, math, and writing, each with a **maximum score of 800 points**. These tests are extremely important for students and colleges, as they play a pivotal role in the admissions process.\n",
    "\n",
    "Analyzing the performance of schools is important for a variety of stakeholders, including policy and education professionals, researchers, government, and even parents considering which school their children should attend. \n",
    "\n",
    "You have been provided with a dataset called `schools.csv`, which is previewed below.\n",
    "\n",
    "You have been tasked with answering three key questions about New York City (NYC) public school SAT performance."
   ]
  },
  {
   "cell_type": "code",
   "execution_count": 1,
   "id": "d0eb4f16-5a99-460d-a5ba-706b7ef0bbe7",
   "metadata": {
    "executionCancelledAt": null,
    "executionTime": 52,
    "id": "bA5ajAmk7XH6",
    "lastExecutedAt": 1730819358772,
    "lastExecutedByKernel": "14fc54de-92e4-424b-8748-f89df99dea91",
    "lastScheduledRunId": null,
    "lastSuccessfullyExecutedCode": "# Re-run this cell \nimport pandas as pd\n\n# Read in the data\nschools = pd.read_csv(\"schools.csv\")\n\n# Preview the data\nschools.head()\n\n# Start coding here...\n# Add as many cells as you like...",
    "outputsMetadata": {
     "0": {
      "height": 239,
      "type": "dataFrame"
     }
    }
   },
   "outputs": [
    {
     "data": {
      "text/html": [
       "<div>\n",
       "<style scoped>\n",
       "    .dataframe tbody tr th:only-of-type {\n",
       "        vertical-align: middle;\n",
       "    }\n",
       "\n",
       "    .dataframe tbody tr th {\n",
       "        vertical-align: top;\n",
       "    }\n",
       "\n",
       "    .dataframe thead th {\n",
       "        text-align: right;\n",
       "    }\n",
       "</style>\n",
       "<table border=\"1\" class=\"dataframe\">\n",
       "  <thead>\n",
       "    <tr style=\"text-align: right;\">\n",
       "      <th></th>\n",
       "      <th>school_name</th>\n",
       "      <th>borough</th>\n",
       "      <th>building_code</th>\n",
       "      <th>average_math</th>\n",
       "      <th>average_reading</th>\n",
       "      <th>average_writing</th>\n",
       "      <th>percent_tested</th>\n",
       "    </tr>\n",
       "  </thead>\n",
       "  <tbody>\n",
       "    <tr>\n",
       "      <th>0</th>\n",
       "      <td>New Explorations into Science, Technology and ...</td>\n",
       "      <td>Manhattan</td>\n",
       "      <td>M022</td>\n",
       "      <td>657</td>\n",
       "      <td>601</td>\n",
       "      <td>601</td>\n",
       "      <td>NaN</td>\n",
       "    </tr>\n",
       "    <tr>\n",
       "      <th>1</th>\n",
       "      <td>Essex Street Academy</td>\n",
       "      <td>Manhattan</td>\n",
       "      <td>M445</td>\n",
       "      <td>395</td>\n",
       "      <td>411</td>\n",
       "      <td>387</td>\n",
       "      <td>78.9</td>\n",
       "    </tr>\n",
       "    <tr>\n",
       "      <th>2</th>\n",
       "      <td>Lower Manhattan Arts Academy</td>\n",
       "      <td>Manhattan</td>\n",
       "      <td>M445</td>\n",
       "      <td>418</td>\n",
       "      <td>428</td>\n",
       "      <td>415</td>\n",
       "      <td>65.1</td>\n",
       "    </tr>\n",
       "    <tr>\n",
       "      <th>3</th>\n",
       "      <td>High School for Dual Language and Asian Studies</td>\n",
       "      <td>Manhattan</td>\n",
       "      <td>M445</td>\n",
       "      <td>613</td>\n",
       "      <td>453</td>\n",
       "      <td>463</td>\n",
       "      <td>95.9</td>\n",
       "    </tr>\n",
       "    <tr>\n",
       "      <th>4</th>\n",
       "      <td>Henry Street School for International Studies</td>\n",
       "      <td>Manhattan</td>\n",
       "      <td>M056</td>\n",
       "      <td>410</td>\n",
       "      <td>406</td>\n",
       "      <td>381</td>\n",
       "      <td>59.7</td>\n",
       "    </tr>\n",
       "  </tbody>\n",
       "</table>\n",
       "</div>"
      ],
      "text/plain": [
       "                                         school_name    borough building_code  \\\n",
       "0  New Explorations into Science, Technology and ...  Manhattan          M022   \n",
       "1                               Essex Street Academy  Manhattan          M445   \n",
       "2                       Lower Manhattan Arts Academy  Manhattan          M445   \n",
       "3    High School for Dual Language and Asian Studies  Manhattan          M445   \n",
       "4      Henry Street School for International Studies  Manhattan          M056   \n",
       "\n",
       "   average_math  average_reading  average_writing  percent_tested  \n",
       "0           657              601              601             NaN  \n",
       "1           395              411              387            78.9  \n",
       "2           418              428              415            65.1  \n",
       "3           613              453              463            95.9  \n",
       "4           410              406              381            59.7  "
      ]
     },
     "execution_count": 1,
     "metadata": {},
     "output_type": "execute_result"
    }
   ],
   "source": [
    "# Re-run this cell \n",
    "import pandas as pd\n",
    "\n",
    "# Read in the data\n",
    "schools = pd.read_csv(\"schools.csv\")\n",
    "\n",
    "# Preview the data\n",
    "schools.head()\n",
    "\n",
    "# Start coding here...\n",
    "# Add as many cells as you like..."
   ]
  },
  {
   "cell_type": "markdown",
   "id": "1ab9e242-8439-478d-9004-9aacc5f566cd",
   "metadata": {},
   "source": [
    "# Inspect the dataset"
   ]
  },
  {
   "cell_type": "code",
   "execution_count": 2,
   "id": "bd807e2f-28d0-4671-bd57-caaf4c598b0d",
   "metadata": {
    "executionCancelledAt": null,
    "executionTime": 52,
    "lastExecutedAt": 1730819358824,
    "lastExecutedByKernel": "14fc54de-92e4-424b-8748-f89df99dea91",
    "lastScheduledRunId": null,
    "lastSuccessfullyExecutedCode": "schools.info()"
   },
   "outputs": [
    {
     "name": "stdout",
     "output_type": "stream",
     "text": [
      "<class 'pandas.core.frame.DataFrame'>\n",
      "RangeIndex: 375 entries, 0 to 374\n",
      "Data columns (total 7 columns):\n",
      " #   Column           Non-Null Count  Dtype  \n",
      "---  ------           --------------  -----  \n",
      " 0   school_name      375 non-null    object \n",
      " 1   borough          375 non-null    object \n",
      " 2   building_code    375 non-null    object \n",
      " 3   average_math     375 non-null    int64  \n",
      " 4   average_reading  375 non-null    int64  \n",
      " 5   average_writing  375 non-null    int64  \n",
      " 6   percent_tested   355 non-null    float64\n",
      "dtypes: float64(1), int64(3), object(3)\n",
      "memory usage: 20.6+ KB\n"
     ]
    }
   ],
   "source": [
    "schools.info()"
   ]
  },
  {
   "cell_type": "markdown",
   "id": "71b3687e-ddbb-4522-ab17-fc7784c15c25",
   "metadata": {},
   "source": [
    "# The NYC schools that have the best math results"
   ]
  },
  {
   "cell_type": "code",
   "execution_count": 3,
   "id": "2530c7db-73c2-4002-b677-2a95eaf97142",
   "metadata": {
    "executionCancelledAt": null,
    "executionTime": 60,
    "lastExecutedAt": 1730819358884,
    "lastExecutedByKernel": "14fc54de-92e4-424b-8748-f89df99dea91",
    "lastScheduledRunId": null,
    "lastSuccessfullyExecutedCode": "# Define the threshold for the best math results\nthreshold = 0.8 * 800\n\n# Filter the schools that have at least 80% of the maximum possible score in math\nbest_math_schools = schools[schools['average_math'] >= threshold][['school_name', 'average_math']]\n\n# Sort the result by \"average_math\" in descending order\nbest_math_schools = best_math_schools.sort_values(by='average_math', ascending=False)\n\n# Display the result\nbest_math_schools"
   },
   "outputs": [
    {
     "data": {
      "text/html": [
       "<div>\n",
       "<style scoped>\n",
       "    .dataframe tbody tr th:only-of-type {\n",
       "        vertical-align: middle;\n",
       "    }\n",
       "\n",
       "    .dataframe tbody tr th {\n",
       "        vertical-align: top;\n",
       "    }\n",
       "\n",
       "    .dataframe thead th {\n",
       "        text-align: right;\n",
       "    }\n",
       "</style>\n",
       "<table border=\"1\" class=\"dataframe\">\n",
       "  <thead>\n",
       "    <tr style=\"text-align: right;\">\n",
       "      <th></th>\n",
       "      <th>school_name</th>\n",
       "      <th>average_math</th>\n",
       "    </tr>\n",
       "  </thead>\n",
       "  <tbody>\n",
       "    <tr>\n",
       "      <th>88</th>\n",
       "      <td>Stuyvesant High School</td>\n",
       "      <td>754</td>\n",
       "    </tr>\n",
       "    <tr>\n",
       "      <th>170</th>\n",
       "      <td>Bronx High School of Science</td>\n",
       "      <td>714</td>\n",
       "    </tr>\n",
       "    <tr>\n",
       "      <th>93</th>\n",
       "      <td>Staten Island Technical High School</td>\n",
       "      <td>711</td>\n",
       "    </tr>\n",
       "    <tr>\n",
       "      <th>365</th>\n",
       "      <td>Queens High School for the Sciences at York Co...</td>\n",
       "      <td>701</td>\n",
       "    </tr>\n",
       "    <tr>\n",
       "      <th>68</th>\n",
       "      <td>High School for Mathematics, Science, and Engi...</td>\n",
       "      <td>683</td>\n",
       "    </tr>\n",
       "    <tr>\n",
       "      <th>280</th>\n",
       "      <td>Brooklyn Technical High School</td>\n",
       "      <td>682</td>\n",
       "    </tr>\n",
       "    <tr>\n",
       "      <th>333</th>\n",
       "      <td>Townsend Harris High School</td>\n",
       "      <td>680</td>\n",
       "    </tr>\n",
       "    <tr>\n",
       "      <th>174</th>\n",
       "      <td>High School of American Studies at Lehman College</td>\n",
       "      <td>669</td>\n",
       "    </tr>\n",
       "    <tr>\n",
       "      <th>0</th>\n",
       "      <td>New Explorations into Science, Technology and ...</td>\n",
       "      <td>657</td>\n",
       "    </tr>\n",
       "    <tr>\n",
       "      <th>45</th>\n",
       "      <td>Eleanor Roosevelt High School</td>\n",
       "      <td>641</td>\n",
       "    </tr>\n",
       "  </tbody>\n",
       "</table>\n",
       "</div>"
      ],
      "text/plain": [
       "                                           school_name  average_math\n",
       "88                              Stuyvesant High School           754\n",
       "170                       Bronx High School of Science           714\n",
       "93                 Staten Island Technical High School           711\n",
       "365  Queens High School for the Sciences at York Co...           701\n",
       "68   High School for Mathematics, Science, and Engi...           683\n",
       "280                     Brooklyn Technical High School           682\n",
       "333                        Townsend Harris High School           680\n",
       "174  High School of American Studies at Lehman College           669\n",
       "0    New Explorations into Science, Technology and ...           657\n",
       "45                       Eleanor Roosevelt High School           641"
      ]
     },
     "execution_count": 3,
     "metadata": {},
     "output_type": "execute_result"
    }
   ],
   "source": [
    "# Define the threshold for the best math results\n",
    "threshold = 0.8 * 800\n",
    "\n",
    "# Filter the schools that have at least 80% of the maximum possible score in math\n",
    "best_math_schools = schools[schools['average_math'] >= threshold][['school_name', 'average_math']]\n",
    "\n",
    "# Sort the result by \"average_math\" in descending order\n",
    "best_math_schools = best_math_schools.sort_values(by='average_math', ascending=False)\n",
    "\n",
    "# Display the result\n",
    "best_math_schools"
   ]
  },
  {
   "cell_type": "markdown",
   "id": "d1bb8aeb-8ed9-4307-b2b7-3bff5562cc47",
   "metadata": {},
   "source": [
    "# The top performing schools based on the combined SAT scores"
   ]
  },
  {
   "cell_type": "code",
   "execution_count": 4,
   "id": "0d8b6c7d-b268-43d4-b8d9-965607431170",
   "metadata": {
    "chartConfig": {
     "bar": {
      "hasRoundedCorners": true,
      "stacked": false
     },
     "type": "bar",
     "version": "v1"
    },
    "executionCancelledAt": null,
    "executionTime": 52,
    "lastExecutedAt": 1730819358936,
    "lastExecutedByKernel": "14fc54de-92e4-424b-8748-f89df99dea91",
    "lastScheduledRunId": null,
    "lastSuccessfullyExecutedCode": "# Calculate the total SAT score for each school\nschools['total_SAT'] = schools['average_math'] + schools['average_reading'] + schools['average_writing']\n\n# Sort the schools by total SAT score in descending order\ntop_10_schools = schools[['school_name', 'total_SAT']].sort_values(by='total_SAT', ascending=False).head(10)\n\n# Display the result\ntop_10_schools",
    "visualizeDataframe": false
   },
   "outputs": [
    {
     "data": {
      "text/html": [
       "<div>\n",
       "<style scoped>\n",
       "    .dataframe tbody tr th:only-of-type {\n",
       "        vertical-align: middle;\n",
       "    }\n",
       "\n",
       "    .dataframe tbody tr th {\n",
       "        vertical-align: top;\n",
       "    }\n",
       "\n",
       "    .dataframe thead th {\n",
       "        text-align: right;\n",
       "    }\n",
       "</style>\n",
       "<table border=\"1\" class=\"dataframe\">\n",
       "  <thead>\n",
       "    <tr style=\"text-align: right;\">\n",
       "      <th></th>\n",
       "      <th>school_name</th>\n",
       "      <th>total_SAT</th>\n",
       "    </tr>\n",
       "  </thead>\n",
       "  <tbody>\n",
       "    <tr>\n",
       "      <th>88</th>\n",
       "      <td>Stuyvesant High School</td>\n",
       "      <td>2144</td>\n",
       "    </tr>\n",
       "    <tr>\n",
       "      <th>170</th>\n",
       "      <td>Bronx High School of Science</td>\n",
       "      <td>2041</td>\n",
       "    </tr>\n",
       "    <tr>\n",
       "      <th>93</th>\n",
       "      <td>Staten Island Technical High School</td>\n",
       "      <td>2041</td>\n",
       "    </tr>\n",
       "    <tr>\n",
       "      <th>174</th>\n",
       "      <td>High School of American Studies at Lehman College</td>\n",
       "      <td>2013</td>\n",
       "    </tr>\n",
       "    <tr>\n",
       "      <th>333</th>\n",
       "      <td>Townsend Harris High School</td>\n",
       "      <td>1981</td>\n",
       "    </tr>\n",
       "    <tr>\n",
       "      <th>365</th>\n",
       "      <td>Queens High School for the Sciences at York Co...</td>\n",
       "      <td>1947</td>\n",
       "    </tr>\n",
       "    <tr>\n",
       "      <th>5</th>\n",
       "      <td>Bard High School Early College</td>\n",
       "      <td>1914</td>\n",
       "    </tr>\n",
       "    <tr>\n",
       "      <th>280</th>\n",
       "      <td>Brooklyn Technical High School</td>\n",
       "      <td>1896</td>\n",
       "    </tr>\n",
       "    <tr>\n",
       "      <th>45</th>\n",
       "      <td>Eleanor Roosevelt High School</td>\n",
       "      <td>1889</td>\n",
       "    </tr>\n",
       "    <tr>\n",
       "      <th>68</th>\n",
       "      <td>High School for Mathematics, Science, and Engi...</td>\n",
       "      <td>1889</td>\n",
       "    </tr>\n",
       "  </tbody>\n",
       "</table>\n",
       "</div>"
      ],
      "text/plain": [
       "                                           school_name  total_SAT\n",
       "88                              Stuyvesant High School       2144\n",
       "170                       Bronx High School of Science       2041\n",
       "93                 Staten Island Technical High School       2041\n",
       "174  High School of American Studies at Lehman College       2013\n",
       "333                        Townsend Harris High School       1981\n",
       "365  Queens High School for the Sciences at York Co...       1947\n",
       "5                       Bard High School Early College       1914\n",
       "280                     Brooklyn Technical High School       1896\n",
       "45                       Eleanor Roosevelt High School       1889\n",
       "68   High School for Mathematics, Science, and Engi...       1889"
      ]
     },
     "execution_count": 4,
     "metadata": {},
     "output_type": "execute_result"
    }
   ],
   "source": [
    "# Calculate the total SAT score for each school\n",
    "schools['total_SAT'] = schools['average_math'] + schools['average_reading'] + schools['average_writing']\n",
    "\n",
    "# Sort the schools by total SAT score in descending order\n",
    "top_10_schools = schools[['school_name', 'total_SAT']].sort_values(by='total_SAT', ascending=False).head(10)\n",
    "\n",
    "# Display the result\n",
    "top_10_schools"
   ]
  },
  {
   "cell_type": "markdown",
   "id": "9abb872a-0997-4a83-b92a-2afadb1ace8c",
   "metadata": {},
   "source": [
    "# The single borough that has the largest standard deviation in the combined SAT score"
   ]
  },
  {
   "cell_type": "code",
   "execution_count": 6,
   "id": "6ba0e7b5-eed6-42dd-a767-a2d7fc416615",
   "metadata": {
    "executionCancelledAt": null,
    "executionTime": 69,
    "lastExecutedAt": 1730819359005,
    "lastExecutedByKernel": "14fc54de-92e4-424b-8748-f89df99dea91",
    "lastScheduledRunId": null,
    "lastSuccessfullyExecutedCode": "# Group by borough and calculate the required statistics\nborough_stats = schools.groupby('borough')['total_SAT'].agg(['mean', 'std', 'count']).reset_index()\n\n# # Rename the columns for clarity\nborough_stats.columns = ['borough', 'average_SAT', 'std_SAT', 'num_schools']\n\n# Find the borough with the largest standard deviation in total SAT score\nlargest_std_dev = borough_stats.loc[borough_stats['std_SAT'].idxmax()]\n\n# Round the numeric values to two decimal places\nlargest_std_dev['average_SAT'] = largest_std_dev['average_SAT'].round(2)\nlargest_std_dev['std_SAT'] = largest_std_dev['std_SAT'].round(2)\n\n# Convert the result to a DataFrame\nlargest_std_dev = largest_std_dev.to_frame().T\n\n# # Display the result\nlargest_std_dev"
   },
   "outputs": [
    {
     "data": {
      "text/html": [
       "<div>\n",
       "<style scoped>\n",
       "    .dataframe tbody tr th:only-of-type {\n",
       "        vertical-align: middle;\n",
       "    }\n",
       "\n",
       "    .dataframe tbody tr th {\n",
       "        vertical-align: top;\n",
       "    }\n",
       "\n",
       "    .dataframe thead th {\n",
       "        text-align: right;\n",
       "    }\n",
       "</style>\n",
       "<table border=\"1\" class=\"dataframe\">\n",
       "  <thead>\n",
       "    <tr style=\"text-align: right;\">\n",
       "      <th></th>\n",
       "      <th>borough</th>\n",
       "      <th>average_SAT</th>\n",
       "      <th>std_SAT</th>\n",
       "      <th>num_schools</th>\n",
       "    </tr>\n",
       "  </thead>\n",
       "  <tbody>\n",
       "    <tr>\n",
       "      <th>2</th>\n",
       "      <td>Manhattan</td>\n",
       "      <td>1340.13</td>\n",
       "      <td>230.29</td>\n",
       "      <td>89</td>\n",
       "    </tr>\n",
       "  </tbody>\n",
       "</table>\n",
       "</div>"
      ],
      "text/plain": [
       "     borough average_SAT std_SAT num_schools\n",
       "2  Manhattan     1340.13  230.29          89"
      ]
     },
     "execution_count": 6,
     "metadata": {},
     "output_type": "execute_result"
    }
   ],
   "source": [
    "# Group by borough and calculate the required statistics\n",
    "borough_stats = schools.groupby('borough')['total_SAT'].agg(['mean', 'std', 'count']).reset_index()\n",
    "\n",
    "# Rename the columns for clarity\n",
    "borough_stats.columns = ['borough', 'average_SAT', 'std_SAT', 'num_schools']\n",
    "\n",
    "# Find the borough with the largest standard deviation in total SAT score\n",
    "largest_std_dev = borough_stats.loc[borough_stats['std_SAT'].idxmax()].copy()\n",
    "\n",
    "# Round the numeric values to two decimal places\n",
    "largest_std_dev['average_SAT'] = largest_std_dev['average_SAT'].round(2)\n",
    "largest_std_dev['std_SAT'] = largest_std_dev['std_SAT'].round(2)\n",
    "\n",
    "# Convert the result to a DataFrame\n",
    "largest_std_dev = largest_std_dev.to_frame().T\n",
    "\n",
    "# # Display the result\n",
    "largest_std_dev"
   ]
  }
 ],
 "metadata": {
  "editor": "DataLab",
  "kernelspec": {
   "display_name": "experimentation",
   "language": "python",
   "name": "python3"
  },
  "language_info": {
   "codemirror_mode": {
    "name": "ipython",
    "version": 3
   },
   "file_extension": ".py",
   "mimetype": "text/x-python",
   "name": "python",
   "nbconvert_exporter": "python",
   "pygments_lexer": "ipython3",
   "version": "3.12.3"
  }
 },
 "nbformat": 4,
 "nbformat_minor": 5
}
